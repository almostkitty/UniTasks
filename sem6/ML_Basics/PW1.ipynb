{
  "nbformat": 4,
  "nbformat_minor": 0,
  "metadata": {
    "colab": {
      "provenance": []
    },
    "kernelspec": {
      "name": "python3",
      "display_name": "Python 3"
    },
    "language_info": {
      "name": "python"
    }
  },
  "cells": [
    {
      "cell_type": "markdown",
      "source": [
        "#Практическая работа 1"
      ],
      "metadata": {
        "id": "uvEooJttec0U"
      }
    },
    {
      "cell_type": "markdown",
      "source": [
        "##Выбор датасета\n",
        "- Adult Census Income -- Социально емографические данные переписи США; задача предсказать уровень дохода\n",
        "- Целевая переменная -- ```income (>50K$/≤50K$)```"
      ],
      "metadata": {
        "id": "aGik8v8Ge6ga"
      }
    },
    {
      "cell_type": "markdown",
      "source": [
        "##0. Загрузка данных"
      ],
      "metadata": {
        "id": "Sinc_VLOgyb1"
      }
    },
    {
      "cell_type": "code",
      "source": [
        "! pip install -q kaggle"
      ],
      "metadata": {
        "id": "tHEVN7WKe-N3"
      },
      "execution_count": null,
      "outputs": []
    },
    {
      "cell_type": "code",
      "source": [
        "from google.colab import files\n",
        "files.upload()"
      ],
      "metadata": {
        "colab": {
          "base_uri": "https://localhost:8080/",
          "height": 89
        },
        "id": "Aja_IYskgEFh",
        "outputId": "092255b1-a329-4460-b4ca-0dbe83f15583"
      },
      "execution_count": null,
      "outputs": [
        {
          "output_type": "display_data",
          "data": {
            "text/plain": [
              "<IPython.core.display.HTML object>"
            ],
            "text/html": [
              "\n",
              "     <input type=\"file\" id=\"files-4d143ef4-4791-452f-a9c0-84502aaba4e6\" name=\"files[]\" multiple disabled\n",
              "        style=\"border:none\" />\n",
              "     <output id=\"result-4d143ef4-4791-452f-a9c0-84502aaba4e6\">\n",
              "      Upload widget is only available when the cell has been executed in the\n",
              "      current browser session. Please rerun this cell to enable.\n",
              "      </output>\n",
              "      <script>// Copyright 2017 Google LLC\n",
              "//\n",
              "// Licensed under the Apache License, Version 2.0 (the \"License\");\n",
              "// you may not use this file except in compliance with the License.\n",
              "// You may obtain a copy of the License at\n",
              "//\n",
              "//      http://www.apache.org/licenses/LICENSE-2.0\n",
              "//\n",
              "// Unless required by applicable law or agreed to in writing, software\n",
              "// distributed under the License is distributed on an \"AS IS\" BASIS,\n",
              "// WITHOUT WARRANTIES OR CONDITIONS OF ANY KIND, either express or implied.\n",
              "// See the License for the specific language governing permissions and\n",
              "// limitations under the License.\n",
              "\n",
              "/**\n",
              " * @fileoverview Helpers for google.colab Python module.\n",
              " */\n",
              "(function(scope) {\n",
              "function span(text, styleAttributes = {}) {\n",
              "  const element = document.createElement('span');\n",
              "  element.textContent = text;\n",
              "  for (const key of Object.keys(styleAttributes)) {\n",
              "    element.style[key] = styleAttributes[key];\n",
              "  }\n",
              "  return element;\n",
              "}\n",
              "\n",
              "// Max number of bytes which will be uploaded at a time.\n",
              "const MAX_PAYLOAD_SIZE = 100 * 1024;\n",
              "\n",
              "function _uploadFiles(inputId, outputId) {\n",
              "  const steps = uploadFilesStep(inputId, outputId);\n",
              "  const outputElement = document.getElementById(outputId);\n",
              "  // Cache steps on the outputElement to make it available for the next call\n",
              "  // to uploadFilesContinue from Python.\n",
              "  outputElement.steps = steps;\n",
              "\n",
              "  return _uploadFilesContinue(outputId);\n",
              "}\n",
              "\n",
              "// This is roughly an async generator (not supported in the browser yet),\n",
              "// where there are multiple asynchronous steps and the Python side is going\n",
              "// to poll for completion of each step.\n",
              "// This uses a Promise to block the python side on completion of each step,\n",
              "// then passes the result of the previous step as the input to the next step.\n",
              "function _uploadFilesContinue(outputId) {\n",
              "  const outputElement = document.getElementById(outputId);\n",
              "  const steps = outputElement.steps;\n",
              "\n",
              "  const next = steps.next(outputElement.lastPromiseValue);\n",
              "  return Promise.resolve(next.value.promise).then((value) => {\n",
              "    // Cache the last promise value to make it available to the next\n",
              "    // step of the generator.\n",
              "    outputElement.lastPromiseValue = value;\n",
              "    return next.value.response;\n",
              "  });\n",
              "}\n",
              "\n",
              "/**\n",
              " * Generator function which is called between each async step of the upload\n",
              " * process.\n",
              " * @param {string} inputId Element ID of the input file picker element.\n",
              " * @param {string} outputId Element ID of the output display.\n",
              " * @return {!Iterable<!Object>} Iterable of next steps.\n",
              " */\n",
              "function* uploadFilesStep(inputId, outputId) {\n",
              "  const inputElement = document.getElementById(inputId);\n",
              "  inputElement.disabled = false;\n",
              "\n",
              "  const outputElement = document.getElementById(outputId);\n",
              "  outputElement.innerHTML = '';\n",
              "\n",
              "  const pickedPromise = new Promise((resolve) => {\n",
              "    inputElement.addEventListener('change', (e) => {\n",
              "      resolve(e.target.files);\n",
              "    });\n",
              "  });\n",
              "\n",
              "  const cancel = document.createElement('button');\n",
              "  inputElement.parentElement.appendChild(cancel);\n",
              "  cancel.textContent = 'Cancel upload';\n",
              "  const cancelPromise = new Promise((resolve) => {\n",
              "    cancel.onclick = () => {\n",
              "      resolve(null);\n",
              "    };\n",
              "  });\n",
              "\n",
              "  // Wait for the user to pick the files.\n",
              "  const files = yield {\n",
              "    promise: Promise.race([pickedPromise, cancelPromise]),\n",
              "    response: {\n",
              "      action: 'starting',\n",
              "    }\n",
              "  };\n",
              "\n",
              "  cancel.remove();\n",
              "\n",
              "  // Disable the input element since further picks are not allowed.\n",
              "  inputElement.disabled = true;\n",
              "\n",
              "  if (!files) {\n",
              "    return {\n",
              "      response: {\n",
              "        action: 'complete',\n",
              "      }\n",
              "    };\n",
              "  }\n",
              "\n",
              "  for (const file of files) {\n",
              "    const li = document.createElement('li');\n",
              "    li.append(span(file.name, {fontWeight: 'bold'}));\n",
              "    li.append(span(\n",
              "        `(${file.type || 'n/a'}) - ${file.size} bytes, ` +\n",
              "        `last modified: ${\n",
              "            file.lastModifiedDate ? file.lastModifiedDate.toLocaleDateString() :\n",
              "                                    'n/a'} - `));\n",
              "    const percent = span('0% done');\n",
              "    li.appendChild(percent);\n",
              "\n",
              "    outputElement.appendChild(li);\n",
              "\n",
              "    const fileDataPromise = new Promise((resolve) => {\n",
              "      const reader = new FileReader();\n",
              "      reader.onload = (e) => {\n",
              "        resolve(e.target.result);\n",
              "      };\n",
              "      reader.readAsArrayBuffer(file);\n",
              "    });\n",
              "    // Wait for the data to be ready.\n",
              "    let fileData = yield {\n",
              "      promise: fileDataPromise,\n",
              "      response: {\n",
              "        action: 'continue',\n",
              "      }\n",
              "    };\n",
              "\n",
              "    // Use a chunked sending to avoid message size limits. See b/62115660.\n",
              "    let position = 0;\n",
              "    do {\n",
              "      const length = Math.min(fileData.byteLength - position, MAX_PAYLOAD_SIZE);\n",
              "      const chunk = new Uint8Array(fileData, position, length);\n",
              "      position += length;\n",
              "\n",
              "      const base64 = btoa(String.fromCharCode.apply(null, chunk));\n",
              "      yield {\n",
              "        response: {\n",
              "          action: 'append',\n",
              "          file: file.name,\n",
              "          data: base64,\n",
              "        },\n",
              "      };\n",
              "\n",
              "      let percentDone = fileData.byteLength === 0 ?\n",
              "          100 :\n",
              "          Math.round((position / fileData.byteLength) * 100);\n",
              "      percent.textContent = `${percentDone}% done`;\n",
              "\n",
              "    } while (position < fileData.byteLength);\n",
              "  }\n",
              "\n",
              "  // All done.\n",
              "  yield {\n",
              "    response: {\n",
              "      action: 'complete',\n",
              "    }\n",
              "  };\n",
              "}\n",
              "\n",
              "scope.google = scope.google || {};\n",
              "scope.google.colab = scope.google.colab || {};\n",
              "scope.google.colab._files = {\n",
              "  _uploadFiles,\n",
              "  _uploadFilesContinue,\n",
              "};\n",
              "})(self);\n",
              "</script> "
            ]
          },
          "metadata": {}
        },
        {
          "output_type": "stream",
          "name": "stdout",
          "text": [
            "Saving kaggle.json to kaggle (3).json\n"
          ]
        },
        {
          "output_type": "execute_result",
          "data": {
            "text/plain": [
              "{'kaggle (3).json': b'{\"username\":\"hermanpalchuk\",\"key\":\"a5799fc0b9af5b9accde7d2cce0ca683\"}'}"
            ]
          },
          "metadata": {},
          "execution_count": 2
        }
      ]
    },
    {
      "cell_type": "code",
      "source": [
        "! mkdir ~/.kaggle\n",
        "! cp kaggle.json ~/.kaggle/\n",
        "! chmod 600 ~/.kaggle/kaggle.json"
      ],
      "metadata": {
        "colab": {
          "base_uri": "https://localhost:8080/"
        },
        "id": "0SL30iv5gG36",
        "outputId": "e0cbd192-c4a5-4347-934c-c4ebad7d3805"
      },
      "execution_count": null,
      "outputs": [
        {
          "output_type": "stream",
          "name": "stdout",
          "text": [
            "mkdir: cannot create directory ‘/root/.kaggle’: File exists\n"
          ]
        }
      ]
    },
    {
      "cell_type": "code",
      "source": [
        "! kaggle datasets download -d uciml/adult-census-income"
      ],
      "metadata": {
        "colab": {
          "base_uri": "https://localhost:8080/"
        },
        "id": "jEW_4fbogZMN",
        "outputId": "c5e17ff5-fa3a-4553-87d4-a55e10cef529"
      },
      "execution_count": null,
      "outputs": [
        {
          "output_type": "stream",
          "name": "stdout",
          "text": [
            "Dataset URL: https://www.kaggle.com/datasets/uciml/adult-census-income\n",
            "License(s): CC0-1.0\n",
            "adult-census-income.zip: Skipping, found more recently modified local copy (use --force to force download)\n"
          ]
        }
      ]
    },
    {
      "cell_type": "code",
      "source": [
        "! unzip '/content/adult-census-income.zip' -d '/content/adult-census-income'"
      ],
      "metadata": {
        "colab": {
          "base_uri": "https://localhost:8080/"
        },
        "id": "habpbe38gs39",
        "outputId": "72e2fdc2-f05a-4e06-e458-6c691ccd3a16"
      },
      "execution_count": null,
      "outputs": [
        {
          "output_type": "stream",
          "name": "stdout",
          "text": [
            "Archive:  /content/adult-census-income.zip\n",
            "replace /content/adult-census-income/adult.csv? [y]es, [n]o, [A]ll, [N]one, [r]ename: y\n",
            "  inflating: /content/adult-census-income/adult.csv  \n"
          ]
        }
      ]
    },
    {
      "cell_type": "markdown",
      "source": [
        "##1. Анализ и подготовка данных"
      ],
      "metadata": {
        "id": "5sC9Vm43g6tB"
      }
    },
    {
      "cell_type": "markdown",
      "source": [
        "###1. Чтение данных"
      ],
      "metadata": {
        "id": "KUcfG0QXl1hB"
      }
    },
    {
      "cell_type": "code",
      "source": [
        "import pandas as pd\n",
        "import seaborn as sns\n",
        "import numpy as np"
      ],
      "metadata": {
        "id": "rc6b5Ow9g-N-"
      },
      "execution_count": null,
      "outputs": []
    },
    {
      "cell_type": "code",
      "source": [
        "df = pd.read_csv('/content/adult-census-income/adult.csv')"
      ],
      "metadata": {
        "id": "Axdw15LThJJ4"
      },
      "execution_count": null,
      "outputs": []
    },
    {
      "cell_type": "markdown",
      "source": [
        "###2. Первичный анализ"
      ],
      "metadata": {
        "id": "CNPnmc5Xl8Qb"
      }
    },
    {
      "cell_type": "code",
      "source": [
        "df.shape"
      ],
      "metadata": {
        "colab": {
          "base_uri": "https://localhost:8080/"
        },
        "id": "5WacSQ0nhS8V",
        "outputId": "029231f0-f62b-4bd9-b43d-208a1aed6aca"
      },
      "execution_count": null,
      "outputs": [
        {
          "output_type": "execute_result",
          "data": {
            "text/plain": [
              "(32561, 15)"
            ]
          },
          "metadata": {},
          "execution_count": 8
        }
      ]
    },
    {
      "cell_type": "code",
      "source": [
        "df.head(5)"
      ],
      "metadata": {
        "colab": {
          "base_uri": "https://localhost:8080/",
          "height": 296
        },
        "id": "eW1kBJOKhWjc",
        "outputId": "1e201ffe-6e41-4ba3-e4ca-623165730cf0"
      },
      "execution_count": null,
      "outputs": [
        {
          "output_type": "execute_result",
          "data": {
            "text/plain": [
              "   age workclass  fnlwgt     education  education.num marital.status  \\\n",
              "0   90         ?   77053       HS-grad              9        Widowed   \n",
              "1   82   Private  132870       HS-grad              9        Widowed   \n",
              "2   66         ?  186061  Some-college             10        Widowed   \n",
              "3   54   Private  140359       7th-8th              4       Divorced   \n",
              "4   41   Private  264663  Some-college             10      Separated   \n",
              "\n",
              "          occupation   relationship   race     sex  capital.gain  \\\n",
              "0                  ?  Not-in-family  White  Female             0   \n",
              "1    Exec-managerial  Not-in-family  White  Female             0   \n",
              "2                  ?      Unmarried  Black  Female             0   \n",
              "3  Machine-op-inspct      Unmarried  White  Female             0   \n",
              "4     Prof-specialty      Own-child  White  Female             0   \n",
              "\n",
              "   capital.loss  hours.per.week native.country income  \n",
              "0          4356              40  United-States  <=50K  \n",
              "1          4356              18  United-States  <=50K  \n",
              "2          4356              40  United-States  <=50K  \n",
              "3          3900              40  United-States  <=50K  \n",
              "4          3900              40  United-States  <=50K  "
            ],
            "text/html": [
              "\n",
              "  <div id=\"df-e100eea1-2da7-4c8c-9edb-9dcca4a3e03e\" class=\"colab-df-container\">\n",
              "    <div>\n",
              "<style scoped>\n",
              "    .dataframe tbody tr th:only-of-type {\n",
              "        vertical-align: middle;\n",
              "    }\n",
              "\n",
              "    .dataframe tbody tr th {\n",
              "        vertical-align: top;\n",
              "    }\n",
              "\n",
              "    .dataframe thead th {\n",
              "        text-align: right;\n",
              "    }\n",
              "</style>\n",
              "<table border=\"1\" class=\"dataframe\">\n",
              "  <thead>\n",
              "    <tr style=\"text-align: right;\">\n",
              "      <th></th>\n",
              "      <th>age</th>\n",
              "      <th>workclass</th>\n",
              "      <th>fnlwgt</th>\n",
              "      <th>education</th>\n",
              "      <th>education.num</th>\n",
              "      <th>marital.status</th>\n",
              "      <th>occupation</th>\n",
              "      <th>relationship</th>\n",
              "      <th>race</th>\n",
              "      <th>sex</th>\n",
              "      <th>capital.gain</th>\n",
              "      <th>capital.loss</th>\n",
              "      <th>hours.per.week</th>\n",
              "      <th>native.country</th>\n",
              "      <th>income</th>\n",
              "    </tr>\n",
              "  </thead>\n",
              "  <tbody>\n",
              "    <tr>\n",
              "      <th>0</th>\n",
              "      <td>90</td>\n",
              "      <td>?</td>\n",
              "      <td>77053</td>\n",
              "      <td>HS-grad</td>\n",
              "      <td>9</td>\n",
              "      <td>Widowed</td>\n",
              "      <td>?</td>\n",
              "      <td>Not-in-family</td>\n",
              "      <td>White</td>\n",
              "      <td>Female</td>\n",
              "      <td>0</td>\n",
              "      <td>4356</td>\n",
              "      <td>40</td>\n",
              "      <td>United-States</td>\n",
              "      <td>&lt;=50K</td>\n",
              "    </tr>\n",
              "    <tr>\n",
              "      <th>1</th>\n",
              "      <td>82</td>\n",
              "      <td>Private</td>\n",
              "      <td>132870</td>\n",
              "      <td>HS-grad</td>\n",
              "      <td>9</td>\n",
              "      <td>Widowed</td>\n",
              "      <td>Exec-managerial</td>\n",
              "      <td>Not-in-family</td>\n",
              "      <td>White</td>\n",
              "      <td>Female</td>\n",
              "      <td>0</td>\n",
              "      <td>4356</td>\n",
              "      <td>18</td>\n",
              "      <td>United-States</td>\n",
              "      <td>&lt;=50K</td>\n",
              "    </tr>\n",
              "    <tr>\n",
              "      <th>2</th>\n",
              "      <td>66</td>\n",
              "      <td>?</td>\n",
              "      <td>186061</td>\n",
              "      <td>Some-college</td>\n",
              "      <td>10</td>\n",
              "      <td>Widowed</td>\n",
              "      <td>?</td>\n",
              "      <td>Unmarried</td>\n",
              "      <td>Black</td>\n",
              "      <td>Female</td>\n",
              "      <td>0</td>\n",
              "      <td>4356</td>\n",
              "      <td>40</td>\n",
              "      <td>United-States</td>\n",
              "      <td>&lt;=50K</td>\n",
              "    </tr>\n",
              "    <tr>\n",
              "      <th>3</th>\n",
              "      <td>54</td>\n",
              "      <td>Private</td>\n",
              "      <td>140359</td>\n",
              "      <td>7th-8th</td>\n",
              "      <td>4</td>\n",
              "      <td>Divorced</td>\n",
              "      <td>Machine-op-inspct</td>\n",
              "      <td>Unmarried</td>\n",
              "      <td>White</td>\n",
              "      <td>Female</td>\n",
              "      <td>0</td>\n",
              "      <td>3900</td>\n",
              "      <td>40</td>\n",
              "      <td>United-States</td>\n",
              "      <td>&lt;=50K</td>\n",
              "    </tr>\n",
              "    <tr>\n",
              "      <th>4</th>\n",
              "      <td>41</td>\n",
              "      <td>Private</td>\n",
              "      <td>264663</td>\n",
              "      <td>Some-college</td>\n",
              "      <td>10</td>\n",
              "      <td>Separated</td>\n",
              "      <td>Prof-specialty</td>\n",
              "      <td>Own-child</td>\n",
              "      <td>White</td>\n",
              "      <td>Female</td>\n",
              "      <td>0</td>\n",
              "      <td>3900</td>\n",
              "      <td>40</td>\n",
              "      <td>United-States</td>\n",
              "      <td>&lt;=50K</td>\n",
              "    </tr>\n",
              "  </tbody>\n",
              "</table>\n",
              "</div>\n",
              "    <div class=\"colab-df-buttons\">\n",
              "\n",
              "  <div class=\"colab-df-container\">\n",
              "    <button class=\"colab-df-convert\" onclick=\"convertToInteractive('df-e100eea1-2da7-4c8c-9edb-9dcca4a3e03e')\"\n",
              "            title=\"Convert this dataframe to an interactive table.\"\n",
              "            style=\"display:none;\">\n",
              "\n",
              "  <svg xmlns=\"http://www.w3.org/2000/svg\" height=\"24px\" viewBox=\"0 -960 960 960\">\n",
              "    <path d=\"M120-120v-720h720v720H120Zm60-500h600v-160H180v160Zm220 220h160v-160H400v160Zm0 220h160v-160H400v160ZM180-400h160v-160H180v160Zm440 0h160v-160H620v160ZM180-180h160v-160H180v160Zm440 0h160v-160H620v160Z\"/>\n",
              "  </svg>\n",
              "    </button>\n",
              "\n",
              "  <style>\n",
              "    .colab-df-container {\n",
              "      display:flex;\n",
              "      gap: 12px;\n",
              "    }\n",
              "\n",
              "    .colab-df-convert {\n",
              "      background-color: #E8F0FE;\n",
              "      border: none;\n",
              "      border-radius: 50%;\n",
              "      cursor: pointer;\n",
              "      display: none;\n",
              "      fill: #1967D2;\n",
              "      height: 32px;\n",
              "      padding: 0 0 0 0;\n",
              "      width: 32px;\n",
              "    }\n",
              "\n",
              "    .colab-df-convert:hover {\n",
              "      background-color: #E2EBFA;\n",
              "      box-shadow: 0px 1px 2px rgba(60, 64, 67, 0.3), 0px 1px 3px 1px rgba(60, 64, 67, 0.15);\n",
              "      fill: #174EA6;\n",
              "    }\n",
              "\n",
              "    .colab-df-buttons div {\n",
              "      margin-bottom: 4px;\n",
              "    }\n",
              "\n",
              "    [theme=dark] .colab-df-convert {\n",
              "      background-color: #3B4455;\n",
              "      fill: #D2E3FC;\n",
              "    }\n",
              "\n",
              "    [theme=dark] .colab-df-convert:hover {\n",
              "      background-color: #434B5C;\n",
              "      box-shadow: 0px 1px 3px 1px rgba(0, 0, 0, 0.15);\n",
              "      filter: drop-shadow(0px 1px 2px rgba(0, 0, 0, 0.3));\n",
              "      fill: #FFFFFF;\n",
              "    }\n",
              "  </style>\n",
              "\n",
              "    <script>\n",
              "      const buttonEl =\n",
              "        document.querySelector('#df-e100eea1-2da7-4c8c-9edb-9dcca4a3e03e button.colab-df-convert');\n",
              "      buttonEl.style.display =\n",
              "        google.colab.kernel.accessAllowed ? 'block' : 'none';\n",
              "\n",
              "      async function convertToInteractive(key) {\n",
              "        const element = document.querySelector('#df-e100eea1-2da7-4c8c-9edb-9dcca4a3e03e');\n",
              "        const dataTable =\n",
              "          await google.colab.kernel.invokeFunction('convertToInteractive',\n",
              "                                                    [key], {});\n",
              "        if (!dataTable) return;\n",
              "\n",
              "        const docLinkHtml = 'Like what you see? Visit the ' +\n",
              "          '<a target=\"_blank\" href=https://colab.research.google.com/notebooks/data_table.ipynb>data table notebook</a>'\n",
              "          + ' to learn more about interactive tables.';\n",
              "        element.innerHTML = '';\n",
              "        dataTable['output_type'] = 'display_data';\n",
              "        await google.colab.output.renderOutput(dataTable, element);\n",
              "        const docLink = document.createElement('div');\n",
              "        docLink.innerHTML = docLinkHtml;\n",
              "        element.appendChild(docLink);\n",
              "      }\n",
              "    </script>\n",
              "  </div>\n",
              "\n",
              "\n",
              "    <div id=\"df-57e40485-3bb6-455c-9849-8aa8847ee1f1\">\n",
              "      <button class=\"colab-df-quickchart\" onclick=\"quickchart('df-57e40485-3bb6-455c-9849-8aa8847ee1f1')\"\n",
              "                title=\"Suggest charts\"\n",
              "                style=\"display:none;\">\n",
              "\n",
              "<svg xmlns=\"http://www.w3.org/2000/svg\" height=\"24px\"viewBox=\"0 0 24 24\"\n",
              "     width=\"24px\">\n",
              "    <g>\n",
              "        <path d=\"M19 3H5c-1.1 0-2 .9-2 2v14c0 1.1.9 2 2 2h14c1.1 0 2-.9 2-2V5c0-1.1-.9-2-2-2zM9 17H7v-7h2v7zm4 0h-2V7h2v10zm4 0h-2v-4h2v4z\"/>\n",
              "    </g>\n",
              "</svg>\n",
              "      </button>\n",
              "\n",
              "<style>\n",
              "  .colab-df-quickchart {\n",
              "      --bg-color: #E8F0FE;\n",
              "      --fill-color: #1967D2;\n",
              "      --hover-bg-color: #E2EBFA;\n",
              "      --hover-fill-color: #174EA6;\n",
              "      --disabled-fill-color: #AAA;\n",
              "      --disabled-bg-color: #DDD;\n",
              "  }\n",
              "\n",
              "  [theme=dark] .colab-df-quickchart {\n",
              "      --bg-color: #3B4455;\n",
              "      --fill-color: #D2E3FC;\n",
              "      --hover-bg-color: #434B5C;\n",
              "      --hover-fill-color: #FFFFFF;\n",
              "      --disabled-bg-color: #3B4455;\n",
              "      --disabled-fill-color: #666;\n",
              "  }\n",
              "\n",
              "  .colab-df-quickchart {\n",
              "    background-color: var(--bg-color);\n",
              "    border: none;\n",
              "    border-radius: 50%;\n",
              "    cursor: pointer;\n",
              "    display: none;\n",
              "    fill: var(--fill-color);\n",
              "    height: 32px;\n",
              "    padding: 0;\n",
              "    width: 32px;\n",
              "  }\n",
              "\n",
              "  .colab-df-quickchart:hover {\n",
              "    background-color: var(--hover-bg-color);\n",
              "    box-shadow: 0 1px 2px rgba(60, 64, 67, 0.3), 0 1px 3px 1px rgba(60, 64, 67, 0.15);\n",
              "    fill: var(--button-hover-fill-color);\n",
              "  }\n",
              "\n",
              "  .colab-df-quickchart-complete:disabled,\n",
              "  .colab-df-quickchart-complete:disabled:hover {\n",
              "    background-color: var(--disabled-bg-color);\n",
              "    fill: var(--disabled-fill-color);\n",
              "    box-shadow: none;\n",
              "  }\n",
              "\n",
              "  .colab-df-spinner {\n",
              "    border: 2px solid var(--fill-color);\n",
              "    border-color: transparent;\n",
              "    border-bottom-color: var(--fill-color);\n",
              "    animation:\n",
              "      spin 1s steps(1) infinite;\n",
              "  }\n",
              "\n",
              "  @keyframes spin {\n",
              "    0% {\n",
              "      border-color: transparent;\n",
              "      border-bottom-color: var(--fill-color);\n",
              "      border-left-color: var(--fill-color);\n",
              "    }\n",
              "    20% {\n",
              "      border-color: transparent;\n",
              "      border-left-color: var(--fill-color);\n",
              "      border-top-color: var(--fill-color);\n",
              "    }\n",
              "    30% {\n",
              "      border-color: transparent;\n",
              "      border-left-color: var(--fill-color);\n",
              "      border-top-color: var(--fill-color);\n",
              "      border-right-color: var(--fill-color);\n",
              "    }\n",
              "    40% {\n",
              "      border-color: transparent;\n",
              "      border-right-color: var(--fill-color);\n",
              "      border-top-color: var(--fill-color);\n",
              "    }\n",
              "    60% {\n",
              "      border-color: transparent;\n",
              "      border-right-color: var(--fill-color);\n",
              "    }\n",
              "    80% {\n",
              "      border-color: transparent;\n",
              "      border-right-color: var(--fill-color);\n",
              "      border-bottom-color: var(--fill-color);\n",
              "    }\n",
              "    90% {\n",
              "      border-color: transparent;\n",
              "      border-bottom-color: var(--fill-color);\n",
              "    }\n",
              "  }\n",
              "</style>\n",
              "\n",
              "      <script>\n",
              "        async function quickchart(key) {\n",
              "          const quickchartButtonEl =\n",
              "            document.querySelector('#' + key + ' button');\n",
              "          quickchartButtonEl.disabled = true;  // To prevent multiple clicks.\n",
              "          quickchartButtonEl.classList.add('colab-df-spinner');\n",
              "          try {\n",
              "            const charts = await google.colab.kernel.invokeFunction(\n",
              "                'suggestCharts', [key], {});\n",
              "          } catch (error) {\n",
              "            console.error('Error during call to suggestCharts:', error);\n",
              "          }\n",
              "          quickchartButtonEl.classList.remove('colab-df-spinner');\n",
              "          quickchartButtonEl.classList.add('colab-df-quickchart-complete');\n",
              "        }\n",
              "        (() => {\n",
              "          let quickchartButtonEl =\n",
              "            document.querySelector('#df-57e40485-3bb6-455c-9849-8aa8847ee1f1 button');\n",
              "          quickchartButtonEl.style.display =\n",
              "            google.colab.kernel.accessAllowed ? 'block' : 'none';\n",
              "        })();\n",
              "      </script>\n",
              "    </div>\n",
              "    </div>\n",
              "  </div>\n"
            ],
            "application/vnd.google.colaboratory.intrinsic+json": {
              "type": "dataframe",
              "variable_name": "df",
              "summary": "{\n  \"name\": \"df\",\n  \"rows\": 32561,\n  \"fields\": [\n    {\n      \"column\": \"age\",\n      \"properties\": {\n        \"dtype\": \"number\",\n        \"std\": 13,\n        \"min\": 17,\n        \"max\": 90,\n        \"num_unique_values\": 73,\n        \"samples\": [\n          41,\n          80,\n          61\n        ],\n        \"semantic_type\": \"\",\n        \"description\": \"\"\n      }\n    },\n    {\n      \"column\": \"workclass\",\n      \"properties\": {\n        \"dtype\": \"category\",\n        \"num_unique_values\": 9,\n        \"samples\": [\n          \"Without-pay\",\n          \"Private\",\n          \"Self-emp-inc\"\n        ],\n        \"semantic_type\": \"\",\n        \"description\": \"\"\n      }\n    },\n    {\n      \"column\": \"fnlwgt\",\n      \"properties\": {\n        \"dtype\": \"number\",\n        \"std\": 105549,\n        \"min\": 12285,\n        \"max\": 1484705,\n        \"num_unique_values\": 21648,\n        \"samples\": [\n          269687,\n          156542,\n          100295\n        ],\n        \"semantic_type\": \"\",\n        \"description\": \"\"\n      }\n    },\n    {\n      \"column\": \"education\",\n      \"properties\": {\n        \"dtype\": \"category\",\n        \"num_unique_values\": 16,\n        \"samples\": [\n          \"HS-grad\",\n          \"Some-college\",\n          \"Prof-school\"\n        ],\n        \"semantic_type\": \"\",\n        \"description\": \"\"\n      }\n    },\n    {\n      \"column\": \"education.num\",\n      \"properties\": {\n        \"dtype\": \"number\",\n        \"std\": 2,\n        \"min\": 1,\n        \"max\": 16,\n        \"num_unique_values\": 16,\n        \"samples\": [\n          9,\n          10,\n          15\n        ],\n        \"semantic_type\": \"\",\n        \"description\": \"\"\n      }\n    },\n    {\n      \"column\": \"marital.status\",\n      \"properties\": {\n        \"dtype\": \"category\",\n        \"num_unique_values\": 7,\n        \"samples\": [\n          \"Widowed\",\n          \"Divorced\",\n          \"Married-spouse-absent\"\n        ],\n        \"semantic_type\": \"\",\n        \"description\": \"\"\n      }\n    },\n    {\n      \"column\": \"occupation\",\n      \"properties\": {\n        \"dtype\": \"category\",\n        \"num_unique_values\": 15,\n        \"samples\": [\n          \"Sales\",\n          \"Tech-support\",\n          \"?\"\n        ],\n        \"semantic_type\": \"\",\n        \"description\": \"\"\n      }\n    },\n    {\n      \"column\": \"relationship\",\n      \"properties\": {\n        \"dtype\": \"category\",\n        \"num_unique_values\": 6,\n        \"samples\": [\n          \"Not-in-family\",\n          \"Unmarried\",\n          \"Wife\"\n        ],\n        \"semantic_type\": \"\",\n        \"description\": \"\"\n      }\n    },\n    {\n      \"column\": \"race\",\n      \"properties\": {\n        \"dtype\": \"category\",\n        \"num_unique_values\": 5,\n        \"samples\": [\n          \"Black\",\n          \"Amer-Indian-Eskimo\",\n          \"Asian-Pac-Islander\"\n        ],\n        \"semantic_type\": \"\",\n        \"description\": \"\"\n      }\n    },\n    {\n      \"column\": \"sex\",\n      \"properties\": {\n        \"dtype\": \"category\",\n        \"num_unique_values\": 2,\n        \"samples\": [\n          \"Male\",\n          \"Female\"\n        ],\n        \"semantic_type\": \"\",\n        \"description\": \"\"\n      }\n    },\n    {\n      \"column\": \"capital.gain\",\n      \"properties\": {\n        \"dtype\": \"number\",\n        \"std\": 7385,\n        \"min\": 0,\n        \"max\": 99999,\n        \"num_unique_values\": 119,\n        \"samples\": [\n          3887,\n          2329\n        ],\n        \"semantic_type\": \"\",\n        \"description\": \"\"\n      }\n    },\n    {\n      \"column\": \"capital.loss\",\n      \"properties\": {\n        \"dtype\": \"number\",\n        \"std\": 402,\n        \"min\": 0,\n        \"max\": 4356,\n        \"num_unique_values\": 92,\n        \"samples\": [\n          1980,\n          2258\n        ],\n        \"semantic_type\": \"\",\n        \"description\": \"\"\n      }\n    },\n    {\n      \"column\": \"hours.per.week\",\n      \"properties\": {\n        \"dtype\": \"number\",\n        \"std\": 12,\n        \"min\": 1,\n        \"max\": 99,\n        \"num_unique_values\": 94,\n        \"samples\": [\n          34,\n          80\n        ],\n        \"semantic_type\": \"\",\n        \"description\": \"\"\n      }\n    },\n    {\n      \"column\": \"native.country\",\n      \"properties\": {\n        \"dtype\": \"category\",\n        \"num_unique_values\": 42,\n        \"samples\": [\n          \"Peru\",\n          \"Puerto-Rico\"\n        ],\n        \"semantic_type\": \"\",\n        \"description\": \"\"\n      }\n    },\n    {\n      \"column\": \"income\",\n      \"properties\": {\n        \"dtype\": \"category\",\n        \"num_unique_values\": 2,\n        \"samples\": [\n          \">50K\",\n          \"<=50K\"\n        ],\n        \"semantic_type\": \"\",\n        \"description\": \"\"\n      }\n    }\n  ]\n}"
            }
          },
          "metadata": {},
          "execution_count": 9
        }
      ]
    },
    {
      "cell_type": "code",
      "source": [
        "df.describe()"
      ],
      "metadata": {
        "colab": {
          "base_uri": "https://localhost:8080/",
          "height": 300
        },
        "id": "6WRiv0Xkhds9",
        "outputId": "2ef745ad-4ea5-4fc2-a23d-30da4edad70f"
      },
      "execution_count": null,
      "outputs": [
        {
          "output_type": "execute_result",
          "data": {
            "text/plain": [
              "                age        fnlwgt  education.num  capital.gain  capital.loss  \\\n",
              "count  32561.000000  3.256100e+04   32561.000000  32561.000000  32561.000000   \n",
              "mean      38.581647  1.897784e+05      10.080679   1077.648844     87.303830   \n",
              "std       13.640433  1.055500e+05       2.572720   7385.292085    402.960219   \n",
              "min       17.000000  1.228500e+04       1.000000      0.000000      0.000000   \n",
              "25%       28.000000  1.178270e+05       9.000000      0.000000      0.000000   \n",
              "50%       37.000000  1.783560e+05      10.000000      0.000000      0.000000   \n",
              "75%       48.000000  2.370510e+05      12.000000      0.000000      0.000000   \n",
              "max       90.000000  1.484705e+06      16.000000  99999.000000   4356.000000   \n",
              "\n",
              "       hours.per.week  \n",
              "count    32561.000000  \n",
              "mean        40.437456  \n",
              "std         12.347429  \n",
              "min          1.000000  \n",
              "25%         40.000000  \n",
              "50%         40.000000  \n",
              "75%         45.000000  \n",
              "max         99.000000  "
            ],
            "text/html": [
              "\n",
              "  <div id=\"df-2a85cdef-3c80-431e-b147-82dba248792f\" class=\"colab-df-container\">\n",
              "    <div>\n",
              "<style scoped>\n",
              "    .dataframe tbody tr th:only-of-type {\n",
              "        vertical-align: middle;\n",
              "    }\n",
              "\n",
              "    .dataframe tbody tr th {\n",
              "        vertical-align: top;\n",
              "    }\n",
              "\n",
              "    .dataframe thead th {\n",
              "        text-align: right;\n",
              "    }\n",
              "</style>\n",
              "<table border=\"1\" class=\"dataframe\">\n",
              "  <thead>\n",
              "    <tr style=\"text-align: right;\">\n",
              "      <th></th>\n",
              "      <th>age</th>\n",
              "      <th>fnlwgt</th>\n",
              "      <th>education.num</th>\n",
              "      <th>capital.gain</th>\n",
              "      <th>capital.loss</th>\n",
              "      <th>hours.per.week</th>\n",
              "    </tr>\n",
              "  </thead>\n",
              "  <tbody>\n",
              "    <tr>\n",
              "      <th>count</th>\n",
              "      <td>32561.000000</td>\n",
              "      <td>3.256100e+04</td>\n",
              "      <td>32561.000000</td>\n",
              "      <td>32561.000000</td>\n",
              "      <td>32561.000000</td>\n",
              "      <td>32561.000000</td>\n",
              "    </tr>\n",
              "    <tr>\n",
              "      <th>mean</th>\n",
              "      <td>38.581647</td>\n",
              "      <td>1.897784e+05</td>\n",
              "      <td>10.080679</td>\n",
              "      <td>1077.648844</td>\n",
              "      <td>87.303830</td>\n",
              "      <td>40.437456</td>\n",
              "    </tr>\n",
              "    <tr>\n",
              "      <th>std</th>\n",
              "      <td>13.640433</td>\n",
              "      <td>1.055500e+05</td>\n",
              "      <td>2.572720</td>\n",
              "      <td>7385.292085</td>\n",
              "      <td>402.960219</td>\n",
              "      <td>12.347429</td>\n",
              "    </tr>\n",
              "    <tr>\n",
              "      <th>min</th>\n",
              "      <td>17.000000</td>\n",
              "      <td>1.228500e+04</td>\n",
              "      <td>1.000000</td>\n",
              "      <td>0.000000</td>\n",
              "      <td>0.000000</td>\n",
              "      <td>1.000000</td>\n",
              "    </tr>\n",
              "    <tr>\n",
              "      <th>25%</th>\n",
              "      <td>28.000000</td>\n",
              "      <td>1.178270e+05</td>\n",
              "      <td>9.000000</td>\n",
              "      <td>0.000000</td>\n",
              "      <td>0.000000</td>\n",
              "      <td>40.000000</td>\n",
              "    </tr>\n",
              "    <tr>\n",
              "      <th>50%</th>\n",
              "      <td>37.000000</td>\n",
              "      <td>1.783560e+05</td>\n",
              "      <td>10.000000</td>\n",
              "      <td>0.000000</td>\n",
              "      <td>0.000000</td>\n",
              "      <td>40.000000</td>\n",
              "    </tr>\n",
              "    <tr>\n",
              "      <th>75%</th>\n",
              "      <td>48.000000</td>\n",
              "      <td>2.370510e+05</td>\n",
              "      <td>12.000000</td>\n",
              "      <td>0.000000</td>\n",
              "      <td>0.000000</td>\n",
              "      <td>45.000000</td>\n",
              "    </tr>\n",
              "    <tr>\n",
              "      <th>max</th>\n",
              "      <td>90.000000</td>\n",
              "      <td>1.484705e+06</td>\n",
              "      <td>16.000000</td>\n",
              "      <td>99999.000000</td>\n",
              "      <td>4356.000000</td>\n",
              "      <td>99.000000</td>\n",
              "    </tr>\n",
              "  </tbody>\n",
              "</table>\n",
              "</div>\n",
              "    <div class=\"colab-df-buttons\">\n",
              "\n",
              "  <div class=\"colab-df-container\">\n",
              "    <button class=\"colab-df-convert\" onclick=\"convertToInteractive('df-2a85cdef-3c80-431e-b147-82dba248792f')\"\n",
              "            title=\"Convert this dataframe to an interactive table.\"\n",
              "            style=\"display:none;\">\n",
              "\n",
              "  <svg xmlns=\"http://www.w3.org/2000/svg\" height=\"24px\" viewBox=\"0 -960 960 960\">\n",
              "    <path d=\"M120-120v-720h720v720H120Zm60-500h600v-160H180v160Zm220 220h160v-160H400v160Zm0 220h160v-160H400v160ZM180-400h160v-160H180v160Zm440 0h160v-160H620v160ZM180-180h160v-160H180v160Zm440 0h160v-160H620v160Z\"/>\n",
              "  </svg>\n",
              "    </button>\n",
              "\n",
              "  <style>\n",
              "    .colab-df-container {\n",
              "      display:flex;\n",
              "      gap: 12px;\n",
              "    }\n",
              "\n",
              "    .colab-df-convert {\n",
              "      background-color: #E8F0FE;\n",
              "      border: none;\n",
              "      border-radius: 50%;\n",
              "      cursor: pointer;\n",
              "      display: none;\n",
              "      fill: #1967D2;\n",
              "      height: 32px;\n",
              "      padding: 0 0 0 0;\n",
              "      width: 32px;\n",
              "    }\n",
              "\n",
              "    .colab-df-convert:hover {\n",
              "      background-color: #E2EBFA;\n",
              "      box-shadow: 0px 1px 2px rgba(60, 64, 67, 0.3), 0px 1px 3px 1px rgba(60, 64, 67, 0.15);\n",
              "      fill: #174EA6;\n",
              "    }\n",
              "\n",
              "    .colab-df-buttons div {\n",
              "      margin-bottom: 4px;\n",
              "    }\n",
              "\n",
              "    [theme=dark] .colab-df-convert {\n",
              "      background-color: #3B4455;\n",
              "      fill: #D2E3FC;\n",
              "    }\n",
              "\n",
              "    [theme=dark] .colab-df-convert:hover {\n",
              "      background-color: #434B5C;\n",
              "      box-shadow: 0px 1px 3px 1px rgba(0, 0, 0, 0.15);\n",
              "      filter: drop-shadow(0px 1px 2px rgba(0, 0, 0, 0.3));\n",
              "      fill: #FFFFFF;\n",
              "    }\n",
              "  </style>\n",
              "\n",
              "    <script>\n",
              "      const buttonEl =\n",
              "        document.querySelector('#df-2a85cdef-3c80-431e-b147-82dba248792f button.colab-df-convert');\n",
              "      buttonEl.style.display =\n",
              "        google.colab.kernel.accessAllowed ? 'block' : 'none';\n",
              "\n",
              "      async function convertToInteractive(key) {\n",
              "        const element = document.querySelector('#df-2a85cdef-3c80-431e-b147-82dba248792f');\n",
              "        const dataTable =\n",
              "          await google.colab.kernel.invokeFunction('convertToInteractive',\n",
              "                                                    [key], {});\n",
              "        if (!dataTable) return;\n",
              "\n",
              "        const docLinkHtml = 'Like what you see? Visit the ' +\n",
              "          '<a target=\"_blank\" href=https://colab.research.google.com/notebooks/data_table.ipynb>data table notebook</a>'\n",
              "          + ' to learn more about interactive tables.';\n",
              "        element.innerHTML = '';\n",
              "        dataTable['output_type'] = 'display_data';\n",
              "        await google.colab.output.renderOutput(dataTable, element);\n",
              "        const docLink = document.createElement('div');\n",
              "        docLink.innerHTML = docLinkHtml;\n",
              "        element.appendChild(docLink);\n",
              "      }\n",
              "    </script>\n",
              "  </div>\n",
              "\n",
              "\n",
              "    <div id=\"df-fc371a43-2e89-458e-8a58-e8b5e6022281\">\n",
              "      <button class=\"colab-df-quickchart\" onclick=\"quickchart('df-fc371a43-2e89-458e-8a58-e8b5e6022281')\"\n",
              "                title=\"Suggest charts\"\n",
              "                style=\"display:none;\">\n",
              "\n",
              "<svg xmlns=\"http://www.w3.org/2000/svg\" height=\"24px\"viewBox=\"0 0 24 24\"\n",
              "     width=\"24px\">\n",
              "    <g>\n",
              "        <path d=\"M19 3H5c-1.1 0-2 .9-2 2v14c0 1.1.9 2 2 2h14c1.1 0 2-.9 2-2V5c0-1.1-.9-2-2-2zM9 17H7v-7h2v7zm4 0h-2V7h2v10zm4 0h-2v-4h2v4z\"/>\n",
              "    </g>\n",
              "</svg>\n",
              "      </button>\n",
              "\n",
              "<style>\n",
              "  .colab-df-quickchart {\n",
              "      --bg-color: #E8F0FE;\n",
              "      --fill-color: #1967D2;\n",
              "      --hover-bg-color: #E2EBFA;\n",
              "      --hover-fill-color: #174EA6;\n",
              "      --disabled-fill-color: #AAA;\n",
              "      --disabled-bg-color: #DDD;\n",
              "  }\n",
              "\n",
              "  [theme=dark] .colab-df-quickchart {\n",
              "      --bg-color: #3B4455;\n",
              "      --fill-color: #D2E3FC;\n",
              "      --hover-bg-color: #434B5C;\n",
              "      --hover-fill-color: #FFFFFF;\n",
              "      --disabled-bg-color: #3B4455;\n",
              "      --disabled-fill-color: #666;\n",
              "  }\n",
              "\n",
              "  .colab-df-quickchart {\n",
              "    background-color: var(--bg-color);\n",
              "    border: none;\n",
              "    border-radius: 50%;\n",
              "    cursor: pointer;\n",
              "    display: none;\n",
              "    fill: var(--fill-color);\n",
              "    height: 32px;\n",
              "    padding: 0;\n",
              "    width: 32px;\n",
              "  }\n",
              "\n",
              "  .colab-df-quickchart:hover {\n",
              "    background-color: var(--hover-bg-color);\n",
              "    box-shadow: 0 1px 2px rgba(60, 64, 67, 0.3), 0 1px 3px 1px rgba(60, 64, 67, 0.15);\n",
              "    fill: var(--button-hover-fill-color);\n",
              "  }\n",
              "\n",
              "  .colab-df-quickchart-complete:disabled,\n",
              "  .colab-df-quickchart-complete:disabled:hover {\n",
              "    background-color: var(--disabled-bg-color);\n",
              "    fill: var(--disabled-fill-color);\n",
              "    box-shadow: none;\n",
              "  }\n",
              "\n",
              "  .colab-df-spinner {\n",
              "    border: 2px solid var(--fill-color);\n",
              "    border-color: transparent;\n",
              "    border-bottom-color: var(--fill-color);\n",
              "    animation:\n",
              "      spin 1s steps(1) infinite;\n",
              "  }\n",
              "\n",
              "  @keyframes spin {\n",
              "    0% {\n",
              "      border-color: transparent;\n",
              "      border-bottom-color: var(--fill-color);\n",
              "      border-left-color: var(--fill-color);\n",
              "    }\n",
              "    20% {\n",
              "      border-color: transparent;\n",
              "      border-left-color: var(--fill-color);\n",
              "      border-top-color: var(--fill-color);\n",
              "    }\n",
              "    30% {\n",
              "      border-color: transparent;\n",
              "      border-left-color: var(--fill-color);\n",
              "      border-top-color: var(--fill-color);\n",
              "      border-right-color: var(--fill-color);\n",
              "    }\n",
              "    40% {\n",
              "      border-color: transparent;\n",
              "      border-right-color: var(--fill-color);\n",
              "      border-top-color: var(--fill-color);\n",
              "    }\n",
              "    60% {\n",
              "      border-color: transparent;\n",
              "      border-right-color: var(--fill-color);\n",
              "    }\n",
              "    80% {\n",
              "      border-color: transparent;\n",
              "      border-right-color: var(--fill-color);\n",
              "      border-bottom-color: var(--fill-color);\n",
              "    }\n",
              "    90% {\n",
              "      border-color: transparent;\n",
              "      border-bottom-color: var(--fill-color);\n",
              "    }\n",
              "  }\n",
              "</style>\n",
              "\n",
              "      <script>\n",
              "        async function quickchart(key) {\n",
              "          const quickchartButtonEl =\n",
              "            document.querySelector('#' + key + ' button');\n",
              "          quickchartButtonEl.disabled = true;  // To prevent multiple clicks.\n",
              "          quickchartButtonEl.classList.add('colab-df-spinner');\n",
              "          try {\n",
              "            const charts = await google.colab.kernel.invokeFunction(\n",
              "                'suggestCharts', [key], {});\n",
              "          } catch (error) {\n",
              "            console.error('Error during call to suggestCharts:', error);\n",
              "          }\n",
              "          quickchartButtonEl.classList.remove('colab-df-spinner');\n",
              "          quickchartButtonEl.classList.add('colab-df-quickchart-complete');\n",
              "        }\n",
              "        (() => {\n",
              "          let quickchartButtonEl =\n",
              "            document.querySelector('#df-fc371a43-2e89-458e-8a58-e8b5e6022281 button');\n",
              "          quickchartButtonEl.style.display =\n",
              "            google.colab.kernel.accessAllowed ? 'block' : 'none';\n",
              "        })();\n",
              "      </script>\n",
              "    </div>\n",
              "    </div>\n",
              "  </div>\n"
            ],
            "application/vnd.google.colaboratory.intrinsic+json": {
              "type": "dataframe",
              "summary": "{\n  \"name\": \"df\",\n  \"rows\": 8,\n  \"fields\": [\n    {\n      \"column\": \"age\",\n      \"properties\": {\n        \"dtype\": \"number\",\n        \"std\": 11498.327099385335,\n        \"min\": 13.640432553581118,\n        \"max\": 32561.0,\n        \"num_unique_values\": 8,\n        \"samples\": [\n          38.58164675532078,\n          37.0,\n          32561.0\n        ],\n        \"semantic_type\": \"\",\n        \"description\": \"\"\n      }\n    },\n    {\n      \"column\": \"fnlwgt\",\n      \"properties\": {\n        \"dtype\": \"number\",\n        \"std\": 486902.25279056706,\n        \"min\": 12285.0,\n        \"max\": 1484705.0,\n        \"num_unique_values\": 8,\n        \"samples\": [\n          189778.36651208502,\n          178356.0,\n          32561.0\n        ],\n        \"semantic_type\": \"\",\n        \"description\": \"\"\n      }\n    },\n    {\n      \"column\": \"education.num\",\n      \"properties\": {\n        \"dtype\": \"number\",\n        \"std\": 11508.989513934259,\n        \"min\": 1.0,\n        \"max\": 32561.0,\n        \"num_unique_values\": 8,\n        \"samples\": [\n          10.0806793403151,\n          10.0,\n          32561.0\n        ],\n        \"semantic_type\": \"\",\n        \"description\": \"\"\n      }\n    },\n    {\n      \"column\": \"capital.gain\",\n      \"properties\": {\n        \"dtype\": \"number\",\n        \"std\": 35111.63595222633,\n        \"min\": 0.0,\n        \"max\": 99999.0,\n        \"num_unique_values\": 5,\n        \"samples\": [\n          1077.6488437087312,\n          99999.0,\n          7385.292084836109\n        ],\n        \"semantic_type\": \"\",\n        \"description\": \"\"\n      }\n    },\n    {\n      \"column\": \"capital.loss\",\n      \"properties\": {\n        \"dtype\": \"number\",\n        \"std\": 11366.935322921136,\n        \"min\": 0.0,\n        \"max\": 32561.0,\n        \"num_unique_values\": 5,\n        \"samples\": [\n          87.303829734959,\n          4356.0,\n          402.9602186495174\n        ],\n        \"semantic_type\": \"\",\n        \"description\": \"\"\n      }\n    },\n    {\n      \"column\": \"hours.per.week\",\n      \"properties\": {\n        \"dtype\": \"number\",\n        \"std\": 11498.057671750135,\n        \"min\": 1.0,\n        \"max\": 32561.0,\n        \"num_unique_values\": 7,\n        \"samples\": [\n          32561.0,\n          40.437455852092995,\n          45.0\n        ],\n        \"semantic_type\": \"\",\n        \"description\": \"\"\n      }\n    }\n  ]\n}"
            }
          },
          "metadata": {},
          "execution_count": 10
        }
      ]
    },
    {
      "cell_type": "code",
      "source": [
        "df.dtypes"
      ],
      "metadata": {
        "colab": {
          "base_uri": "https://localhost:8080/",
          "height": 554
        },
        "id": "FK2qntthixBQ",
        "outputId": "638c4d22-3538-435d-adf3-0a48b5ce6b5b"
      },
      "execution_count": null,
      "outputs": [
        {
          "output_type": "execute_result",
          "data": {
            "text/plain": [
              "age                int64\n",
              "workclass         object\n",
              "fnlwgt             int64\n",
              "education         object\n",
              "education.num      int64\n",
              "marital.status    object\n",
              "occupation        object\n",
              "relationship      object\n",
              "race              object\n",
              "sex               object\n",
              "capital.gain       int64\n",
              "capital.loss       int64\n",
              "hours.per.week     int64\n",
              "native.country    object\n",
              "income            object\n",
              "dtype: object"
            ],
            "text/html": [
              "<div>\n",
              "<style scoped>\n",
              "    .dataframe tbody tr th:only-of-type {\n",
              "        vertical-align: middle;\n",
              "    }\n",
              "\n",
              "    .dataframe tbody tr th {\n",
              "        vertical-align: top;\n",
              "    }\n",
              "\n",
              "    .dataframe thead th {\n",
              "        text-align: right;\n",
              "    }\n",
              "</style>\n",
              "<table border=\"1\" class=\"dataframe\">\n",
              "  <thead>\n",
              "    <tr style=\"text-align: right;\">\n",
              "      <th></th>\n",
              "      <th>0</th>\n",
              "    </tr>\n",
              "  </thead>\n",
              "  <tbody>\n",
              "    <tr>\n",
              "      <th>age</th>\n",
              "      <td>int64</td>\n",
              "    </tr>\n",
              "    <tr>\n",
              "      <th>workclass</th>\n",
              "      <td>object</td>\n",
              "    </tr>\n",
              "    <tr>\n",
              "      <th>fnlwgt</th>\n",
              "      <td>int64</td>\n",
              "    </tr>\n",
              "    <tr>\n",
              "      <th>education</th>\n",
              "      <td>object</td>\n",
              "    </tr>\n",
              "    <tr>\n",
              "      <th>education.num</th>\n",
              "      <td>int64</td>\n",
              "    </tr>\n",
              "    <tr>\n",
              "      <th>marital.status</th>\n",
              "      <td>object</td>\n",
              "    </tr>\n",
              "    <tr>\n",
              "      <th>occupation</th>\n",
              "      <td>object</td>\n",
              "    </tr>\n",
              "    <tr>\n",
              "      <th>relationship</th>\n",
              "      <td>object</td>\n",
              "    </tr>\n",
              "    <tr>\n",
              "      <th>race</th>\n",
              "      <td>object</td>\n",
              "    </tr>\n",
              "    <tr>\n",
              "      <th>sex</th>\n",
              "      <td>object</td>\n",
              "    </tr>\n",
              "    <tr>\n",
              "      <th>capital.gain</th>\n",
              "      <td>int64</td>\n",
              "    </tr>\n",
              "    <tr>\n",
              "      <th>capital.loss</th>\n",
              "      <td>int64</td>\n",
              "    </tr>\n",
              "    <tr>\n",
              "      <th>hours.per.week</th>\n",
              "      <td>int64</td>\n",
              "    </tr>\n",
              "    <tr>\n",
              "      <th>native.country</th>\n",
              "      <td>object</td>\n",
              "    </tr>\n",
              "    <tr>\n",
              "      <th>income</th>\n",
              "      <td>object</td>\n",
              "    </tr>\n",
              "  </tbody>\n",
              "</table>\n",
              "</div><br><label><b>dtype:</b> object</label>"
            ]
          },
          "metadata": {},
          "execution_count": 11
        }
      ]
    },
    {
      "cell_type": "code",
      "source": [
        "# пропущенные значения\n",
        "df.isnull().sum()"
      ],
      "metadata": {
        "colab": {
          "base_uri": "https://localhost:8080/",
          "height": 554
        },
        "id": "_dsOAAJwi0ks",
        "outputId": "0f8701b5-5804-4f15-fee8-114d6a4528a5"
      },
      "execution_count": null,
      "outputs": [
        {
          "output_type": "execute_result",
          "data": {
            "text/plain": [
              "age               0\n",
              "workclass         0\n",
              "fnlwgt            0\n",
              "education         0\n",
              "education.num     0\n",
              "marital.status    0\n",
              "occupation        0\n",
              "relationship      0\n",
              "race              0\n",
              "sex               0\n",
              "capital.gain      0\n",
              "capital.loss      0\n",
              "hours.per.week    0\n",
              "native.country    0\n",
              "income            0\n",
              "dtype: int64"
            ],
            "text/html": [
              "<div>\n",
              "<style scoped>\n",
              "    .dataframe tbody tr th:only-of-type {\n",
              "        vertical-align: middle;\n",
              "    }\n",
              "\n",
              "    .dataframe tbody tr th {\n",
              "        vertical-align: top;\n",
              "    }\n",
              "\n",
              "    .dataframe thead th {\n",
              "        text-align: right;\n",
              "    }\n",
              "</style>\n",
              "<table border=\"1\" class=\"dataframe\">\n",
              "  <thead>\n",
              "    <tr style=\"text-align: right;\">\n",
              "      <th></th>\n",
              "      <th>0</th>\n",
              "    </tr>\n",
              "  </thead>\n",
              "  <tbody>\n",
              "    <tr>\n",
              "      <th>age</th>\n",
              "      <td>0</td>\n",
              "    </tr>\n",
              "    <tr>\n",
              "      <th>workclass</th>\n",
              "      <td>0</td>\n",
              "    </tr>\n",
              "    <tr>\n",
              "      <th>fnlwgt</th>\n",
              "      <td>0</td>\n",
              "    </tr>\n",
              "    <tr>\n",
              "      <th>education</th>\n",
              "      <td>0</td>\n",
              "    </tr>\n",
              "    <tr>\n",
              "      <th>education.num</th>\n",
              "      <td>0</td>\n",
              "    </tr>\n",
              "    <tr>\n",
              "      <th>marital.status</th>\n",
              "      <td>0</td>\n",
              "    </tr>\n",
              "    <tr>\n",
              "      <th>occupation</th>\n",
              "      <td>0</td>\n",
              "    </tr>\n",
              "    <tr>\n",
              "      <th>relationship</th>\n",
              "      <td>0</td>\n",
              "    </tr>\n",
              "    <tr>\n",
              "      <th>race</th>\n",
              "      <td>0</td>\n",
              "    </tr>\n",
              "    <tr>\n",
              "      <th>sex</th>\n",
              "      <td>0</td>\n",
              "    </tr>\n",
              "    <tr>\n",
              "      <th>capital.gain</th>\n",
              "      <td>0</td>\n",
              "    </tr>\n",
              "    <tr>\n",
              "      <th>capital.loss</th>\n",
              "      <td>0</td>\n",
              "    </tr>\n",
              "    <tr>\n",
              "      <th>hours.per.week</th>\n",
              "      <td>0</td>\n",
              "    </tr>\n",
              "    <tr>\n",
              "      <th>native.country</th>\n",
              "      <td>0</td>\n",
              "    </tr>\n",
              "    <tr>\n",
              "      <th>income</th>\n",
              "      <td>0</td>\n",
              "    </tr>\n",
              "  </tbody>\n",
              "</table>\n",
              "</div><br><label><b>dtype:</b> int64</label>"
            ]
          },
          "metadata": {},
          "execution_count": 12
        }
      ]
    },
    {
      "cell_type": "code",
      "source": [
        "# распределение целевой переменной\n",
        "sns.countplot(x ='income', data = df)"
      ],
      "metadata": {
        "colab": {
          "base_uri": "https://localhost:8080/",
          "height": 466
        },
        "id": "xIvi7ueAjKEi",
        "outputId": "f283d505-65e8-41fc-9661-5ab182f3d03b"
      },
      "execution_count": null,
      "outputs": [
        {
          "output_type": "execute_result",
          "data": {
            "text/plain": [
              "<Axes: xlabel='income', ylabel='count'>"
            ]
          },
          "metadata": {},
          "execution_count": 13
        },
        {
          "output_type": "display_data",
          "data": {
            "text/plain": [
              "<Figure size 640x480 with 1 Axes>"
            ],
            "image/png": "[encoded data removed]"
          },
          "metadata": {}
        }
      ]
    },
    {
      "cell_type": "code",
      "source": [
        "# Анализ категориальных признаков\n",
        "df['income'].value_counts()"
      ],
      "metadata": {
        "colab": {
          "base_uri": "https://localhost:8080/",
          "height": 178
        },
        "id": "bTVrtueYjw9g",
        "outputId": "642b1adc-c22e-435b-adc6-8e3a61ed3077"
      },
      "execution_count": null,
      "outputs": [
        {
          "output_type": "execute_result",
          "data": {
            "text/plain": [
              "income\n",
              "<=50K    24720\n",
              ">50K      7841\n",
              "Name: count, dtype: int64"
            ],
            "text/html": [
              "<div>\n",
              "<style scoped>\n",
              "    .dataframe tbody tr th:only-of-type {\n",
              "        vertical-align: middle;\n",
              "    }\n",
              "\n",
              "    .dataframe tbody tr th {\n",
              "        vertical-align: top;\n",
              "    }\n",
              "\n",
              "    .dataframe thead th {\n",
              "        text-align: right;\n",
              "    }\n",
              "</style>\n",
              "<table border=\"1\" class=\"dataframe\">\n",
              "  <thead>\n",
              "    <tr style=\"text-align: right;\">\n",
              "      <th></th>\n",
              "      <th>count</th>\n",
              "    </tr>\n",
              "    <tr>\n",
              "      <th>income</th>\n",
              "      <th></th>\n",
              "    </tr>\n",
              "  </thead>\n",
              "  <tbody>\n",
              "    <tr>\n",
              "      <th>&lt;=50K</th>\n",
              "      <td>24720</td>\n",
              "    </tr>\n",
              "    <tr>\n",
              "      <th>&gt;50K</th>\n",
              "      <td>7841</td>\n",
              "    </tr>\n",
              "  </tbody>\n",
              "</table>\n",
              "</div><br><label><b>dtype:</b> int64</label>"
            ]
          },
          "metadata": {},
          "execution_count": 14
        }
      ]
    },
    {
      "cell_type": "markdown",
      "source": [
        "###3. Разделение выборок"
      ],
      "metadata": {
        "id": "j7D4D_3hkBB3"
      }
    },
    {
      "cell_type": "markdown",
      "source": [
        "- Стратифицированное разделение на обучающую(70%), валидационную(15%) и тестовую(15%) выборки с помощью train_test_split с параметром stratify для сохранения распределения целевой переменной\n",
        "- Сохранение тестовой выборки отдельно для финальной оценки"
      ],
      "metadata": {
        "id": "obduZXnRkNfs"
      }
    },
    {
      "cell_type": "code",
      "source": [
        "from sklearn.model_selection import train_test_split\n",
        "\n",
        "\n",
        "target = 'income'\n",
        "\n",
        "X = df.drop(columns=target)\n",
        "y = df[target]\n",
        "\n",
        "# тестовая\n",
        "X_temp, X_test, y_temp, y_test = train_test_split(X, y, test_size=0.15,\n",
        "                                                  stratify=y, random_state=42)\n",
        "\n",
        "# на валидацию (15% от общего объема = 15 / 85)\n",
        "X_train, X_val, y_train, y_val = train_test_split(X_temp, y_temp, test_size=0.176,\n",
        "                                                  stratify=y_temp, random_state=42)"
      ],
      "metadata": {
        "id": "xK3tCUq5kDBT"
      },
      "execution_count": null,
      "outputs": []
    },
    {
      "cell_type": "code",
      "source": [
        "print(f\"Train size: {len(X_train)}\")\n",
        "print(f\"Validation size: {len(X_val)}\")\n",
        "print(f\"Test size: {len(X_test)}\")"
      ],
      "metadata": {
        "colab": {
          "base_uri": "https://localhost:8080/"
        },
        "id": "env-939mlf48",
        "outputId": "dd23f6a5-3bdf-4a10-f2c7-8e759c377118"
      },
      "execution_count": null,
      "outputs": [
        {
          "output_type": "stream",
          "name": "stdout",
          "text": [
            "Train size: 22805\n",
            "Validation size: 4871\n",
            "Test size: 4885\n"
          ]
        }
      ]
    },
    {
      "cell_type": "code",
      "source": [
        "# сохранение\n",
        "test_df = X_test.copy()\n",
        "test_df[target] = y_test\n",
        "test_df.to_csv('test_data.csv', index=False)"
      ],
      "metadata": {
        "id": "w2J3KVp-lqGb"
      },
      "execution_count": null,
      "outputs": []
    },
    {
      "cell_type": "markdown",
      "source": [
        "###4. Оцифровка данных"
      ],
      "metadata": {
        "id": "9qSIq5ACmHGk"
      }
    },
    {
      "cell_type": "code",
      "source": [
        "from sklearn.preprocessing import OneHotEncoder, OrdinalEncoder, LabelEncoder, StandardScaler\n",
        "from sklearn.compose import ColumnTransformer\n",
        "from sklearn.pipeline import Pipeline\n",
        "from sklearn.impute import SimpleImputer"
      ],
      "metadata": {
        "id": "81zJHs8HmLOB"
      },
      "execution_count": null,
      "outputs": []
    },
    {
      "cell_type": "code",
      "source": [
        "df = df.replace(\"?\", pd.NA).dropna()"
      ],
      "metadata": {
        "id": "5ZBhogpznG2Z"
      },
      "execution_count": null,
      "outputs": []
    },
    {
      "cell_type": "code",
      "source": [
        "# кодирование целевой\n",
        "label_encoder = LabelEncoder()\n",
        "y_train_enc = label_encoder.fit_transform(y_train)\n",
        "y_val_enc = label_encoder.transform(y_val)\n",
        "y_test_enc = label_encoder.transform(y_test)"
      ],
      "metadata": {
        "id": "lOsw6EuuzjER"
      },
      "execution_count": null,
      "outputs": []
    },
    {
      "cell_type": "code",
      "source": [
        "# категориальные признаки\n",
        "low_card_cat = ['workclass', 'education', 'marital.status', 'relationship', 'race', 'sex']\n",
        "high_card_cat = ['occupation', 'native.country']\n",
        "\n",
        "# числовые признаки\n",
        "num_features = ['age', 'fnlwgt', 'education.num', 'capital.gain', 'capital.loss', 'hours.per.week']"
      ],
      "metadata": {
        "id": "BnYDenwEnNbY"
      },
      "execution_count": null,
      "outputs": []
    },
    {
      "cell_type": "code",
      "source": [
        "# OneHotEncoder для признаков с небольшим числом категорий\n",
        "low_card_transformer = Pipeline(steps=[\n",
        "    ('imputer', SimpleImputer(strategy='most_frequent')),\n",
        "    ('onehot', OneHotEncoder(handle_unknown='ignore'))\n",
        "])\n",
        "\n",
        "# OrdinalEncoder для признаков с большим числом категорий\n",
        "high_card_transformer = Pipeline(steps=[\n",
        "    ('imputer', SimpleImputer(strategy='most_frequent')),\n",
        "    ('ordinal', OrdinalEncoder(handle_unknown='use_encoded_value', unknown_value=-1))\n",
        "])\n",
        "\n",
        "# числовые данные — просто заполним пропуски, если есть\n",
        "num_transformer = Pipeline(steps=[\n",
        "    ('imputer', SimpleImputer(strategy='mean')),\n",
        "    ('scaler', StandardScaler())\n",
        "])\n",
        "\n",
        "\n",
        "# комбинируем в ColumnTransformer\n",
        "preprocessor = ColumnTransformer(transformers=[\n",
        "    ('num', num_transformer, num_features),\n",
        "    ('low_cat', low_card_transformer, low_card_cat),\n",
        "    ('high_cat', high_card_transformer, high_card_cat)\n",
        "])"
      ],
      "metadata": {
        "id": "ALbZL_u2nqll"
      },
      "execution_count": null,
      "outputs": []
    },
    {
      "cell_type": "code",
      "source": [
        "preprocessor.fit(X_train)"
      ],
      "metadata": {
        "colab": {
          "base_uri": "https://localhost:8080/",
          "height": 190
        },
        "id": "kd7nSkGYn7um",
        "outputId": "b1c4e1ec-bb74-4bd2-a361-a2b0e15b0a9e"
      },
      "execution_count": null,
      "outputs": [
        {
          "output_type": "execute_result",
          "data": {
            "text/plain": [
              "ColumnTransformer(transformers=[('num',\n",
              "                                 Pipeline(steps=[('imputer', SimpleImputer()),\n",
              "                                                 ('scaler', StandardScaler())]),\n",
              "                                 ['age', 'fnlwgt', 'education.num',\n",
              "                                  'capital.gain', 'capital.loss',\n",
              "                                  'hours.per.week']),\n",
              "                                ('low_cat',\n",
              "                                 Pipeline(steps=[('imputer',\n",
              "                                                  SimpleImputer(strategy='most_frequent')),\n",
              "                                                 ('onehot',\n",
              "                                                  OneHotEncoder(handle_unknown='ignore'))]),\n",
              "                                 ['workclass', 'education', 'marital.status',\n",
              "                                  'relationship', 'race', 'sex']),\n",
              "                                ('high_cat',\n",
              "                                 Pipeline(steps=[('imputer',\n",
              "                                                  SimpleImputer(strategy='most_frequent')),\n",
              "                                                 ('ordinal',\n",
              "                                                  OrdinalEncoder(handle_unknown='use_encoded_value',\n",
              "                                                                 unknown_value=-1))]),\n",
              "                                 ['occupation', 'native.country'])])"
            ],
            "text/html": [
              "<style>#sk-container-id-1 {\n",
              "  /* Definition of color scheme common for light and dark mode */\n",
              "  --sklearn-color-text: #000;\n",
              "  --sklearn-color-text-muted: #666;\n",
              "  --sklearn-color-line: gray;\n",
              "  /* Definition of color scheme for unfitted estimators */\n",
              "  --sklearn-color-unfitted-level-0: #fff5e6;\n",
              "  --sklearn-color-unfitted-level-1: #f6e4d2;\n",
              "  --sklearn-color-unfitted-level-2: #ffe0b3;\n",
              "  --sklearn-color-unfitted-level-3: chocolate;\n",
              "  /* Definition of color scheme for fitted estimators */\n",
              "  --sklearn-color-fitted-level-0: #f0f8ff;\n",
              "  --sklearn-color-fitted-level-1: #d4ebff;\n",
              "  --sklearn-color-fitted-level-2: #b3dbfd;\n",
              "  --sklearn-color-fitted-level-3: cornflowerblue;\n",
              "\n",
              "  /* Specific color for light theme */\n",
              "  --sklearn-color-text-on-default-background: var(--sg-text-color, var(--theme-code-foreground, var(--jp-content-font-color1, black)));\n",
              "  --sklearn-color-background: var(--sg-background-color, var(--theme-background, var(--jp-layout-color0, white)));\n",
              "  --sklearn-color-border-box: var(--sg-text-color, var(--theme-code-foreground, var(--jp-content-font-color1, black)));\n",
              "  --sklearn-color-icon: #696969;\n",
              "\n",
              "  @media (prefers-color-scheme: dark) {\n",
              "    /* Redefinition of color scheme for dark theme */\n",
              "    --sklearn-color-text-on-default-background: var(--sg-text-color, var(--theme-code-foreground, var(--jp-content-font-color1, white)));\n",
              "    --sklearn-color-background: var(--sg-background-color, var(--theme-background, var(--jp-layout-color0, #111)));\n",
              "    --sklearn-color-border-box: var(--sg-text-color, var(--theme-code-foreground, var(--jp-content-font-color1, white)));\n",
              "    --sklearn-color-icon: #878787;\n",
              "  }\n",
              "}\n",
              "\n",
              "#sk-container-id-1 {\n",
              "  color: var(--sklearn-color-text);\n",
              "}\n",
              "\n",
              "#sk-container-id-1 pre {\n",
              "  padding: 0;\n",
              "}\n",
              "\n",
              "#sk-container-id-1 input.sk-hidden--visually {\n",
              "  border: 0;\n",
              "  clip: rect(1px 1px 1px 1px);\n",
              "  clip: rect(1px, 1px, 1px, 1px);\n",
              "  height: 1px;\n",
              "  margin: -1px;\n",
              "  overflow: hidden;\n",
              "  padding: 0;\n",
              "  position: absolute;\n",
              "  width: 1px;\n",
              "}\n",
              "\n",
              "#sk-container-id-1 div.sk-dashed-wrapped {\n",
              "  border: 1px dashed var(--sklearn-color-line);\n",
              "  margin: 0 0.4em 0.5em 0.4em;\n",
              "  box-sizing: border-box;\n",
              "  padding-bottom: 0.4em;\n",
              "  background-color: var(--sklearn-color-background);\n",
              "}\n",
              "\n",
              "#sk-container-id-1 div.sk-container {\n",
              "  /* jupyter's `normalize.less` sets `[hidden] { display: none; }`\n",
              "     but bootstrap.min.css set `[hidden] { display: none !important; }`\n",
              "     so we also need the `!important` here to be able to override the\n",
              "     default hidden behavior on the sphinx rendered scikit-learn.org.\n",
              "     See: https://github.com/scikit-learn/scikit-learn/issues/21755 */\n",
              "  display: inline-block !important;\n",
              "  position: relative;\n",
              "}\n",
              "\n",
              "#sk-container-id-1 div.sk-text-repr-fallback {\n",
              "  display: none;\n",
              "}\n",
              "\n",
              "div.sk-parallel-item,\n",
              "div.sk-serial,\n",
              "div.sk-item {\n",
              "  /* draw centered vertical line to link estimators */\n",
              "  background-image: linear-gradient(var(--sklearn-color-text-on-default-background), var(--sklearn-color-text-on-default-background));\n",
              "  background-size: 2px 100%;\n",
              "  background-repeat: no-repeat;\n",
              "  background-position: center center;\n",
              "}\n",
              "\n",
              "/* Parallel-specific style estimator block */\n",
              "\n",
              "#sk-container-id-1 div.sk-parallel-item::after {\n",
              "  content: \"\";\n",
              "  width: 100%;\n",
              "  border-bottom: 2px solid var(--sklearn-color-text-on-default-background);\n",
              "  flex-grow: 1;\n",
              "}\n",
              "\n",
              "#sk-container-id-1 div.sk-parallel {\n",
              "  display: flex;\n",
              "  align-items: stretch;\n",
              "  justify-content: center;\n",
              "  background-color: var(--sklearn-color-background);\n",
              "  position: relative;\n",
              "}\n",
              "\n",
              "#sk-container-id-1 div.sk-parallel-item {\n",
              "  display: flex;\n",
              "  flex-direction: column;\n",
              "}\n",
              "\n",
              "#sk-container-id-1 div.sk-parallel-item:first-child::after {\n",
              "  align-self: flex-end;\n",
              "  width: 50%;\n",
              "}\n",
              "\n",
              "#sk-container-id-1 div.sk-parallel-item:last-child::after {\n",
              "  align-self: flex-start;\n",
              "  width: 50%;\n",
              "}\n",
              "\n",
              "#sk-container-id-1 div.sk-parallel-item:only-child::after {\n",
              "  width: 0;\n",
              "}\n",
              "\n",
              "/* Serial-specific style estimator block */\n",
              "\n",
              "#sk-container-id-1 div.sk-serial {\n",
              "  display: flex;\n",
              "  flex-direction: column;\n",
              "  align-items: center;\n",
              "  background-color: var(--sklearn-color-background);\n",
              "  padding-right: 1em;\n",
              "  padding-left: 1em;\n",
              "}\n",
              "\n",
              "\n",
              "/* Toggleable style: style used for estimator/Pipeline/ColumnTransformer box that is\n",
              "clickable and can be expanded/collapsed.\n",
              "- Pipeline and ColumnTransformer use this feature and define the default style\n",
              "- Estimators will overwrite some part of the style using the `sk-estimator` class\n",
              "*/\n",
              "\n",
              "/* Pipeline and ColumnTransformer style (default) */\n",
              "\n",
              "#sk-container-id-1 div.sk-toggleable {\n",
              "  /* Default theme specific background. It is overwritten whether we have a\n",
              "  specific estimator or a Pipeline/ColumnTransformer */\n",
              "  background-color: var(--sklearn-color-background);\n",
              "}\n",
              "\n",
              "/* Toggleable label */\n",
              "#sk-container-id-1 label.sk-toggleable__label {\n",
              "  cursor: pointer;\n",
              "  display: flex;\n",
              "  width: 100%;\n",
              "  margin-bottom: 0;\n",
              "  padding: 0.5em;\n",
              "  box-sizing: border-box;\n",
              "  text-align: center;\n",
              "  align-items: start;\n",
              "  justify-content: space-between;\n",
              "  gap: 0.5em;\n",
              "}\n",
              "\n",
              "#sk-container-id-1 label.sk-toggleable__label .caption {\n",
              "  font-size: 0.6rem;\n",
              "  font-weight: lighter;\n",
              "  color: var(--sklearn-color-text-muted);\n",
              "}\n",
              "\n",
              "#sk-container-id-1 label.sk-toggleable__label-arrow:before {\n",
              "  /* Arrow on the left of the label */\n",
              "  content: \"▸\";\n",
              "  float: left;\n",
              "  margin-right: 0.25em;\n",
              "  color: var(--sklearn-color-icon);\n",
              "}\n",
              "\n",
              "#sk-container-id-1 label.sk-toggleable__label-arrow:hover:before {\n",
              "  color: var(--sklearn-color-text);\n",
              "}\n",
              "\n",
              "/* Toggleable content - dropdown */\n",
              "\n",
              "#sk-container-id-1 div.sk-toggleable__content {\n",
              "  max-height: 0;\n",
              "  max-width: 0;\n",
              "  overflow: hidden;\n",
              "  text-align: left;\n",
              "  /* unfitted */\n",
              "  background-color: var(--sklearn-color-unfitted-level-0);\n",
              "}\n",
              "\n",
              "#sk-container-id-1 div.sk-toggleable__content.fitted {\n",
              "  /* fitted */\n",
              "  background-color: var(--sklearn-color-fitted-level-0);\n",
              "}\n",
              "\n",
              "#sk-container-id-1 div.sk-toggleable__content pre {\n",
              "  margin: 0.2em;\n",
              "  border-radius: 0.25em;\n",
              "  color: var(--sklearn-color-text);\n",
              "  /* unfitted */\n",
              "  background-color: var(--sklearn-color-unfitted-level-0);\n",
              "}\n",
              "\n",
              "#sk-container-id-1 div.sk-toggleable__content.fitted pre {\n",
              "  /* unfitted */\n",
              "  background-color: var(--sklearn-color-fitted-level-0);\n",
              "}\n",
              "\n",
              "#sk-container-id-1 input.sk-toggleable__control:checked~div.sk-toggleable__content {\n",
              "  /* Expand drop-down */\n",
              "  max-height: 200px;\n",
              "  max-width: 100%;\n",
              "  overflow: auto;\n",
              "}\n",
              "\n",
              "#sk-container-id-1 input.sk-toggleable__control:checked~label.sk-toggleable__label-arrow:before {\n",
              "  content: \"▾\";\n",
              "}\n",
              "\n",
              "/* Pipeline/ColumnTransformer-specific style */\n",
              "\n",
              "#sk-container-id-1 div.sk-label input.sk-toggleable__control:checked~label.sk-toggleable__label {\n",
              "  color: var(--sklearn-color-text);\n",
              "  background-color: var(--sklearn-color-unfitted-level-2);\n",
              "}\n",
              "\n",
              "#sk-container-id-1 div.sk-label.fitted input.sk-toggleable__control:checked~label.sk-toggleable__label {\n",
              "  background-color: var(--sklearn-color-fitted-level-2);\n",
              "}\n",
              "\n",
              "/* Estimator-specific style */\n",
              "\n",
              "/* Colorize estimator box */\n",
              "#sk-container-id-1 div.sk-estimator input.sk-toggleable__control:checked~label.sk-toggleable__label {\n",
              "  /* unfitted */\n",
              "  background-color: var(--sklearn-color-unfitted-level-2);\n",
              "}\n",
              "\n",
              "#sk-container-id-1 div.sk-estimator.fitted input.sk-toggleable__control:checked~label.sk-toggleable__label {\n",
              "  /* fitted */\n",
              "  background-color: var(--sklearn-color-fitted-level-2);\n",
              "}\n",
              "\n",
              "#sk-container-id-1 div.sk-label label.sk-toggleable__label,\n",
              "#sk-container-id-1 div.sk-label label {\n",
              "  /* The background is the default theme color */\n",
              "  color: var(--sklearn-color-text-on-default-background);\n",
              "}\n",
              "\n",
              "/* On hover, darken the color of the background */\n",
              "#sk-container-id-1 div.sk-label:hover label.sk-toggleable__label {\n",
              "  color: var(--sklearn-color-text);\n",
              "  background-color: var(--sklearn-color-unfitted-level-2);\n",
              "}\n",
              "\n",
              "/* Label box, darken color on hover, fitted */\n",
              "#sk-container-id-1 div.sk-label.fitted:hover label.sk-toggleable__label.fitted {\n",
              "  color: var(--sklearn-color-text);\n",
              "  background-color: var(--sklearn-color-fitted-level-2);\n",
              "}\n",
              "\n",
              "/* Estimator label */\n",
              "\n",
              "#sk-container-id-1 div.sk-label label {\n",
              "  font-family: monospace;\n",
              "  font-weight: bold;\n",
              "  display: inline-block;\n",
              "  line-height: 1.2em;\n",
              "}\n",
              "\n",
              "#sk-container-id-1 div.sk-label-container {\n",
              "  text-align: center;\n",
              "}\n",
              "\n",
              "/* Estimator-specific */\n",
              "#sk-container-id-1 div.sk-estimator {\n",
              "  font-family: monospace;\n",
              "  border: 1px dotted var(--sklearn-color-border-box);\n",
              "  border-radius: 0.25em;\n",
              "  box-sizing: border-box;\n",
              "  margin-bottom: 0.5em;\n",
              "  /* unfitted */\n",
              "  background-color: var(--sklearn-color-unfitted-level-0);\n",
              "}\n",
              "\n",
              "#sk-container-id-1 div.sk-estimator.fitted {\n",
              "  /* fitted */\n",
              "  background-color: var(--sklearn-color-fitted-level-0);\n",
              "}\n",
              "\n",
              "/* on hover */\n",
              "#sk-container-id-1 div.sk-estimator:hover {\n",
              "  /* unfitted */\n",
              "  background-color: var(--sklearn-color-unfitted-level-2);\n",
              "}\n",
              "\n",
              "#sk-container-id-1 div.sk-estimator.fitted:hover {\n",
              "  /* fitted */\n",
              "  background-color: var(--sklearn-color-fitted-level-2);\n",
              "}\n",
              "\n",
              "/* Specification for estimator info (e.g. \"i\" and \"?\") */\n",
              "\n",
              "/* Common style for \"i\" and \"?\" */\n",
              "\n",
              ".sk-estimator-doc-link,\n",
              "a:link.sk-estimator-doc-link,\n",
              "a:visited.sk-estimator-doc-link {\n",
              "  float: right;\n",
              "  font-size: smaller;\n",
              "  line-height: 1em;\n",
              "  font-family: monospace;\n",
              "  background-color: var(--sklearn-color-background);\n",
              "  border-radius: 1em;\n",
              "  height: 1em;\n",
              "  width: 1em;\n",
              "  text-decoration: none !important;\n",
              "  margin-left: 0.5em;\n",
              "  text-align: center;\n",
              "  /* unfitted */\n",
              "  border: var(--sklearn-color-unfitted-level-1) 1pt solid;\n",
              "  color: var(--sklearn-color-unfitted-level-1);\n",
              "}\n",
              "\n",
              ".sk-estimator-doc-link.fitted,\n",
              "a:link.sk-estimator-doc-link.fitted,\n",
              "a:visited.sk-estimator-doc-link.fitted {\n",
              "  /* fitted */\n",
              "  border: var(--sklearn-color-fitted-level-1) 1pt solid;\n",
              "  color: var(--sklearn-color-fitted-level-1);\n",
              "}\n",
              "\n",
              "/* On hover */\n",
              "div.sk-estimator:hover .sk-estimator-doc-link:hover,\n",
              ".sk-estimator-doc-link:hover,\n",
              "div.sk-label-container:hover .sk-estimator-doc-link:hover,\n",
              ".sk-estimator-doc-link:hover {\n",
              "  /* unfitted */\n",
              "  background-color: var(--sklearn-color-unfitted-level-3);\n",
              "  color: var(--sklearn-color-background);\n",
              "  text-decoration: none;\n",
              "}\n",
              "\n",
              "div.sk-estimator.fitted:hover .sk-estimator-doc-link.fitted:hover,\n",
              ".sk-estimator-doc-link.fitted:hover,\n",
              "div.sk-label-container:hover .sk-estimator-doc-link.fitted:hover,\n",
              ".sk-estimator-doc-link.fitted:hover {\n",
              "  /* fitted */\n",
              "  background-color: var(--sklearn-color-fitted-level-3);\n",
              "  color: var(--sklearn-color-background);\n",
              "  text-decoration: none;\n",
              "}\n",
              "\n",
              "/* Span, style for the box shown on hovering the info icon */\n",
              ".sk-estimator-doc-link span {\n",
              "  display: none;\n",
              "  z-index: 9999;\n",
              "  position: relative;\n",
              "  font-weight: normal;\n",
              "  right: .2ex;\n",
              "  padding: .5ex;\n",
              "  margin: .5ex;\n",
              "  width: min-content;\n",
              "  min-width: 20ex;\n",
              "  max-width: 50ex;\n",
              "  color: var(--sklearn-color-text);\n",
              "  box-shadow: 2pt 2pt 4pt #999;\n",
              "  /* unfitted */\n",
              "  background: var(--sklearn-color-unfitted-level-0);\n",
              "  border: .5pt solid var(--sklearn-color-unfitted-level-3);\n",
              "}\n",
              "\n",
              ".sk-estimator-doc-link.fitted span {\n",
              "  /* fitted */\n",
              "  background: var(--sklearn-color-fitted-level-0);\n",
              "  border: var(--sklearn-color-fitted-level-3);\n",
              "}\n",
              "\n",
              ".sk-estimator-doc-link:hover span {\n",
              "  display: block;\n",
              "}\n",
              "\n",
              "/* \"?\"-specific style due to the `<a>` HTML tag */\n",
              "\n",
              "#sk-container-id-1 a.estimator_doc_link {\n",
              "  float: right;\n",
              "  font-size: 1rem;\n",
              "  line-height: 1em;\n",
              "  font-family: monospace;\n",
              "  background-color: var(--sklearn-color-background);\n",
              "  border-radius: 1rem;\n",
              "  height: 1rem;\n",
              "  width: 1rem;\n",
              "  text-decoration: none;\n",
              "  /* unfitted */\n",
              "  color: var(--sklearn-color-unfitted-level-1);\n",
              "  border: var(--sklearn-color-unfitted-level-1) 1pt solid;\n",
              "}\n",
              "\n",
              "#sk-container-id-1 a.estimator_doc_link.fitted {\n",
              "  /* fitted */\n",
              "  border: var(--sklearn-color-fitted-level-1) 1pt solid;\n",
              "  color: var(--sklearn-color-fitted-level-1);\n",
              "}\n",
              "\n",
              "/* On hover */\n",
              "#sk-container-id-1 a.estimator_doc_link:hover {\n",
              "  /* unfitted */\n",
              "  background-color: var(--sklearn-color-unfitted-level-3);\n",
              "  color: var(--sklearn-color-background);\n",
              "  text-decoration: none;\n",
              "}\n",
              "\n",
              "#sk-container-id-1 a.estimator_doc_link.fitted:hover {\n",
              "  /* fitted */\n",
              "  background-color: var(--sklearn-color-fitted-level-3);\n",
              "}\n",
              "</style><div id=\"sk-container-id-1\" class=\"sk-top-container\"><div class=\"sk-text-repr-fallback\"><pre>ColumnTransformer(transformers=[(&#x27;num&#x27;,\n",
              "                                 Pipeline(steps=[(&#x27;imputer&#x27;, SimpleImputer()),\n",
              "                                                 (&#x27;scaler&#x27;, StandardScaler())]),\n",
              "                                 [&#x27;age&#x27;, &#x27;fnlwgt&#x27;, &#x27;education.num&#x27;,\n",
              "                                  &#x27;capital.gain&#x27;, &#x27;capital.loss&#x27;,\n",
              "                                  &#x27;hours.per.week&#x27;]),\n",
              "                                (&#x27;low_cat&#x27;,\n",
              "                                 Pipeline(steps=[(&#x27;imputer&#x27;,\n",
              "                                                  SimpleImputer(strategy=&#x27;most_frequent&#x27;)),\n",
              "                                                 (&#x27;onehot&#x27;,\n",
              "                                                  OneHotEncoder(handle_unknown=&#x27;ignore&#x27;))]),\n",
              "                                 [&#x27;workclass&#x27;, &#x27;education&#x27;, &#x27;marital.status&#x27;,\n",
              "                                  &#x27;relationship&#x27;, &#x27;race&#x27;, &#x27;sex&#x27;]),\n",
              "                                (&#x27;high_cat&#x27;,\n",
              "                                 Pipeline(steps=[(&#x27;imputer&#x27;,\n",
              "                                                  SimpleImputer(strategy=&#x27;most_frequent&#x27;)),\n",
              "                                                 (&#x27;ordinal&#x27;,\n",
              "                                                  OrdinalEncoder(handle_unknown=&#x27;use_encoded_value&#x27;,\n",
              "                                                                 unknown_value=-1))]),\n",
              "                                 [&#x27;occupation&#x27;, &#x27;native.country&#x27;])])</pre><b>In a Jupyter environment, please rerun this cell to show the HTML representation or trust the notebook. <br />On GitHub, the HTML representation is unable to render, please try loading this page with nbviewer.org.</b></div><div class=\"sk-container\" hidden><div class=\"sk-item sk-dashed-wrapped\"><div class=\"sk-label-container\"><div class=\"sk-label fitted sk-toggleable\"><input class=\"sk-toggleable__control sk-hidden--visually\" id=\"sk-estimator-id-1\" type=\"checkbox\" ><label for=\"sk-estimator-id-1\" class=\"sk-toggleable__label fitted sk-toggleable__label-arrow\"><div><div>ColumnTransformer</div></div><div><a class=\"sk-estimator-doc-link fitted\" rel=\"noreferrer\" target=\"_blank\" href=\"https://scikit-learn.org/1.6/modules/generated/sklearn.compose.ColumnTransformer.html\">?<span>Documentation for ColumnTransformer</span></a><span class=\"sk-estimator-doc-link fitted\">i<span>Fitted</span></span></div></label><div class=\"sk-toggleable__content fitted\"><pre>ColumnTransformer(transformers=[(&#x27;num&#x27;,\n",
              "                                 Pipeline(steps=[(&#x27;imputer&#x27;, SimpleImputer()),\n",
              "                                                 (&#x27;scaler&#x27;, StandardScaler())]),\n",
              "                                 [&#x27;age&#x27;, &#x27;fnlwgt&#x27;, &#x27;education.num&#x27;,\n",
              "                                  &#x27;capital.gain&#x27;, &#x27;capital.loss&#x27;,\n",
              "                                  &#x27;hours.per.week&#x27;]),\n",
              "                                (&#x27;low_cat&#x27;,\n",
              "                                 Pipeline(steps=[(&#x27;imputer&#x27;,\n",
              "                                                  SimpleImputer(strategy=&#x27;most_frequent&#x27;)),\n",
              "                                                 (&#x27;onehot&#x27;,\n",
              "                                                  OneHotEncoder(handle_unknown=&#x27;ignore&#x27;))]),\n",
              "                                 [&#x27;workclass&#x27;, &#x27;education&#x27;, &#x27;marital.status&#x27;,\n",
              "                                  &#x27;relationship&#x27;, &#x27;race&#x27;, &#x27;sex&#x27;]),\n",
              "                                (&#x27;high_cat&#x27;,\n",
              "                                 Pipeline(steps=[(&#x27;imputer&#x27;,\n",
              "                                                  SimpleImputer(strategy=&#x27;most_frequent&#x27;)),\n",
              "                                                 (&#x27;ordinal&#x27;,\n",
              "                                                  OrdinalEncoder(handle_unknown=&#x27;use_encoded_value&#x27;,\n",
              "                                                                 unknown_value=-1))]),\n",
              "                                 [&#x27;occupation&#x27;, &#x27;native.country&#x27;])])</pre></div> </div></div><div class=\"sk-parallel\"><div class=\"sk-parallel-item\"><div class=\"sk-item\"><div class=\"sk-label-container\"><div class=\"sk-label fitted sk-toggleable\"><input class=\"sk-toggleable__control sk-hidden--visually\" id=\"sk-estimator-id-2\" type=\"checkbox\" ><label for=\"sk-estimator-id-2\" class=\"sk-toggleable__label fitted sk-toggleable__label-arrow\"><div><div>num</div></div></label><div class=\"sk-toggleable__content fitted\"><pre>[&#x27;age&#x27;, &#x27;fnlwgt&#x27;, &#x27;education.num&#x27;, &#x27;capital.gain&#x27;, &#x27;capital.loss&#x27;, &#x27;hours.per.week&#x27;]</pre></div> </div></div><div class=\"sk-serial\"><div class=\"sk-item\"><div class=\"sk-serial\"><div class=\"sk-item\"><div class=\"sk-estimator fitted sk-toggleable\"><input class=\"sk-toggleable__control sk-hidden--visually\" id=\"sk-estimator-id-3\" type=\"checkbox\" ><label for=\"sk-estimator-id-3\" class=\"sk-toggleable__label fitted sk-toggleable__label-arrow\"><div><div>SimpleImputer</div></div><div><a class=\"sk-estimator-doc-link fitted\" rel=\"noreferrer\" target=\"_blank\" href=\"https://scikit-learn.org/1.6/modules/generated/sklearn.impute.SimpleImputer.html\">?<span>Documentation for SimpleImputer</span></a></div></label><div class=\"sk-toggleable__content fitted\"><pre>SimpleImputer()</pre></div> </div></div><div class=\"sk-item\"><div class=\"sk-estimator fitted sk-toggleable\"><input class=\"sk-toggleable__control sk-hidden--visually\" id=\"sk-estimator-id-4\" type=\"checkbox\" ><label for=\"sk-estimator-id-4\" class=\"sk-toggleable__label fitted sk-toggleable__label-arrow\"><div><div>StandardScaler</div></div><div><a class=\"sk-estimator-doc-link fitted\" rel=\"noreferrer\" target=\"_blank\" href=\"https://scikit-learn.org/1.6/modules/generated/sklearn.preprocessing.StandardScaler.html\">?<span>Documentation for StandardScaler</span></a></div></label><div class=\"sk-toggleable__content fitted\"><pre>StandardScaler()</pre></div> </div></div></div></div></div></div></div><div class=\"sk-parallel-item\"><div class=\"sk-item\"><div class=\"sk-label-container\"><div class=\"sk-label fitted sk-toggleable\"><input class=\"sk-toggleable__control sk-hidden--visually\" id=\"sk-estimator-id-5\" type=\"checkbox\" ><label for=\"sk-estimator-id-5\" class=\"sk-toggleable__label fitted sk-toggleable__label-arrow\"><div><div>low_cat</div></div></label><div class=\"sk-toggleable__content fitted\"><pre>[&#x27;workclass&#x27;, &#x27;education&#x27;, &#x27;marital.status&#x27;, &#x27;relationship&#x27;, &#x27;race&#x27;, &#x27;sex&#x27;]</pre></div> </div></div><div class=\"sk-serial\"><div class=\"sk-item\"><div class=\"sk-serial\"><div class=\"sk-item\"><div class=\"sk-estimator fitted sk-toggleable\"><input class=\"sk-toggleable__control sk-hidden--visually\" id=\"sk-estimator-id-6\" type=\"checkbox\" ><label for=\"sk-estimator-id-6\" class=\"sk-toggleable__label fitted sk-toggleable__label-arrow\"><div><div>SimpleImputer</div></div><div><a class=\"sk-estimator-doc-link fitted\" rel=\"noreferrer\" target=\"_blank\" href=\"https://scikit-learn.org/1.6/modules/generated/sklearn.impute.SimpleImputer.html\">?<span>Documentation for SimpleImputer</span></a></div></label><div class=\"sk-toggleable__content fitted\"><pre>SimpleImputer(strategy=&#x27;most_frequent&#x27;)</pre></div> </div></div><div class=\"sk-item\"><div class=\"sk-estimator fitted sk-toggleable\"><input class=\"sk-toggleable__control sk-hidden--visually\" id=\"sk-estimator-id-7\" type=\"checkbox\" ><label for=\"sk-estimator-id-7\" class=\"sk-toggleable__label fitted sk-toggleable__label-arrow\"><div><div>OneHotEncoder</div></div><div><a class=\"sk-estimator-doc-link fitted\" rel=\"noreferrer\" target=\"_blank\" href=\"https://scikit-learn.org/1.6/modules/generated/sklearn.preprocessing.OneHotEncoder.html\">?<span>Documentation for OneHotEncoder</span></a></div></label><div class=\"sk-toggleable__content fitted\"><pre>OneHotEncoder(handle_unknown=&#x27;ignore&#x27;)</pre></div> </div></div></div></div></div></div></div><div class=\"sk-parallel-item\"><div class=\"sk-item\"><div class=\"sk-label-container\"><div class=\"sk-label fitted sk-toggleable\"><input class=\"sk-toggleable__control sk-hidden--visually\" id=\"sk-estimator-id-8\" type=\"checkbox\" ><label for=\"sk-estimator-id-8\" class=\"sk-toggleable__label fitted sk-toggleable__label-arrow\"><div><div>high_cat</div></div></label><div class=\"sk-toggleable__content fitted\"><pre>[&#x27;occupation&#x27;, &#x27;native.country&#x27;]</pre></div> </div></div><div class=\"sk-serial\"><div class=\"sk-item\"><div class=\"sk-serial\"><div class=\"sk-item\"><div class=\"sk-estimator fitted sk-toggleable\"><input class=\"sk-toggleable__control sk-hidden--visually\" id=\"sk-estimator-id-9\" type=\"checkbox\" ><label for=\"sk-estimator-id-9\" class=\"sk-toggleable__label fitted sk-toggleable__label-arrow\"><div><div>SimpleImputer</div></div><div><a class=\"sk-estimator-doc-link fitted\" rel=\"noreferrer\" target=\"_blank\" href=\"https://scikit-learn.org/1.6/modules/generated/sklearn.impute.SimpleImputer.html\">?<span>Documentation for SimpleImputer</span></a></div></label><div class=\"sk-toggleable__content fitted\"><pre>SimpleImputer(strategy=&#x27;most_frequent&#x27;)</pre></div> </div></div><div class=\"sk-item\"><div class=\"sk-estimator fitted sk-toggleable\"><input class=\"sk-toggleable__control sk-hidden--visually\" id=\"sk-estimator-id-10\" type=\"checkbox\" ><label for=\"sk-estimator-id-10\" class=\"sk-toggleable__label fitted sk-toggleable__label-arrow\"><div><div>OrdinalEncoder</div></div><div><a class=\"sk-estimator-doc-link fitted\" rel=\"noreferrer\" target=\"_blank\" href=\"https://scikit-learn.org/1.6/modules/generated/sklearn.preprocessing.OrdinalEncoder.html\">?<span>Documentation for OrdinalEncoder</span></a></div></label><div class=\"sk-toggleable__content fitted\"><pre>OrdinalEncoder(handle_unknown=&#x27;use_encoded_value&#x27;, unknown_value=-1)</pre></div> </div></div></div></div></div></div></div></div></div></div></div>"
            ]
          },
          "metadata": {},
          "execution_count": 27
        }
      ]
    },
    {
      "cell_type": "code",
      "source": [
        "# преобразование\n",
        "X_train_proc = preprocessor.transform(X_train)\n",
        "X_val_proc = preprocessor.transform(X_val)\n",
        "X_test_proc = preprocessor.transform(X_test)"
      ],
      "metadata": {
        "id": "-BX--0nyzxWn"
      },
      "execution_count": null,
      "outputs": []
    },
    {
      "cell_type": "markdown",
      "source": [
        "###5. Удаление ? (раньше сделано)"
      ],
      "metadata": {
        "id": "hFP0cyC6oUqc"
      }
    },
    {
      "cell_type": "code",
      "source": [
        "df.isna().sum()"
      ],
      "metadata": {
        "colab": {
          "base_uri": "https://localhost:8080/",
          "height": 554
        },
        "id": "pcYByV25oQTj",
        "outputId": "85ea6a3b-7843-4956-c30b-cf030721815d"
      },
      "execution_count": null,
      "outputs": [
        {
          "output_type": "execute_result",
          "data": {
            "text/plain": [
              "age               0\n",
              "workclass         0\n",
              "fnlwgt            0\n",
              "education         0\n",
              "education.num     0\n",
              "marital.status    0\n",
              "occupation        0\n",
              "relationship      0\n",
              "race              0\n",
              "sex               0\n",
              "capital.gain      0\n",
              "capital.loss      0\n",
              "hours.per.week    0\n",
              "native.country    0\n",
              "income            0\n",
              "dtype: int64"
            ],
            "text/html": [
              "<div>\n",
              "<style scoped>\n",
              "    .dataframe tbody tr th:only-of-type {\n",
              "        vertical-align: middle;\n",
              "    }\n",
              "\n",
              "    .dataframe tbody tr th {\n",
              "        vertical-align: top;\n",
              "    }\n",
              "\n",
              "    .dataframe thead th {\n",
              "        text-align: right;\n",
              "    }\n",
              "</style>\n",
              "<table border=\"1\" class=\"dataframe\">\n",
              "  <thead>\n",
              "    <tr style=\"text-align: right;\">\n",
              "      <th></th>\n",
              "      <th>0</th>\n",
              "    </tr>\n",
              "  </thead>\n",
              "  <tbody>\n",
              "    <tr>\n",
              "      <th>age</th>\n",
              "      <td>0</td>\n",
              "    </tr>\n",
              "    <tr>\n",
              "      <th>workclass</th>\n",
              "      <td>0</td>\n",
              "    </tr>\n",
              "    <tr>\n",
              "      <th>fnlwgt</th>\n",
              "      <td>0</td>\n",
              "    </tr>\n",
              "    <tr>\n",
              "      <th>education</th>\n",
              "      <td>0</td>\n",
              "    </tr>\n",
              "    <tr>\n",
              "      <th>education.num</th>\n",
              "      <td>0</td>\n",
              "    </tr>\n",
              "    <tr>\n",
              "      <th>marital.status</th>\n",
              "      <td>0</td>\n",
              "    </tr>\n",
              "    <tr>\n",
              "      <th>occupation</th>\n",
              "      <td>0</td>\n",
              "    </tr>\n",
              "    <tr>\n",
              "      <th>relationship</th>\n",
              "      <td>0</td>\n",
              "    </tr>\n",
              "    <tr>\n",
              "      <th>race</th>\n",
              "      <td>0</td>\n",
              "    </tr>\n",
              "    <tr>\n",
              "      <th>sex</th>\n",
              "      <td>0</td>\n",
              "    </tr>\n",
              "    <tr>\n",
              "      <th>capital.gain</th>\n",
              "      <td>0</td>\n",
              "    </tr>\n",
              "    <tr>\n",
              "      <th>capital.loss</th>\n",
              "      <td>0</td>\n",
              "    </tr>\n",
              "    <tr>\n",
              "      <th>hours.per.week</th>\n",
              "      <td>0</td>\n",
              "    </tr>\n",
              "    <tr>\n",
              "      <th>native.country</th>\n",
              "      <td>0</td>\n",
              "    </tr>\n",
              "    <tr>\n",
              "      <th>income</th>\n",
              "      <td>0</td>\n",
              "    </tr>\n",
              "  </tbody>\n",
              "</table>\n",
              "</div><br><label><b>dtype:</b> int64</label>"
            ]
          },
          "metadata": {},
          "execution_count": 29
        }
      ]
    },
    {
      "cell_type": "code",
      "source": [
        "# Числовые признаки\n",
        "num_imputer = SimpleImputer(strategy='median')\n",
        "\n",
        "# Категориальные: заполняем 'Unknown'\n",
        "cat_imputer = SimpleImputer(strategy='constant', fill_value='Unknown')"
      ],
      "metadata": {
        "id": "3Fis53SMoiX3"
      },
      "execution_count": null,
      "outputs": []
    },
    {
      "cell_type": "markdown",
      "source": [
        "###6. Работа с выбросами"
      ],
      "metadata": {
        "id": "6zT2OD8konLR"
      }
    },
    {
      "cell_type": "markdown",
      "source": [
        "####Визуализация распределений числовых признаков с помощью boxplot"
      ],
      "metadata": {
        "id": "_PIOf_LCotuF"
      }
    },
    {
      "cell_type": "code",
      "source": [
        "import matplotlib.pyplot as plt\n",
        "\n",
        "\n",
        "num_cols = ['age', 'fnlwgt', 'education.num', 'capital.gain', 'capital.loss', 'hours.per.week']\n",
        "\n",
        "fig, axes = plt.subplots(nrows=2, ncols=3, figsize=(15, 6))\n",
        "\n",
        "for i, col in enumerate(num_cols):\n",
        "    row = i // 3\n",
        "    col_idx = i % 3\n",
        "    sns.boxplot(data=df, x=col, ax=axes[row, col_idx])\n",
        "\n",
        "\n",
        "plt.tight_layout()\n",
        "plt.show()"
      ],
      "metadata": {
        "colab": {
          "base_uri": "https://localhost:8080/",
          "height": 398
        },
        "id": "rO6UShT-op2N",
        "outputId": "0455eb95-02d4-47c3-9d55-08a6b4882ed6"
      },
      "execution_count": null,
      "outputs": [
        {
          "output_type": "display_data",
          "data": {
            "text/plain": [
              "<Figure size 1500x600 with 6 Axes>"
            ],
            "image/png": "[encoded data removed]"
          },
          "metadata": {}
        }
      ]
    },
    {
      "cell_type": "markdown",
      "source": [
        "####Применение логарифмического преобразования для признаков с сильно скошенным распределением (capital-gain, capital-loss)"
      ],
      "metadata": {
        "id": "trmXGGDFpc3C"
      }
    },
    {
      "cell_type": "code",
      "source": [
        "# Сильно скошенные признаки\n",
        "df['capital.gain'] = np.log1p(df['capital.gain'])\n",
        "df['capital.loss'] = np.log1p(df['capital.loss'])"
      ],
      "metadata": {
        "id": "hUoiaXEWpkpb"
      },
      "execution_count": null,
      "outputs": []
    },
    {
      "cell_type": "markdown",
      "source": [
        "####Применение робастного масштабирования (RobustScaler) для уменьшения влияния выбросов"
      ],
      "metadata": {
        "id": "-L4A-4NRp05R"
      }
    },
    {
      "cell_type": "code",
      "source": [
        "from sklearn.preprocessing import RobustScaler\n",
        "\n",
        "\n",
        "robust_scaler = RobustScaler()\n",
        "df[num_cols] = robust_scaler.fit_transform(df[num_cols])"
      ],
      "metadata": {
        "id": "PUNRevjEqAZh"
      },
      "execution_count": null,
      "outputs": []
    },
    {
      "cell_type": "markdown",
      "source": [
        "###7. Стандартизация/нормализация"
      ],
      "metadata": {
        "id": "yU6b8oVwqIGt"
      }
    },
    {
      "cell_type": "markdown",
      "source": [
        "####Применение StandardScaler для числовых признаков (age, fnlwgt,education-num capital-gain,capital-loss,hours-per-week)"
      ],
      "metadata": {
        "id": "U1spQeZDqQqh"
      }
    },
    {
      "cell_type": "code",
      "source": [
        "# from sklearn.preprocessing import StandardScaler\n",
        "\n",
        "\n",
        "# standard_cols = ['age', 'fnlwgt', 'education.num', 'capital.gain', 'capital.loss', 'hours.per.week']\n",
        "# scaler = StandardScaler()\n",
        "# df[standard_cols] = scaler.fit_transform(df[standard_cols])"
      ],
      "metadata": {
        "id": "oGxbZthLqLex"
      },
      "execution_count": null,
      "outputs": []
    },
    {
      "cell_type": "markdown",
      "source": [
        "####Сохранение"
      ],
      "metadata": {
        "id": "-kwX0OM4qkIV"
      }
    },
    {
      "cell_type": "code",
      "source": [
        "# import joblib\n",
        "\n",
        "\n",
        "# joblib.dump(scaler, 'standard_scaler.pkl')"
      ],
      "metadata": {
        "colab": {
          "base_uri": "https://localhost:8080/",
          "height": 176
        },
        "id": "uIQ5PJPLqln9",
        "outputId": "c54c947e-87cd-4d98-b877-cb5ff7a26232"
      },
      "execution_count": null,
      "outputs": [
        {
          "output_type": "error",
          "ename": "NameError",
          "evalue": "name 'scaler' is not defined",
          "traceback": [
            "\u001b[0;31m---------------------------------------------------------------------------\u001b[0m",
            "\u001b[0;31mNameError\u001b[0m                                 Traceback (most recent call last)",
            "\u001b[0;32m<ipython-input-35-fbf18a030d98>\u001b[0m in \u001b[0;36m<cell line: 0>\u001b[0;34m()\u001b[0m\n\u001b[1;32m      2\u001b[0m \u001b[0;34m\u001b[0m\u001b[0m\n\u001b[1;32m      3\u001b[0m \u001b[0;34m\u001b[0m\u001b[0m\n\u001b[0;32m----> 4\u001b[0;31m \u001b[0mjoblib\u001b[0m\u001b[0;34m.\u001b[0m\u001b[0mdump\u001b[0m\u001b[0;34m(\u001b[0m\u001b[0mscaler\u001b[0m\u001b[0;34m,\u001b[0m \u001b[0;34m'standard_scaler.pkl'\u001b[0m\u001b[0;34m)\u001b[0m\u001b[0;34m\u001b[0m\u001b[0;34m\u001b[0m\u001b[0m\n\u001b[0m",
            "\u001b[0;31mNameError\u001b[0m: name 'scaler' is not defined"
          ]
        }
      ]
    },
    {
      "cell_type": "code",
      "source": [
        "# scaler = joblib.load('standard_scaler.pkl')\n",
        "# X_test[standard_cols] = scaler.transform(X_test[standard_cols])"
      ],
      "metadata": {
        "id": "1WC8L4CBqq5G"
      },
      "execution_count": null,
      "outputs": []
    },
    {
      "cell_type": "markdown",
      "source": [
        "###Дополнительно"
      ],
      "metadata": {
        "id": "qTMaZHadqvUB"
      }
    },
    {
      "cell_type": "markdown",
      "source": [
        "####Баланс классов"
      ],
      "metadata": {
        "id": "TfkkG2DFq20J"
      }
    },
    {
      "cell_type": "code",
      "source": [
        "df['income'].value_counts(normalize=True)"
      ],
      "metadata": {
        "colab": {
          "base_uri": "https://localhost:8080/",
          "height": 178
        },
        "id": "JacvkXlrqyE-",
        "outputId": "ec91fa8e-4e4d-4443-d8bc-b76cd6a9f7d0"
      },
      "execution_count": null,
      "outputs": [
        {
          "output_type": "execute_result",
          "data": {
            "text/plain": [
              "income\n",
              "<=50K    0.751078\n",
              ">50K     0.248922\n",
              "Name: proportion, dtype: float64"
            ],
            "text/html": [
              "<div>\n",
              "<style scoped>\n",
              "    .dataframe tbody tr th:only-of-type {\n",
              "        vertical-align: middle;\n",
              "    }\n",
              "\n",
              "    .dataframe tbody tr th {\n",
              "        vertical-align: top;\n",
              "    }\n",
              "\n",
              "    .dataframe thead th {\n",
              "        text-align: right;\n",
              "    }\n",
              "</style>\n",
              "<table border=\"1\" class=\"dataframe\">\n",
              "  <thead>\n",
              "    <tr style=\"text-align: right;\">\n",
              "      <th></th>\n",
              "      <th>proportion</th>\n",
              "    </tr>\n",
              "    <tr>\n",
              "      <th>income</th>\n",
              "      <th></th>\n",
              "    </tr>\n",
              "  </thead>\n",
              "  <tbody>\n",
              "    <tr>\n",
              "      <th>&lt;=50K</th>\n",
              "      <td>0.751078</td>\n",
              "    </tr>\n",
              "    <tr>\n",
              "      <th>&gt;50K</th>\n",
              "      <td>0.248922</td>\n",
              "    </tr>\n",
              "  </tbody>\n",
              "</table>\n",
              "</div><br><label><b>dtype:</b> float64</label>"
            ]
          },
          "metadata": {},
          "execution_count": 37
        }
      ]
    },
    {
      "cell_type": "markdown",
      "source": [
        "#### Балансировка через SMOTE"
      ],
      "metadata": {
        "id": "T5l4m6doq-DU"
      }
    },
    {
      "cell_type": "code",
      "source": [
        "# from imblearn.over_sampling import SMOTE\n",
        "\n",
        "\n",
        "# smote = SMOTE(random_state=42)\n",
        "# X_resampled, y_resampled = smote.fit_resample(X_train_proc, y_train_enc)"
      ],
      "metadata": {
        "id": "tcoPxPqjrAz6"
      },
      "execution_count": null,
      "outputs": []
    },
    {
      "cell_type": "code",
      "source": [
        "# print(pd.Series(y_resampled).value_counts())\n",
        "# print(pd.Series(y_resampled).value_counts(normalize=True))"
      ],
      "metadata": {
        "id": "7GhBvkmzrPkV"
      },
      "execution_count": null,
      "outputs": []
    },
    {
      "cell_type": "markdown",
      "source": [
        "upd: результат ухудшился. поэтому SMOTE убрал + изначально соотношение примерно 3.1:1"
      ],
      "metadata": {
        "id": "mlycPuc1BP-O"
      }
    },
    {
      "cell_type": "code",
      "source": [
        "np.bincount(y_train_enc)"
      ],
      "metadata": {
        "colab": {
          "base_uri": "https://localhost:8080/"
        },
        "id": "9cftd1_RBPdb",
        "outputId": "ad781a56-7615-4f14-c523-ea34f992374f"
      },
      "execution_count": null,
      "outputs": [
        {
          "output_type": "execute_result",
          "data": {
            "text/plain": [
              "array([17313,  5492])"
            ]
          },
          "metadata": {},
          "execution_count": 40
        }
      ]
    },
    {
      "cell_type": "markdown",
      "source": [
        "##1. Статистические тесты"
      ],
      "metadata": {
        "id": "iPc1c4eJsWU2"
      }
    },
    {
      "cell_type": "code",
      "source": [
        "from scipy.stats import shapiro, ks_2samp, chi2_contingency, ttest_ind, mannwhitneyu"
      ],
      "metadata": {
        "id": "vei2RujDsY7R"
      },
      "execution_count": null,
      "outputs": []
    },
    {
      "cell_type": "markdown",
      "source": [
        "#### 1. Тест Шапиро-Уилка для capital.gain"
      ],
      "metadata": {
        "id": "LvVFO6OKsvYI"
      }
    },
    {
      "cell_type": "code",
      "source": [
        "stat, p = shapiro(df['capital.gain'])\n",
        "print(f\"Stat={stat:.4f}, p={p:.4e}\")"
      ],
      "metadata": {
        "colab": {
          "base_uri": "https://localhost:8080/"
        },
        "id": "TWAlOrY_sxYN",
        "outputId": "966c4711-25b1-434f-838e-bc9b3ba0671d"
      },
      "execution_count": null,
      "outputs": [
        {
          "output_type": "stream",
          "name": "stdout",
          "text": [
            "Stat=0.3195, p=1.1176e-136\n"
          ]
        },
        {
          "output_type": "stream",
          "name": "stderr",
          "text": [
            "/usr/local/lib/python3.11/dist-packages/scipy/stats/_axis_nan_policy.py:586: UserWarning: scipy.stats.shapiro: For N > 5000, computed p-value may not be accurate. Current N is 30162.\n",
            "  res = hypotest_fun_out(*samples, **kwds)\n"
          ]
        }
      ]
    },
    {
      "cell_type": "markdown",
      "source": [
        "--> capital.gain НЕ имеет нормального распределения"
      ],
      "metadata": {
        "id": "wlPDMA4YuCWF"
      }
    },
    {
      "cell_type": "markdown",
      "source": [
        "#### 2. Тест Колмогорова-Смирнова: capital.gain распределения по классам income"
      ],
      "metadata": {
        "id": "6cqmJry1s6Fj"
      }
    },
    {
      "cell_type": "code",
      "source": [
        "group1 = df[df['income'] == '<=50K']['capital.gain']\n",
        "group2 = df[df['income'] == '>50K']['capital.gain']\n",
        "stat, p = ks_2samp(group1, group2)\n",
        "print(f\"Stat={stat:.4f}, p={p:.4e}\")"
      ],
      "metadata": {
        "colab": {
          "base_uri": "https://localhost:8080/"
        },
        "id": "qEiWjQexs-xU",
        "outputId": "a86ae5a3-7850-4cb0-ac1c-5a27813d5319"
      },
      "execution_count": null,
      "outputs": [
        {
          "output_type": "stream",
          "name": "stdout",
          "text": [
            "Stat=0.1903, p=3.1739e-179\n"
          ]
        }
      ]
    },
    {
      "cell_type": "markdown",
      "source": [
        "--> p << 0.05 — распределения capital.gain для групп <=50K и >50K статистически отличаются. Прибыль от капитала сильно влияет на различия между доходами"
      ],
      "metadata": {
        "id": "Wjaiy8qfuAMb"
      }
    },
    {
      "cell_type": "markdown",
      "source": [
        "#####3. Тест хи-квадрат для education и income"
      ],
      "metadata": {
        "id": "KIIbcd5LtExX"
      }
    },
    {
      "cell_type": "code",
      "source": [
        "contingency_table = pd.crosstab(df['education'], df['income'])\n",
        "chi2, p, dof, expected = chi2_contingency(contingency_table)\n",
        "print(f\"Chi2={chi2:.2f}, p={p:.4e}\")"
      ],
      "metadata": {
        "colab": {
          "base_uri": "https://localhost:8080/"
        },
        "id": "ypy5zGsVtI0w",
        "outputId": "df74e314-25e0-4966-cfd8-db09ac113a1a"
      },
      "execution_count": null,
      "outputs": [
        {
          "output_type": "stream",
          "name": "stdout",
          "text": [
            "Chi2=4070.38, p=0.0000e+00\n"
          ]
        }
      ]
    },
    {
      "cell_type": "markdown",
      "source": [
        "--> p = 0 — сильная зависимость между уровнем образования и доходом"
      ],
      "metadata": {
        "id": "uuX6JeRkuVMv"
      }
    },
    {
      "cell_type": "markdown",
      "source": [
        "#####4. t-тест для возраста (age) между двумя классами income"
      ],
      "metadata": {
        "id": "sBRpWHrPtWWk"
      }
    },
    {
      "cell_type": "code",
      "source": [
        "group1_age = df[df['income'] == '<=50K']['age']\n",
        "group2_age = df[df['income'] == '>50K']['age']\n",
        "stat, p = ttest_ind(group1_age, group2_age)\n",
        "print(f\"Stat={stat:.4f}, p={p:.4e}\")"
      ],
      "metadata": {
        "colab": {
          "base_uri": "https://localhost:8080/"
        },
        "id": "ETKMjdQNtSCb",
        "outputId": "cbd62cbf-7257-460d-ffea-5ecbf4b5cc46"
      },
      "execution_count": null,
      "outputs": [
        {
          "output_type": "stream",
          "name": "stdout",
          "text": [
            "Stat=-43.3144, p=0.0000e+00\n"
          ]
        }
      ]
    },
    {
      "cell_type": "markdown",
      "source": [
        "--> отрицательное значение указывает, что у группы <=50K средний возраст меньше, чем у >50K"
      ],
      "metadata": {
        "id": "ICBqTJVFua_k"
      }
    },
    {
      "cell_type": "markdown",
      "source": [
        "####5. Тест Манна-Уитни для hours.per.week между двумя классами income"
      ],
      "metadata": {
        "id": "3V9uB5E3tZtg"
      }
    },
    {
      "cell_type": "code",
      "source": [
        "group1_hours = df[df['income'] == '<=50K']['hours.per.week']\n",
        "group2_hours = df[df['income'] == '>50K']['hours.per.week']\n",
        "stat, p = mannwhitneyu(group1_hours, group2_hours)\n",
        "print(f\"Stat={stat}, p={p:.4e}\")"
      ],
      "metadata": {
        "colab": {
          "base_uri": "https://localhost:8080/"
        },
        "id": "BjeGTSA8tThw",
        "outputId": "ba1a8ccc-1c8c-47aa-d2bb-546146491ad3"
      },
      "execution_count": null,
      "outputs": [
        {
          "output_type": "stream",
          "name": "stdout",
          "text": [
            "Stat=56360558.5, p=0.0000e+00\n"
          ]
        }
      ]
    },
    {
      "cell_type": "markdown",
      "source": [
        "--> p практически 0 — распределения количества рабочих часов в неделю у двух групп различаются"
      ],
      "metadata": {
        "id": "x3rbVd-3ukMV"
      }
    },
    {
      "cell_type": "markdown",
      "source": [
        "##2. Обучение машинных моделей и нахождение наиболее удачной"
      ],
      "metadata": {
        "id": "WSJnpNxlu3IC"
      }
    },
    {
      "cell_type": "markdown",
      "source": [
        "Для данного датасета:\n",
        "\n",
        "\n",
        "**Baseline модели**\n",
        "1. Dummy Classifier (стратегия most frequent)\n",
        "2. Логистическая регрессия с базовыми параметрами\n",
        "3. Дерево решений с базовыми параметрами\n",
        "\n",
        "\n",
        "**Продвинутые классификаторы**\n",
        "1. RandomForest\n",
        "2. GradientBoosting (XGBoost,LightGBM,CatBoost)\n",
        "3. Support Vector Machine с различными ядрами\n",
        "4. NaiveBayes\n",
        "5. K-Nearest Neighbors\n",
        "6. Многослойный перцептрон (MLP)\n",
        "7. Ансамблимоделей (Voting, Stacking)\n",
        "8. Нейронные сети с различными архитектурами (Dense, Dropout)\n",
        "\n",
        "\n",
        "**Методы перебора гиперпараметров**\n",
        "1. GridSearchCV - полный перебор по сетке\n",
        "2. RandomizedSearchCV - случайный поиск\n",
        "3. Bayesian Optimization (BayesSearchCV)\n",
        "4. Optuna-фреймвор для автоматической оптимизации\n",
        "5. Keras Tuner для нейронных сетей\n",
        "\n",
        "\n",
        "**Методы сравнения моделей**\n",
        "1. Кросс-валидация (k-fold, stratified)\n",
        "2. Сравнение кривых обучения\n",
        "3. Сравнение ROC-кривых и PR-кривых\n",
        "4. Статистические тесты (McNemar, t-тест)\n",
        "5. Анализ важности признаков\n",
        "6. Анализ ошибок классификации\n",
        "\n",
        "\n",
        "**Метрики**\n",
        "1. Accuracy\n",
        "2. Precision, Recall, F1-score\n",
        "3. ROC AUC\n",
        "4. Confusion Matrix\n",
        "5. Log Loss"
      ],
      "metadata": {
        "id": "X3T9B25jvKpk"
      }
    },
    {
      "cell_type": "markdown",
      "source": [
        "###Baseline модели"
      ],
      "metadata": {
        "id": "z1HaEbMXxpOl"
      }
    },
    {
      "cell_type": "code",
      "source": [
        "from sklearn.dummy import DummyClassifier\n",
        "from sklearn.linear_model import LogisticRegression\n",
        "from sklearn.tree import DecisionTreeClassifier\n",
        "\n",
        "\n",
        "results = {}\n",
        "\n",
        "# Dummy Classifier\n",
        "dummy = DummyClassifier(strategy=\"most_frequent\")\n",
        "dummy.fit(X_train_proc, y_train_enc)\n",
        "dummy_score = dummy.score(X_test_proc, y_test_enc)\n",
        "print(\"Dummy Classifier accuracy:\", dummy_score)\n",
        "results[\"Dummy Classifier\"] = dummy_score\n",
        "\n",
        "# Логистическая регрессия\n",
        "logreg = LogisticRegression(max_iter=2000, class_weight='balanced')\n",
        "logreg.fit(X_train_proc, y_train_enc)\n",
        "logreg_score = logreg.score(X_test_proc, y_test_enc)\n",
        "print(\"LogReg accuracy:\", logreg_score)\n",
        "results[\"Logistic Regression\"] = logreg_score\n",
        "\n",
        "# Дерево решений с базовыми параметрами\n",
        "tree = DecisionTreeClassifier(class_weight='balanced')\n",
        "tree.fit(X_train_proc, y_train_enc)\n",
        "tree_score = tree.score(X_test_proc, y_test_enc)\n",
        "print(\"Decision Tree accuracy:\", tree_score)\n",
        "results[\"Decision Tree\"] = tree_score"
      ],
      "metadata": {
        "colab": {
          "base_uri": "https://localhost:8080/"
        },
        "id": "N_gOl0t_xq4O",
        "outputId": "4d36146c-7085-4e65-8b4b-4d6f767ce580"
      },
      "execution_count": null,
      "outputs": [
        {
          "output_type": "stream",
          "name": "stdout",
          "text": [
            "Dummy Classifier accuracy: 0.7592630501535312\n",
            "LogReg accuracy: 0.8018423746161719\n",
            "Decision Tree accuracy: 0.8131013306038894\n"
          ]
        }
      ]
    },
    {
      "cell_type": "markdown",
      "source": [
        "###Продвинутые классификаторы"
      ],
      "metadata": {
        "id": "SMcFOsyX0hfe"
      }
    },
    {
      "cell_type": "code",
      "source": [
        "!pip install xgboost lightgbm catboost"
      ],
      "metadata": {
        "colab": {
          "base_uri": "https://localhost:8080/"
        },
        "collapsed": true,
        "id": "MOjLNMfz09rb",
        "outputId": "6222959a-0a72-4715-80d9-10de68e20306"
      },
      "execution_count": null,
      "outputs": [
        {
          "output_type": "stream",
          "name": "stdout",
          "text": [
            "Requirement already satisfied: xgboost in /usr/local/lib/python3.11/dist-packages (2.1.4)\n",
            "Requirement already satisfied: lightgbm in /usr/local/lib/python3.11/dist-packages (4.5.0)\n",
            "Requirement already satisfied: catboost in /usr/local/lib/python3.11/dist-packages (1.2.8)\n",
            "Requirement already satisfied: numpy in /usr/local/lib/python3.11/dist-packages (from xgboost) (2.0.2)\n",
            "Requirement already satisfied: nvidia-nccl-cu12 in /usr/local/lib/python3.11/dist-packages (from xgboost) (2.21.5)\n",
            "Requirement already satisfied: scipy in /usr/local/lib/python3.11/dist-packages (from xgboost) (1.15.3)\n",
            "Requirement already satisfied: graphviz in /usr/local/lib/python3.11/dist-packages (from catboost) (0.20.3)\n",
            "Requirement already satisfied: matplotlib in /usr/local/lib/python3.11/dist-packages (from catboost) (3.10.0)\n",
            "Requirement already satisfied: pandas>=0.24 in /usr/local/lib/python3.11/dist-packages (from catboost) (2.2.2)\n",
            "Requirement already satisfied: plotly in /usr/local/lib/python3.11/dist-packages (from catboost) (5.24.1)\n",
            "Requirement already satisfied: six in /usr/local/lib/python3.11/dist-packages (from catboost) (1.17.0)\n",
            "Requirement already satisfied: python-dateutil>=2.8.2 in /usr/local/lib/python3.11/dist-packages (from pandas>=0.24->catboost) (2.9.0.post0)\n",
            "Requirement already satisfied: pytz>=2020.1 in /usr/local/lib/python3.11/dist-packages (from pandas>=0.24->catboost) (2025.2)\n",
            "Requirement already satisfied: tzdata>=2022.7 in /usr/local/lib/python3.11/dist-packages (from pandas>=0.24->catboost) (2025.2)\n",
            "Requirement already satisfied: contourpy>=1.0.1 in /usr/local/lib/python3.11/dist-packages (from matplotlib->catboost) (1.3.2)\n",
            "Requirement already satisfied: cycler>=0.10 in /usr/local/lib/python3.11/dist-packages (from matplotlib->catboost) (0.12.1)\n",
            "Requirement already satisfied: fonttools>=4.22.0 in /usr/local/lib/python3.11/dist-packages (from matplotlib->catboost) (4.58.0)\n",
            "Requirement already satisfied: kiwisolver>=1.3.1 in /usr/local/lib/python3.11/dist-packages (from matplotlib->catboost) (1.4.8)\n",
            "Requirement already satisfied: packaging>=20.0 in /usr/local/lib/python3.11/dist-packages (from matplotlib->catboost) (24.2)\n",
            "Requirement already satisfied: pillow>=8 in /usr/local/lib/python3.11/dist-packages (from matplotlib->catboost) (11.2.1)\n",
            "Requirement already satisfied: pyparsing>=2.3.1 in /usr/local/lib/python3.11/dist-packages (from matplotlib->catboost) (3.2.3)\n",
            "Requirement already satisfied: tenacity>=6.2.0 in /usr/local/lib/python3.11/dist-packages (from plotly->catboost) (9.1.2)\n"
          ]
        }
      ]
    },
    {
      "cell_type": "markdown",
      "source": [
        "Преобразование выхода в плотный массив numpy"
      ],
      "metadata": {
        "id": "G878vv6E2iDy"
      }
    },
    {
      "cell_type": "code",
      "source": [
        "X_train_proc = X_train_proc.toarray()\n",
        "X_val_proc = X_val_proc.toarray()\n",
        "X_test_proc = X_test_proc.toarray()"
      ],
      "metadata": {
        "id": "Zwb7oa722fQj"
      },
      "execution_count": null,
      "outputs": []
    },
    {
      "cell_type": "code",
      "source": [
        "from sklearn.ensemble import RandomForestClassifier, GradientBoostingClassifier\n",
        "from xgboost import XGBClassifier\n",
        "from lightgbm import LGBMClassifier\n",
        "from catboost import CatBoostClassifier\n",
        "from sklearn.svm import SVC\n",
        "from sklearn.naive_bayes import GaussianNB\n",
        "from sklearn.neighbors import KNeighborsClassifier\n",
        "from sklearn.neural_network import MLPClassifier\n",
        "\n",
        "\n",
        "models = {\n",
        "    \"Random Forest\": RandomForestClassifier(random_state=42),\n",
        "    \"Gradient Boosting\": GradientBoostingClassifier(random_state=42),\n",
        "    \"XGBoost\": XGBClassifier(use_label_encoder=False, eval_metric='logloss', random_state=42),\n",
        "    \"LightGBM\": LGBMClassifier(random_state=42),\n",
        "    \"CatBoost\": CatBoostClassifier(verbose=0, random_state=42),\n",
        "}\n",
        "\n",
        "other_models = {\n",
        "    \"SVM (RBF kernel)\": SVC(kernel='rbf', probability=True, random_state=42),\n",
        "    \"Naive Bayes\": GaussianNB(),\n",
        "    \"K-Nearest Neighbors\": KNeighborsClassifier(),\n",
        "    \"MLP\": MLPClassifier(max_iter=300, random_state=42)\n",
        "}\n",
        "\n",
        "for name, model in models.items():\n",
        "    model.fit(X_train_proc, y_train_enc)\n",
        "    score = model.score(X_test_proc, y_test_enc)\n",
        "    print(f\"{name} accuracy: {score:.4f}\")\n",
        "    results[name] = score\n",
        "\n",
        "for name, model in other_models.items():\n",
        "    model.fit(X_train_proc, y_train_enc)\n",
        "    score = model.score(X_test_proc, y_test_enc)\n",
        "    print(f\"{name} accuracy: {score:.4f}\")\n",
        "    results[name] = score"
      ],
      "metadata": {
        "colab": {
          "base_uri": "https://localhost:8080/"
        },
        "collapsed": true,
        "id": "HIM_gsqq0tQW",
        "outputId": "75d3cf1e-f991-487b-f7a2-911448bdd2cc"
      },
      "execution_count": null,
      "outputs": [
        {
          "output_type": "stream",
          "name": "stdout",
          "text": [
            "Random Forest accuracy: 0.8508\n",
            "Gradient Boosting accuracy: 0.8628\n"
          ]
        },
        {
          "output_type": "stream",
          "name": "stderr",
          "text": [
            "/usr/local/lib/python3.11/dist-packages/xgboost/core.py:158: UserWarning: [19:58:33] WARNING: /workspace/src/learner.cc:740: \n",
            "Parameters: { \"use_label_encoder\" } are not used.\n",
            "\n",
            "  warnings.warn(smsg, UserWarning)\n"
          ]
        },
        {
          "output_type": "stream",
          "name": "stdout",
          "text": [
            "XGBoost accuracy: 0.8684\n",
            "[LightGBM] [Info] Number of positive: 5492, number of negative: 17313\n",
            "[LightGBM] [Info] Auto-choosing row-wise multi-threading, the overhead of testing was 0.002759 seconds.\n",
            "You can set `force_row_wise=true` to remove the overhead.\n",
            "And if memory is not enough, you can set `force_col_wise=true`.\n",
            "[LightGBM] [Info] Total Bins 724\n",
            "[LightGBM] [Info] Number of data points in the train set: 22805, number of used features: 50\n",
            "[LightGBM] [Info] [binary:BoostFromScore]: pavg=0.240824 -> initscore=-1.148165\n",
            "[LightGBM] [Info] Start training from score -1.148165\n"
          ]
        },
        {
          "output_type": "stream",
          "name": "stderr",
          "text": [
            "/usr/local/lib/python3.11/dist-packages/sklearn/utils/deprecation.py:151: FutureWarning: 'force_all_finite' was renamed to 'ensure_all_finite' in 1.6 and will be removed in 1.8.\n",
            "  warnings.warn(\n",
            "/usr/local/lib/python3.11/dist-packages/sklearn/utils/deprecation.py:151: FutureWarning: 'force_all_finite' was renamed to 'ensure_all_finite' in 1.6 and will be removed in 1.8.\n",
            "  warnings.warn(\n"
          ]
        },
        {
          "output_type": "stream",
          "name": "stdout",
          "text": [
            "LightGBM accuracy: 0.8725\n",
            "CatBoost accuracy: 0.8712\n",
            "SVM (RBF kernel) accuracy: 0.8420\n",
            "Naive Bayes accuracy: 0.6344\n",
            "K-Nearest Neighbors accuracy: 0.8297\n",
            "MLP accuracy: 0.8225\n"
          ]
        },
        {
          "output_type": "stream",
          "name": "stderr",
          "text": [
            "/usr/local/lib/python3.11/dist-packages/sklearn/neural_network/_multilayer_perceptron.py:691: ConvergenceWarning: Stochastic Optimizer: Maximum iterations (300) reached and the optimization hasn't converged yet.\n",
            "  warnings.warn(\n"
          ]
        }
      ]
    },
    {
      "cell_type": "code",
      "source": [
        "for model_name, accuracy in sorted(results.items(), key=lambda x: x[1], reverse=True):\n",
        "    print(f\"{model_name}: {accuracy:.4f}\")"
      ],
      "metadata": {
        "colab": {
          "base_uri": "https://localhost:8080/"
        },
        "id": "ixt7jwqO4q1I",
        "outputId": "040a3983-4ca5-46b5-a6bb-cb50268f6db5"
      },
      "execution_count": null,
      "outputs": [
        {
          "output_type": "stream",
          "name": "stdout",
          "text": [
            "LightGBM: 0.8725\n",
            "CatBoost: 0.8712\n",
            "XGBoost: 0.8684\n",
            "Gradient Boosting: 0.8628\n",
            "Random Forest: 0.8508\n",
            "SVM (RBF kernel): 0.8420\n",
            "K-Nearest Neighbors: 0.8297\n",
            "MLP: 0.8225\n",
            "Decision Tree: 0.8131\n",
            "Logistic Regression: 0.8018\n",
            "Dummy Classifier: 0.7593\n",
            "Naive Bayes: 0.6344\n"
          ]
        }
      ]
    },
    {
      "cell_type": "markdown",
      "source": [
        "###Ансамбли"
      ],
      "metadata": {
        "id": "_OPkeHeZ6jfx"
      }
    },
    {
      "cell_type": "markdown",
      "source": [
        "VotingClassifier"
      ],
      "metadata": {
        "id": "Aa0yicEt61fH"
      }
    },
    {
      "cell_type": "code",
      "source": [
        "from sklearn.ensemble import VotingClassifier, StackingClassifier"
      ],
      "metadata": {
        "id": "bHyPpSlG66au"
      },
      "execution_count": null,
      "outputs": []
    },
    {
      "cell_type": "code",
      "source": [
        "voting_clf = VotingClassifier(\n",
        "    estimators=[\n",
        "        ('catboost', CatBoostClassifier(verbose=0, random_state=42)),\n",
        "        ('xgboost', XGBClassifier(eval_metric='logloss', random_state=42)),\n",
        "        ('lightgbm', LGBMClassifier(random_state=42)),\n",
        "        ('gradboost', GradientBoostingClassifier(random_state=42))\n",
        "    ],\n",
        "    voting='soft'\n",
        ")\n",
        "\n",
        "voting_clf.fit(X_train_proc, y_train_enc)\n",
        "voting_score = voting_clf.score(X_test_proc, y_test_enc)\n",
        "print(f\"Voting Classifier accuracy: {voting_score:.4f}\")\n",
        "results['Voting Classifier'] = voting_score"
      ],
      "metadata": {
        "colab": {
          "base_uri": "https://localhost:8080/"
        },
        "collapsed": true,
        "id": "-bW5TOUt6lXJ",
        "outputId": "b9044c69-37c8-45c8-819a-8f9b44f91b6b"
      },
      "execution_count": null,
      "outputs": [
        {
          "output_type": "stream",
          "name": "stderr",
          "text": [
            "/usr/local/lib/python3.11/dist-packages/sklearn/utils/deprecation.py:151: FutureWarning: 'force_all_finite' was renamed to 'ensure_all_finite' in 1.6 and will be removed in 1.8.\n",
            "  warnings.warn(\n"
          ]
        },
        {
          "output_type": "stream",
          "name": "stdout",
          "text": [
            "[LightGBM] [Info] Number of positive: 5492, number of negative: 17313\n",
            "[LightGBM] [Info] Auto-choosing row-wise multi-threading, the overhead of testing was 0.002672 seconds.\n",
            "You can set `force_row_wise=true` to remove the overhead.\n",
            "And if memory is not enough, you can set `force_col_wise=true`.\n",
            "[LightGBM] [Info] Total Bins 724\n",
            "[LightGBM] [Info] Number of data points in the train set: 22805, number of used features: 50\n",
            "[LightGBM] [Info] [binary:BoostFromScore]: pavg=0.240824 -> initscore=-1.148165\n",
            "[LightGBM] [Info] Start training from score -1.148165\n"
          ]
        },
        {
          "output_type": "stream",
          "name": "stderr",
          "text": [
            "/usr/local/lib/python3.11/dist-packages/sklearn/utils/deprecation.py:151: FutureWarning: 'force_all_finite' was renamed to 'ensure_all_finite' in 1.6 and will be removed in 1.8.\n",
            "  warnings.warn(\n"
          ]
        },
        {
          "output_type": "stream",
          "name": "stdout",
          "text": [
            "Voting Classifier accuracy: 0.8700\n"
          ]
        },
        {
          "output_type": "stream",
          "name": "stderr",
          "text": [
            "/usr/local/lib/python3.11/dist-packages/sklearn/utils/deprecation.py:151: FutureWarning: 'force_all_finite' was renamed to 'ensure_all_finite' in 1.6 and will be removed in 1.8.\n",
            "  warnings.warn(\n"
          ]
        },
        {
          "output_type": "stream",
          "name": "stdout",
          "text": [
            "[LightGBM] [Info] Number of positive: 5492, number of negative: 17313\n",
            "[LightGBM] [Info] Auto-choosing row-wise multi-threading, the overhead of testing was 0.001822 seconds.\n",
            "You can set `force_row_wise=true` to remove the overhead.\n",
            "And if memory is not enough, you can set `force_col_wise=true`.\n",
            "[LightGBM] [Info] Total Bins 724\n",
            "[LightGBM] [Info] Number of data points in the train set: 22805, number of used features: 50\n",
            "[LightGBM] [Info] [binary:BoostFromScore]: pavg=0.240824 -> initscore=-1.148165\n",
            "[LightGBM] [Info] Start training from score -1.148165\n",
            "Voting Classifier accuracy: 0.8700\n"
          ]
        },
        {
          "output_type": "stream",
          "name": "stderr",
          "text": [
            "/usr/local/lib/python3.11/dist-packages/sklearn/utils/deprecation.py:151: FutureWarning: 'force_all_finite' was renamed to 'ensure_all_finite' in 1.6 and will be removed in 1.8.\n",
            "  warnings.warn(\n"
          ]
        }
      ]
    },
    {
      "cell_type": "markdown",
      "source": [
        "StackingClassifier"
      ],
      "metadata": {
        "id": "dFXzoLi463nM"
      }
    },
    {
      "cell_type": "code",
      "source": [
        "stacking_clf = StackingClassifier(\n",
        "    estimators=[\n",
        "        ('catboost', CatBoostClassifier(verbose=0, random_state=42)),\n",
        "        ('xgboost', XGBClassifier(eval_metric='logloss', random_state=42)),\n",
        "        ('lightgbm', LGBMClassifier(random_state=42)),\n",
        "        ('gradboost', GradientBoostingClassifier(random_state=42))\n",
        "    ],\n",
        "    final_estimator=LogisticRegression(max_iter=1000),\n",
        "    passthrough=True\n",
        ")\n",
        "\n",
        "stacking_clf.fit(X_train_proc, y_train_enc)\n",
        "stacking_score = stacking_clf.score(X_test_proc, y_test_enc)\n",
        "print(f\"Stacking Classifier accuracy: {stacking_score:.4f}\")\n",
        "results['Stacking Classifier'] = stacking_score"
      ],
      "metadata": {
        "colab": {
          "base_uri": "https://localhost:8080/"
        },
        "collapsed": true,
        "id": "mI2uvZqW64Dn",
        "outputId": "5182ea3f-d639-4165-ff5e-86e063dee407"
      },
      "execution_count": null,
      "outputs": [
        {
          "output_type": "stream",
          "name": "stderr",
          "text": [
            "/usr/local/lib/python3.11/dist-packages/sklearn/utils/deprecation.py:151: FutureWarning: 'force_all_finite' was renamed to 'ensure_all_finite' in 1.6 and will be removed in 1.8.\n",
            "  warnings.warn(\n"
          ]
        },
        {
          "output_type": "stream",
          "name": "stdout",
          "text": [
            "[LightGBM] [Info] Number of positive: 5492, number of negative: 17313\n",
            "[LightGBM] [Info] Auto-choosing row-wise multi-threading, the overhead of testing was 0.001864 seconds.\n",
            "You can set `force_row_wise=true` to remove the overhead.\n",
            "And if memory is not enough, you can set `force_col_wise=true`.\n",
            "[LightGBM] [Info] Total Bins 724\n",
            "[LightGBM] [Info] Number of data points in the train set: 22805, number of used features: 50\n",
            "[LightGBM] [Info] [binary:BoostFromScore]: pavg=0.240824 -> initscore=-1.148165\n",
            "[LightGBM] [Info] Start training from score -1.148165\n"
          ]
        },
        {
          "output_type": "stream",
          "name": "stderr",
          "text": [
            "/usr/local/lib/python3.11/dist-packages/sklearn/utils/deprecation.py:151: FutureWarning: 'force_all_finite' was renamed to 'ensure_all_finite' in 1.6 and will be removed in 1.8.\n",
            "  warnings.warn(\n",
            "/usr/local/lib/python3.11/dist-packages/sklearn/utils/deprecation.py:151: FutureWarning: 'force_all_finite' was renamed to 'ensure_all_finite' in 1.6 and will be removed in 1.8.\n",
            "  warnings.warn(\n"
          ]
        },
        {
          "output_type": "stream",
          "name": "stdout",
          "text": [
            "[LightGBM] [Info] Number of positive: 4394, number of negative: 13850\n",
            "[LightGBM] [Info] Auto-choosing row-wise multi-threading, the overhead of testing was 0.002233 seconds.\n",
            "You can set `force_row_wise=true` to remove the overhead.\n",
            "And if memory is not enough, you can set `force_col_wise=true`.\n",
            "[LightGBM] [Info] Total Bins 710\n",
            "[LightGBM] [Info] Number of data points in the train set: 18244, number of used features: 50\n",
            "[LightGBM] [Info] [binary:BoostFromScore]: pavg=0.240846 -> initscore=-1.148045\n",
            "[LightGBM] [Info] Start training from score -1.148045\n"
          ]
        },
        {
          "output_type": "stream",
          "name": "stderr",
          "text": [
            "/usr/local/lib/python3.11/dist-packages/sklearn/utils/deprecation.py:151: FutureWarning: 'force_all_finite' was renamed to 'ensure_all_finite' in 1.6 and will be removed in 1.8.\n",
            "  warnings.warn(\n",
            "/usr/local/lib/python3.11/dist-packages/sklearn/utils/deprecation.py:151: FutureWarning: 'force_all_finite' was renamed to 'ensure_all_finite' in 1.6 and will be removed in 1.8.\n",
            "  warnings.warn(\n"
          ]
        },
        {
          "output_type": "stream",
          "name": "stdout",
          "text": [
            "[LightGBM] [Info] Number of positive: 4394, number of negative: 13850\n",
            "[LightGBM] [Info] Auto-choosing row-wise multi-threading, the overhead of testing was 0.001601 seconds.\n",
            "You can set `force_row_wise=true` to remove the overhead.\n",
            "And if memory is not enough, you can set `force_col_wise=true`.\n",
            "[LightGBM] [Info] Total Bins 714\n",
            "[LightGBM] [Info] Number of data points in the train set: 18244, number of used features: 50\n",
            "[LightGBM] [Info] [binary:BoostFromScore]: pavg=0.240846 -> initscore=-1.148045\n",
            "[LightGBM] [Info] Start training from score -1.148045\n"
          ]
        },
        {
          "output_type": "stream",
          "name": "stderr",
          "text": [
            "/usr/local/lib/python3.11/dist-packages/sklearn/utils/deprecation.py:151: FutureWarning: 'force_all_finite' was renamed to 'ensure_all_finite' in 1.6 and will be removed in 1.8.\n",
            "  warnings.warn(\n",
            "/usr/local/lib/python3.11/dist-packages/sklearn/utils/deprecation.py:151: FutureWarning: 'force_all_finite' was renamed to 'ensure_all_finite' in 1.6 and will be removed in 1.8.\n",
            "  warnings.warn(\n"
          ]
        },
        {
          "output_type": "stream",
          "name": "stdout",
          "text": [
            "[LightGBM] [Info] Number of positive: 4394, number of negative: 13850\n",
            "[LightGBM] [Info] Auto-choosing row-wise multi-threading, the overhead of testing was 0.001449 seconds.\n",
            "You can set `force_row_wise=true` to remove the overhead.\n",
            "And if memory is not enough, you can set `force_col_wise=true`.\n",
            "[LightGBM] [Info] Total Bins 709\n",
            "[LightGBM] [Info] Number of data points in the train set: 18244, number of used features: 50\n",
            "[LightGBM] [Info] [binary:BoostFromScore]: pavg=0.240846 -> initscore=-1.148045\n",
            "[LightGBM] [Info] Start training from score -1.148045\n"
          ]
        },
        {
          "output_type": "stream",
          "name": "stderr",
          "text": [
            "/usr/local/lib/python3.11/dist-packages/sklearn/utils/deprecation.py:151: FutureWarning: 'force_all_finite' was renamed to 'ensure_all_finite' in 1.6 and will be removed in 1.8.\n",
            "  warnings.warn(\n"
          ]
        },
        {
          "output_type": "stream",
          "name": "stdout",
          "text": [
            "[LightGBM] [Info] Number of positive: 4393, number of negative: 13851\n",
            "[LightGBM] [Info] Auto-choosing row-wise multi-threading, the overhead of testing was 0.001483 seconds.\n",
            "You can set `force_row_wise=true` to remove the overhead.\n",
            "And if memory is not enough, you can set `force_col_wise=true`.\n",
            "[LightGBM] [Info] Total Bins 717\n",
            "[LightGBM] [Info] Number of data points in the train set: 18244, number of used features: 50\n",
            "[LightGBM] [Info] [binary:BoostFromScore]: pavg=0.240791 -> initscore=-1.148345\n",
            "[LightGBM] [Info] Start training from score -1.148345\n"
          ]
        },
        {
          "output_type": "stream",
          "name": "stderr",
          "text": [
            "/usr/local/lib/python3.11/dist-packages/sklearn/utils/deprecation.py:151: FutureWarning: 'force_all_finite' was renamed to 'ensure_all_finite' in 1.6 and will be removed in 1.8.\n",
            "  warnings.warn(\n",
            "/usr/local/lib/python3.11/dist-packages/sklearn/utils/deprecation.py:151: FutureWarning: 'force_all_finite' was renamed to 'ensure_all_finite' in 1.6 and will be removed in 1.8.\n",
            "  warnings.warn(\n"
          ]
        },
        {
          "output_type": "stream",
          "name": "stdout",
          "text": [
            "[LightGBM] [Info] Number of positive: 4393, number of negative: 13851\n",
            "[LightGBM] [Info] Auto-choosing row-wise multi-threading, the overhead of testing was 0.001469 seconds.\n",
            "You can set `force_row_wise=true` to remove the overhead.\n",
            "And if memory is not enough, you can set `force_col_wise=true`.\n",
            "[LightGBM] [Info] Total Bins 718\n",
            "[LightGBM] [Info] Number of data points in the train set: 18244, number of used features: 50\n",
            "[LightGBM] [Info] [binary:BoostFromScore]: pavg=0.240791 -> initscore=-1.148345\n",
            "[LightGBM] [Info] Start training from score -1.148345\n"
          ]
        },
        {
          "output_type": "stream",
          "name": "stderr",
          "text": [
            "/usr/local/lib/python3.11/dist-packages/sklearn/utils/deprecation.py:151: FutureWarning: 'force_all_finite' was renamed to 'ensure_all_finite' in 1.6 and will be removed in 1.8.\n",
            "  warnings.warn(\n"
          ]
        },
        {
          "output_type": "stream",
          "name": "stdout",
          "text": [
            "Stacking Classifier accuracy: 0.8712\n"
          ]
        },
        {
          "output_type": "stream",
          "name": "stderr",
          "text": [
            "/usr/local/lib/python3.11/dist-packages/sklearn/utils/deprecation.py:151: FutureWarning: 'force_all_finite' was renamed to 'ensure_all_finite' in 1.6 and will be removed in 1.8.\n",
            "  warnings.warn(\n"
          ]
        }
      ]
    },
    {
      "cell_type": "code",
      "source": [
        "for model_name, accuracy in sorted(results.items(), key=lambda x: x[1], reverse=True):\n",
        "    print(f\"{model_name}: {accuracy:.4f}\")"
      ],
      "metadata": {
        "colab": {
          "base_uri": "https://localhost:8080/"
        },
        "id": "Ok_xKbxO7zUE",
        "outputId": "40a1e589-e2e2-4beb-c6c2-0764409c23a0"
      },
      "execution_count": null,
      "outputs": [
        {
          "output_type": "stream",
          "name": "stdout",
          "text": [
            "LightGBM: 0.8725\n",
            "CatBoost: 0.8712\n",
            "Stacking Classifier: 0.8712\n",
            "Voting Classifier: 0.8700\n",
            "XGBoost: 0.8684\n",
            "Gradient Boosting: 0.8628\n",
            "Random Forest: 0.8508\n",
            "SVM (RBF kernel): 0.8420\n",
            "K-Nearest Neighbors: 0.8297\n",
            "MLP: 0.8225\n",
            "Decision Tree: 0.8131\n",
            "Logistic Regression: 0.8018\n",
            "Dummy Classifier: 0.7593\n",
            "Naive Bayes: 0.6344\n"
          ]
        }
      ]
    },
    {
      "cell_type": "code",
      "source": [
        "!pip install optuna"
      ],
      "metadata": {
        "colab": {
          "base_uri": "https://localhost:8080/"
        },
        "collapsed": true,
        "id": "lSs5McKg9cBy",
        "outputId": "dc07ed32-a276-4daa-fb90-b53724884e21"
      },
      "execution_count": null,
      "outputs": [
        {
          "output_type": "stream",
          "name": "stdout",
          "text": [
            "Requirement already satisfied: optuna in /usr/local/lib/python3.11/dist-packages (4.3.0)\n",
            "Requirement already satisfied: alembic>=1.5.0 in /usr/local/lib/python3.11/dist-packages (from optuna) (1.16.1)\n",
            "Requirement already satisfied: colorlog in /usr/local/lib/python3.11/dist-packages (from optuna) (6.9.0)\n",
            "Requirement already satisfied: numpy in /usr/local/lib/python3.11/dist-packages (from optuna) (2.0.2)\n",
            "Requirement already satisfied: packaging>=20.0 in /usr/local/lib/python3.11/dist-packages (from optuna) (24.2)\n",
            "Requirement already satisfied: sqlalchemy>=1.4.2 in /usr/local/lib/python3.11/dist-packages (from optuna) (2.0.41)\n",
            "Requirement already satisfied: tqdm in /usr/local/lib/python3.11/dist-packages (from optuna) (4.67.1)\n",
            "Requirement already satisfied: PyYAML in /usr/local/lib/python3.11/dist-packages (from optuna) (6.0.2)\n",
            "Requirement already satisfied: Mako in /usr/lib/python3/dist-packages (from alembic>=1.5.0->optuna) (1.1.3)\n",
            "Requirement already satisfied: typing-extensions>=4.12 in /usr/local/lib/python3.11/dist-packages (from alembic>=1.5.0->optuna) (4.13.2)\n",
            "Requirement already satisfied: greenlet>=1 in /usr/local/lib/python3.11/dist-packages (from sqlalchemy>=1.4.2->optuna) (3.2.2)\n"
          ]
        }
      ]
    },
    {
      "cell_type": "code",
      "source": [
        "import warnings\n",
        "warnings.filterwarnings(\"ignore\", category=FutureWarning)"
      ],
      "metadata": {
        "id": "I3dkX3KFMuJ2"
      },
      "execution_count": null,
      "outputs": []
    },
    {
      "cell_type": "code",
      "source": [
        "for name, model in models_cv.items():\n",
        "    if name not in [\"LightGBM (Optuna)\", \"Stacking Classifier\", \"Voting Classifier\"]:\n",
        "        model.fit(X_train_proc, y_train_enc)"
      ],
      "metadata": {
        "id": "VeFDhXKXfwvG"
      },
      "execution_count": null,
      "outputs": []
    },
    {
      "cell_type": "code",
      "source": [
        "import optuna\n",
        "from catboost import CatBoostClassifier\n",
        "from sklearn.model_selection import cross_val_score\n",
        "\n",
        "\n",
        "def objective(trial):\n",
        "    params = {\n",
        "        'iterations': trial.suggest_int('iterations', 100, 500),\n",
        "        'depth': trial.suggest_int('depth', 4, 10),\n",
        "        'learning_rate': trial.suggest_float('learning_rate', 0.01, 0.3, log=True),\n",
        "        'l2_leaf_reg': trial.suggest_float('l2_leaf_reg', 1, 10),\n",
        "        'random_state': 42,\n",
        "        'verbose': 0\n",
        "    }\n",
        "    model = CatBoostClassifier(**params)\n",
        "    score = cross_val_score(model, X_train_proc, y_train_enc, cv=3, scoring='accuracy').mean()\n",
        "    return score\n",
        "\n",
        "study = optuna.create_study(direction='maximize')\n",
        "study.optimize(objective, n_trials=50)\n",
        "\n",
        "print(\"Best trial params:\", study.best_trial.params)\n",
        "print(\"Best CV accuracy:\", study.best_trial.value)\n",
        "\n",
        "best_catboost = CatBoostClassifier(**study.best_trial.params)\n",
        "best_catboost.fit(X_train_proc, y_train_enc)\n",
        "\n",
        "test_score = best_catboost.score(X_test_proc, y_test_enc)\n",
        "print(f\"CatBoost (Optuna-tuned) test accuracy: {test_score:.4f}\")\n",
        "\n",
        "results[\"CatBoost (Optuna)\"] = test_score"
      ],
      "metadata": {
        "colab": {
          "base_uri": "https://localhost:8080/"
        },
        "collapsed": true,
        "id": "Wg6l1QRP9NXB",
        "outputId": "ed516208-1788-4f11-f82f-5781a94d9e71"
      },
      "execution_count": null,
      "outputs": [
        {
          "output_type": "stream",
          "name": "stderr",
          "text": [
            "[I 2025-06-01 20:05:01,203] A new study created in memory with name: no-name-6837be5a-5309-42fb-92cf-bf2428a81efa\n",
            "[I 2025-06-01 20:05:07,128] Trial 0 finished with value: 0.8716071032115519 and parameters: {'iterations': 448, 'depth': 6, 'learning_rate': 0.056209507505240904, 'l2_leaf_reg': 6.544415751028603}. Best is trial 0 with value: 0.8716071032115519.\n",
            "[I 2025-06-01 20:05:14,052] Trial 1 finished with value: 0.8683182411264859 and parameters: {'iterations': 389, 'depth': 7, 'learning_rate': 0.12069325782966166, 'l2_leaf_reg': 1.2353457704929536}. Best is trial 0 with value: 0.8716071032115519.\n",
            "[I 2025-06-01 20:05:24,135] Trial 2 finished with value: 0.8647664345987698 and parameters: {'iterations': 470, 'depth': 8, 'learning_rate': 0.012019816095075655, 'l2_leaf_reg': 7.2584767237376155}. Best is trial 0 with value: 0.8716071032115519.\n",
            "[I 2025-06-01 20:05:29,116] Trial 3 finished with value: 0.8704669715855363 and parameters: {'iterations': 418, 'depth': 5, 'learning_rate': 0.08595383149400213, 'l2_leaf_reg': 7.922649626787725}. Best is trial 0 with value: 0.8716071032115519.\n",
            "[I 2025-06-01 20:05:38,651] Trial 4 finished with value: 0.8689760954594529 and parameters: {'iterations': 445, 'depth': 8, 'learning_rate': 0.027378987137262393, 'l2_leaf_reg': 7.443747999454565}. Best is trial 0 with value: 0.8716071032115519.\n",
            "[I 2025-06-01 20:05:41,803] Trial 5 finished with value: 0.8657311334030958 and parameters: {'iterations': 194, 'depth': 6, 'learning_rate': 0.039961541184630654, 'l2_leaf_reg': 2.289327434975127}. Best is trial 0 with value: 0.8716071032115519.\n",
            "[I 2025-06-01 20:05:47,256] Trial 6 finished with value: 0.869414565023459 and parameters: {'iterations': 385, 'depth': 5, 'learning_rate': 0.19827401659988184, 'l2_leaf_reg': 9.428376790700186}. Best is trial 0 with value: 0.8716071032115519.\n",
            "[I 2025-06-01 20:05:51,774] Trial 7 finished with value: 0.857531184913232 and parameters: {'iterations': 126, 'depth': 9, 'learning_rate': 0.017262076003481765, 'l2_leaf_reg': 6.9148711958190034}. Best is trial 0 with value: 0.8716071032115519.\n",
            "[I 2025-06-01 20:05:54,600] Trial 8 finished with value: 0.8563033109170903 and parameters: {'iterations': 189, 'depth': 5, 'learning_rate': 0.017099777546090336, 'l2_leaf_reg': 6.684783558322634}. Best is trial 0 with value: 0.8716071032115519.\n",
            "[I 2025-06-01 20:06:00,533] Trial 9 finished with value: 0.8594605248345925 and parameters: {'iterations': 428, 'depth': 5, 'learning_rate': 0.010403780372488174, 'l2_leaf_reg': 5.299142128013664}. Best is trial 0 with value: 0.8716071032115519.\n",
            "[I 2025-06-01 20:06:18,188] Trial 10 finished with value: 0.8576189157458997 and parameters: {'iterations': 314, 'depth': 10, 'learning_rate': 0.2997388108105755, 'l2_leaf_reg': 4.70828229554016}. Best is trial 0 with value: 0.8716071032115519.\n",
            "[I 2025-06-01 20:06:24,289] Trial 11 finished with value: 0.8713001491343393 and parameters: {'iterations': 500, 'depth': 4, 'learning_rate': 0.08530811602246986, 'l2_leaf_reg': 9.572951879134733}. Best is trial 0 with value: 0.8716071032115519.\n",
            "[I 2025-06-01 20:06:29,534] Trial 12 finished with value: 0.8700723616691347 and parameters: {'iterations': 486, 'depth': 4, 'learning_rate': 0.0667725560936715, 'l2_leaf_reg': 9.712334545671242}. Best is trial 0 with value: 0.8716071032115519.\n",
            "[I 2025-06-01 20:06:34,127] Trial 13 finished with value: 0.8718263033811802 and parameters: {'iterations': 331, 'depth': 4, 'learning_rate': 0.12386987564210815, 'l2_leaf_reg': 3.977486696829674}. Best is trial 13 with value: 0.8718263033811802.\n",
            "[I 2025-06-01 20:06:38,598] Trial 14 finished with value: 0.870423088863015 and parameters: {'iterations': 309, 'depth': 6, 'learning_rate': 0.14224031556210348, 'l2_leaf_reg': 3.8888710566092506}. Best is trial 13 with value: 0.8718263033811802.\n",
            "[I 2025-06-01 20:06:44,918] Trial 15 finished with value: 0.8708617026452495 and parameters: {'iterations': 348, 'depth': 7, 'learning_rate': 0.045178744865652244, 'l2_leaf_reg': 3.6525158531409527}. Best is trial 13 with value: 0.8718263033811802.\n",
            "[I 2025-06-01 20:06:48,732] Trial 16 finished with value: 0.8659941874515996 and parameters: {'iterations': 249, 'depth': 6, 'learning_rate': 0.03287475311446205, 'l2_leaf_reg': 5.981309588822848}. Best is trial 13 with value: 0.8718263033811802.\n",
            "[I 2025-06-01 20:06:52,044] Trial 17 finished with value: 0.8692829572369994 and parameters: {'iterations': 265, 'depth': 4, 'learning_rate': 0.06155148736574138, 'l2_leaf_reg': 3.744210333029373}. Best is trial 13 with value: 0.8718263033811802.\n",
            "[I 2025-06-01 20:06:57,714] Trial 18 finished with value: 0.868888445388993 and parameters: {'iterations': 355, 'depth': 6, 'learning_rate': 0.13309587417441768, 'l2_leaf_reg': 2.631037405336826}. Best is trial 13 with value: 0.8718263033811802.\n",
            "[I 2025-06-01 20:07:02,286] Trial 19 finished with value: 0.8659942912887241 and parameters: {'iterations': 261, 'depth': 7, 'learning_rate': 0.24503328196229596, 'l2_leaf_reg': 8.496714542752452}. Best is trial 13 with value: 0.8718263033811802.\n",
            "[I 2025-06-01 20:07:07,212] Trial 20 finished with value: 0.8716509686278858 and parameters: {'iterations': 362, 'depth': 4, 'learning_rate': 0.1019814947378964, 'l2_leaf_reg': 5.896121511698659}. Best is trial 13 with value: 0.8718263033811802.\n",
            "[I 2025-06-01 20:07:11,325] Trial 21 finished with value: 0.8720017592777864 and parameters: {'iterations': 355, 'depth': 4, 'learning_rate': 0.10230567851601098, 'l2_leaf_reg': 5.804305958170638}. Best is trial 21 with value: 0.8720017592777864.\n",
            "[I 2025-06-01 20:07:15,281] Trial 22 finished with value: 0.8715193723788842 and parameters: {'iterations': 339, 'depth': 4, 'learning_rate': 0.09593561718929443, 'l2_leaf_reg': 4.936430195549872}. Best is trial 21 with value: 0.8720017592777864.\n",
            "[I 2025-06-01 20:07:20,515] Trial 23 finished with value: 0.8712563298678385 and parameters: {'iterations': 386, 'depth': 4, 'learning_rate': 0.18376649420206287, 'l2_leaf_reg': 5.9798508694136485}. Best is trial 21 with value: 0.8720017592777864.\n",
            "[I 2025-06-01 20:07:24,262] Trial 24 finished with value: 0.871782466808492 and parameters: {'iterations': 286, 'depth': 5, 'learning_rate': 0.15998323183658605, 'l2_leaf_reg': 4.370920899685262}. Best is trial 21 with value: 0.8720017592777864.\n",
            "[I 2025-06-01 20:07:28,855] Trial 25 finished with value: 0.8710808739712322 and parameters: {'iterations': 287, 'depth': 5, 'learning_rate': 0.15340450162122887, 'l2_leaf_reg': 4.3381855700126355}. Best is trial 21 with value: 0.8720017592777864.\n",
            "[I 2025-06-01 20:07:32,040] Trial 26 finished with value: 0.8708177968478118 and parameters: {'iterations': 227, 'depth': 5, 'learning_rate': 0.22374257869054753, 'l2_leaf_reg': 2.9563385015765102}. Best is trial 21 with value: 0.8720017592777864.\n",
            "[I 2025-06-01 20:07:35,843] Trial 27 finished with value: 0.8707300948587898 and parameters: {'iterations': 321, 'depth': 4, 'learning_rate': 0.16536478944927022, 'l2_leaf_reg': 1.5669976267488352}. Best is trial 21 with value: 0.8720017592777864.\n",
            "[I 2025-06-01 20:07:40,475] Trial 28 finished with value: 0.8713439857070275 and parameters: {'iterations': 288, 'depth': 5, 'learning_rate': 0.07668629589992233, 'l2_leaf_reg': 3.252556730858228}. Best is trial 21 with value: 0.8720017592777864.\n",
            "[I 2025-06-01 20:07:43,899] Trial 29 finished with value: 0.8708616968765205 and parameters: {'iterations': 217, 'depth': 6, 'learning_rate': 0.11951824755636546, 'l2_leaf_reg': 4.317826827898872}. Best is trial 21 with value: 0.8720017592777864.\n",
            "[I 2025-06-01 20:07:45,889] Trial 30 finished with value: 0.8605128910155656 and parameters: {'iterations': 113, 'depth': 4, 'learning_rate': 0.05089666380607512, 'l2_leaf_reg': 1.9868536847768956}. Best is trial 21 with value: 0.8720017592777864.\n",
            "[I 2025-06-01 20:07:50,123] Trial 31 finished with value: 0.8723525614651454 and parameters: {'iterations': 356, 'depth': 4, 'learning_rate': 0.11858770433110749, 'l2_leaf_reg': 6.033183647069916}. Best is trial 31 with value: 0.8723525614651454.\n",
            "[I 2025-06-01 20:07:55,282] Trial 32 finished with value: 0.8714316992335078 and parameters: {'iterations': 405, 'depth': 4, 'learning_rate': 0.12696325726658694, 'l2_leaf_reg': 5.461677048309519}. Best is trial 31 with value: 0.8723525614651454.\n",
            "[I 2025-06-01 20:07:59,887] Trial 33 finished with value: 0.8721333324518715 and parameters: {'iterations': 370, 'depth': 5, 'learning_rate': 0.10585199169950169, 'l2_leaf_reg': 6.294876552782755}. Best is trial 31 with value: 0.8723525614651454.\n",
            "[I 2025-06-01 20:08:04,985] Trial 34 finished with value: 0.8706424332508717 and parameters: {'iterations': 380, 'depth': 4, 'learning_rate': 0.07305859602902214, 'l2_leaf_reg': 6.299812990545577}. Best is trial 31 with value: 0.8723525614651454.\n",
            "[I 2025-06-01 20:08:11,803] Trial 35 finished with value: 0.870203946380678 and parameters: {'iterations': 333, 'depth': 8, 'learning_rate': 0.10555974978257775, 'l2_leaf_reg': 7.80937018136227}. Best is trial 31 with value: 0.8723525614651454.\n",
            "[I 2025-06-01 20:08:17,921] Trial 36 finished with value: 0.8701162501603852 and parameters: {'iterations': 456, 'depth': 5, 'learning_rate': 0.11289605530599195, 'l2_leaf_reg': 7.025158203948093}. Best is trial 31 with value: 0.8723525614651454.\n",
            "[I 2025-06-01 20:08:22,584] Trial 37 finished with value: 0.8722210055972478 and parameters: {'iterations': 417, 'depth': 4, 'learning_rate': 0.08673860737072729, 'l2_leaf_reg': 5.131865010467345}. Best is trial 31 with value: 0.8723525614651454.\n",
            "[I 2025-06-01 20:08:28,492] Trial 38 finished with value: 0.8707739833500402 and parameters: {'iterations': 433, 'depth': 5, 'learning_rate': 0.055972522207234976, 'l2_leaf_reg': 8.570880113087377}. Best is trial 31 with value: 0.8723525614651454.\n",
            "[I 2025-06-01 20:08:34,895] Trial 39 finished with value: 0.8699408231074245 and parameters: {'iterations': 399, 'depth': 7, 'learning_rate': 0.0865933663693156, 'l2_leaf_reg': 6.42957862084022}. Best is trial 31 with value: 0.8723525614651454.\n",
            "[I 2025-06-01 20:08:41,464] Trial 40 finished with value: 0.8704669946604527 and parameters: {'iterations': 414, 'depth': 6, 'learning_rate': 0.088135052960872, 'l2_leaf_reg': 5.031722060614265}. Best is trial 31 with value: 0.8723525614651454.\n",
            "[I 2025-06-01 20:08:45,728] Trial 41 finished with value: 0.872264842169936 and parameters: {'iterations': 371, 'depth': 4, 'learning_rate': 0.11414320602483595, 'l2_leaf_reg': 5.591784534366431}. Best is trial 31 with value: 0.8723525614651454.\n",
            "[I 2025-06-01 20:08:50,691] Trial 42 finished with value: 0.8716071089802809 and parameters: {'iterations': 370, 'depth': 4, 'learning_rate': 0.07794139294727656, 'l2_leaf_reg': 5.46619082518844}. Best is trial 31 with value: 0.8723525614651454.\n",
            "[I 2025-06-01 20:08:56,135] Trial 43 finished with value: 0.8706862236737267 and parameters: {'iterations': 454, 'depth': 5, 'learning_rate': 0.10055547723350862, 'l2_leaf_reg': 7.495943271003024}. Best is trial 31 with value: 0.8723525614651454.\n",
            "[I 2025-06-01 20:09:01,208] Trial 44 finished with value: 0.8708616391892292 and parameters: {'iterations': 366, 'depth': 4, 'learning_rate': 0.06698126300104705, 'l2_leaf_reg': 5.732377213351164}. Best is trial 31 with value: 0.8723525614651454.\n",
            "[I 2025-06-01 20:09:05,938] Trial 45 finished with value: 0.8703354157176385 and parameters: {'iterations': 427, 'depth': 4, 'learning_rate': 0.17989603391813788, 'l2_leaf_reg': 6.6372677013801145}. Best is trial 31 with value: 0.8723525614651454.\n",
            "[I 2025-06-01 20:09:11,590] Trial 46 finished with value: 0.8697654248981096 and parameters: {'iterations': 397, 'depth': 5, 'learning_rate': 0.14300815487659913, 'l2_leaf_reg': 5.13607324337922}. Best is trial 31 with value: 0.8723525614651454.\n",
            "[I 2025-06-01 20:09:33,087] Trial 47 finished with value: 0.8650296040218565 and parameters: {'iterations': 374, 'depth': 10, 'learning_rate': 0.11474572964894167, 'l2_leaf_reg': 7.048562974648714}. Best is trial 31 with value: 0.8723525614651454.\n",
            "[I 2025-06-01 20:09:45,205] Trial 48 finished with value: 0.8609514874916128 and parameters: {'iterations': 345, 'depth': 9, 'learning_rate': 0.21778990019026578, 'l2_leaf_reg': 6.228480741005043}. Best is trial 31 with value: 0.8723525614651454.\n",
            "[I 2025-06-01 20:09:50,212] Trial 49 finished with value: 0.8695460978164403 and parameters: {'iterations': 440, 'depth': 4, 'learning_rate': 0.04045196361566248, 'l2_leaf_reg': 4.6351336326704375}. Best is trial 31 with value: 0.8723525614651454.\n"
          ]
        },
        {
          "output_type": "stream",
          "name": "stdout",
          "text": [
            "Best trial params: {'iterations': 356, 'depth': 4, 'learning_rate': 0.11858770433110749, 'l2_leaf_reg': 6.033183647069916}\n",
            "Best CV accuracy: 0.8723525614651454\n",
            "0:\tlearn: 0.5879295\ttotal: 4.44ms\tremaining: 1.58s\n",
            "1:\tlearn: 0.5121297\ttotal: 8.59ms\tremaining: 1.52s\n",
            "2:\tlearn: 0.4624522\ttotal: 12.8ms\tremaining: 1.5s\n",
            "3:\tlearn: 0.4274124\ttotal: 17ms\tremaining: 1.5s\n",
            "4:\tlearn: 0.4047094\ttotal: 20.9ms\tremaining: 1.46s\n",
            "5:\tlearn: 0.3898926\ttotal: 25ms\tremaining: 1.46s\n",
            "6:\tlearn: 0.3812261\ttotal: 29.2ms\tremaining: 1.45s\n",
            "7:\tlearn: 0.3689664\ttotal: 33.3ms\tremaining: 1.45s\n",
            "8:\tlearn: 0.3593198\ttotal: 37.3ms\tremaining: 1.44s\n",
            "9:\tlearn: 0.3510886\ttotal: 41.2ms\tremaining: 1.43s\n",
            "10:\tlearn: 0.3444894\ttotal: 45.1ms\tremaining: 1.42s\n",
            "11:\tlearn: 0.3392349\ttotal: 49ms\tremaining: 1.4s\n",
            "12:\tlearn: 0.3364213\ttotal: 52.8ms\tremaining: 1.39s\n",
            "13:\tlearn: 0.3340543\ttotal: 56.8ms\tremaining: 1.39s\n",
            "14:\tlearn: 0.3312381\ttotal: 60.7ms\tremaining: 1.38s\n",
            "15:\tlearn: 0.3286930\ttotal: 64.9ms\tremaining: 1.38s\n",
            "16:\tlearn: 0.3251796\ttotal: 68.9ms\tremaining: 1.37s\n",
            "17:\tlearn: 0.3232190\ttotal: 72.8ms\tremaining: 1.37s\n",
            "18:\tlearn: 0.3209494\ttotal: 76.7ms\tremaining: 1.36s\n",
            "19:\tlearn: 0.3194746\ttotal: 80.5ms\tremaining: 1.35s\n",
            "20:\tlearn: 0.3171334\ttotal: 84.5ms\tremaining: 1.35s\n",
            "21:\tlearn: 0.3155206\ttotal: 88.5ms\tremaining: 1.34s\n",
            "22:\tlearn: 0.3143647\ttotal: 92.5ms\tremaining: 1.34s\n",
            "23:\tlearn: 0.3134960\ttotal: 96.5ms\tremaining: 1.33s\n",
            "24:\tlearn: 0.3128337\ttotal: 101ms\tremaining: 1.33s\n",
            "25:\tlearn: 0.3119028\ttotal: 105ms\tremaining: 1.33s\n",
            "26:\tlearn: 0.3112668\ttotal: 109ms\tremaining: 1.33s\n",
            "27:\tlearn: 0.3107248\ttotal: 113ms\tremaining: 1.32s\n",
            "28:\tlearn: 0.3099459\ttotal: 117ms\tremaining: 1.32s\n",
            "29:\tlearn: 0.3094610\ttotal: 121ms\tremaining: 1.32s\n",
            "30:\tlearn: 0.3087781\ttotal: 125ms\tremaining: 1.31s\n",
            "31:\tlearn: 0.3080900\ttotal: 129ms\tremaining: 1.31s\n",
            "32:\tlearn: 0.3073721\ttotal: 135ms\tremaining: 1.32s\n",
            "33:\tlearn: 0.3068365\ttotal: 140ms\tremaining: 1.32s\n",
            "34:\tlearn: 0.3053691\ttotal: 144ms\tremaining: 1.32s\n",
            "35:\tlearn: 0.3041533\ttotal: 148ms\tremaining: 1.31s\n",
            "36:\tlearn: 0.3037254\ttotal: 151ms\tremaining: 1.3s\n",
            "37:\tlearn: 0.3033745\ttotal: 156ms\tremaining: 1.3s\n",
            "38:\tlearn: 0.3027029\ttotal: 159ms\tremaining: 1.3s\n",
            "39:\tlearn: 0.3017038\ttotal: 164ms\tremaining: 1.29s\n",
            "40:\tlearn: 0.3013870\ttotal: 168ms\tremaining: 1.29s\n",
            "41:\tlearn: 0.3006189\ttotal: 172ms\tremaining: 1.28s\n",
            "42:\tlearn: 0.3001906\ttotal: 176ms\tremaining: 1.28s\n",
            "43:\tlearn: 0.3000294\ttotal: 180ms\tremaining: 1.28s\n",
            "44:\tlearn: 0.2998359\ttotal: 184ms\tremaining: 1.27s\n",
            "45:\tlearn: 0.2993446\ttotal: 188ms\tremaining: 1.27s\n",
            "46:\tlearn: 0.2990292\ttotal: 192ms\tremaining: 1.26s\n",
            "47:\tlearn: 0.2985418\ttotal: 196ms\tremaining: 1.26s\n",
            "48:\tlearn: 0.2982120\ttotal: 200ms\tremaining: 1.25s\n",
            "49:\tlearn: 0.2978758\ttotal: 204ms\tremaining: 1.25s\n",
            "50:\tlearn: 0.2975060\ttotal: 208ms\tremaining: 1.24s\n",
            "51:\tlearn: 0.2969295\ttotal: 211ms\tremaining: 1.24s\n",
            "52:\tlearn: 0.2966435\ttotal: 216ms\tremaining: 1.23s\n",
            "53:\tlearn: 0.2964106\ttotal: 220ms\tremaining: 1.23s\n",
            "54:\tlearn: 0.2959238\ttotal: 224ms\tremaining: 1.22s\n",
            "55:\tlearn: 0.2957017\ttotal: 228ms\tremaining: 1.22s\n",
            "56:\tlearn: 0.2954320\ttotal: 234ms\tremaining: 1.23s\n",
            "57:\tlearn: 0.2952565\ttotal: 238ms\tremaining: 1.22s\n",
            "58:\tlearn: 0.2950561\ttotal: 242ms\tremaining: 1.22s\n",
            "59:\tlearn: 0.2948498\ttotal: 246ms\tremaining: 1.21s\n",
            "60:\tlearn: 0.2937358\ttotal: 250ms\tremaining: 1.21s\n",
            "61:\tlearn: 0.2935725\ttotal: 254ms\tremaining: 1.21s\n",
            "62:\tlearn: 0.2931249\ttotal: 260ms\tremaining: 1.21s\n",
            "63:\tlearn: 0.2925706\ttotal: 264ms\tremaining: 1.21s\n",
            "64:\tlearn: 0.2924560\ttotal: 268ms\tremaining: 1.2s\n",
            "65:\tlearn: 0.2923277\ttotal: 274ms\tremaining: 1.2s\n",
            "66:\tlearn: 0.2920386\ttotal: 278ms\tremaining: 1.2s\n",
            "67:\tlearn: 0.2918959\ttotal: 282ms\tremaining: 1.19s\n",
            "68:\tlearn: 0.2914049\ttotal: 286ms\tremaining: 1.19s\n",
            "69:\tlearn: 0.2911102\ttotal: 290ms\tremaining: 1.19s\n",
            "70:\tlearn: 0.2908800\ttotal: 294ms\tremaining: 1.18s\n",
            "71:\tlearn: 0.2905628\ttotal: 298ms\tremaining: 1.18s\n",
            "72:\tlearn: 0.2901513\ttotal: 302ms\tremaining: 1.17s\n",
            "73:\tlearn: 0.2900251\ttotal: 306ms\tremaining: 1.17s\n",
            "74:\tlearn: 0.2898393\ttotal: 310ms\tremaining: 1.16s\n",
            "75:\tlearn: 0.2895018\ttotal: 315ms\tremaining: 1.16s\n",
            "76:\tlearn: 0.2893579\ttotal: 319ms\tremaining: 1.16s\n",
            "77:\tlearn: 0.2891248\ttotal: 323ms\tremaining: 1.15s\n",
            "78:\tlearn: 0.2885360\ttotal: 328ms\tremaining: 1.15s\n",
            "79:\tlearn: 0.2882976\ttotal: 333ms\tremaining: 1.15s\n",
            "80:\tlearn: 0.2880708\ttotal: 338ms\tremaining: 1.15s\n",
            "81:\tlearn: 0.2878197\ttotal: 342ms\tremaining: 1.14s\n",
            "82:\tlearn: 0.2870965\ttotal: 348ms\tremaining: 1.14s\n",
            "83:\tlearn: 0.2870527\ttotal: 352ms\tremaining: 1.14s\n",
            "84:\tlearn: 0.2869110\ttotal: 356ms\tremaining: 1.13s\n",
            "85:\tlearn: 0.2865468\ttotal: 360ms\tremaining: 1.13s\n",
            "86:\tlearn: 0.2863615\ttotal: 364ms\tremaining: 1.12s\n",
            "87:\tlearn: 0.2858770\ttotal: 368ms\tremaining: 1.12s\n",
            "88:\tlearn: 0.2856012\ttotal: 372ms\tremaining: 1.12s\n",
            "89:\tlearn: 0.2853990\ttotal: 376ms\tremaining: 1.11s\n",
            "90:\tlearn: 0.2850780\ttotal: 380ms\tremaining: 1.11s\n",
            "91:\tlearn: 0.2848983\ttotal: 384ms\tremaining: 1.1s\n",
            "92:\tlearn: 0.2842144\ttotal: 388ms\tremaining: 1.1s\n",
            "93:\tlearn: 0.2839816\ttotal: 393ms\tremaining: 1.09s\n",
            "94:\tlearn: 0.2837623\ttotal: 397ms\tremaining: 1.09s\n",
            "95:\tlearn: 0.2832151\ttotal: 401ms\tremaining: 1.08s\n",
            "96:\tlearn: 0.2830336\ttotal: 405ms\tremaining: 1.08s\n",
            "97:\tlearn: 0.2826989\ttotal: 409ms\tremaining: 1.08s\n",
            "98:\tlearn: 0.2825174\ttotal: 413ms\tremaining: 1.07s\n",
            "99:\tlearn: 0.2822408\ttotal: 418ms\tremaining: 1.07s\n",
            "100:\tlearn: 0.2820154\ttotal: 422ms\tremaining: 1.06s\n",
            "101:\tlearn: 0.2819017\ttotal: 426ms\tremaining: 1.06s\n",
            "102:\tlearn: 0.2817822\ttotal: 430ms\tremaining: 1.05s\n",
            "103:\tlearn: 0.2816120\ttotal: 434ms\tremaining: 1.05s\n",
            "104:\tlearn: 0.2815227\ttotal: 438ms\tremaining: 1.05s\n",
            "105:\tlearn: 0.2813366\ttotal: 442ms\tremaining: 1.04s\n",
            "106:\tlearn: 0.2812232\ttotal: 446ms\tremaining: 1.04s\n",
            "107:\tlearn: 0.2809462\ttotal: 450ms\tremaining: 1.03s\n",
            "108:\tlearn: 0.2808173\ttotal: 454ms\tremaining: 1.03s\n",
            "109:\tlearn: 0.2802337\ttotal: 458ms\tremaining: 1.02s\n",
            "110:\tlearn: 0.2800831\ttotal: 462ms\tremaining: 1.02s\n",
            "111:\tlearn: 0.2799291\ttotal: 466ms\tremaining: 1.02s\n",
            "112:\tlearn: 0.2797204\ttotal: 471ms\tremaining: 1.01s\n",
            "113:\tlearn: 0.2796111\ttotal: 475ms\tremaining: 1.01s\n",
            "114:\tlearn: 0.2794010\ttotal: 479ms\tremaining: 1s\n",
            "115:\tlearn: 0.2783122\ttotal: 483ms\tremaining: 999ms\n",
            "116:\tlearn: 0.2781490\ttotal: 487ms\tremaining: 995ms\n",
            "117:\tlearn: 0.2779653\ttotal: 492ms\tremaining: 992ms\n",
            "118:\tlearn: 0.2778546\ttotal: 496ms\tremaining: 987ms\n",
            "119:\tlearn: 0.2776708\ttotal: 500ms\tremaining: 983ms\n",
            "120:\tlearn: 0.2775640\ttotal: 506ms\tremaining: 982ms\n",
            "121:\tlearn: 0.2767159\ttotal: 510ms\tremaining: 978ms\n",
            "122:\tlearn: 0.2765513\ttotal: 514ms\tremaining: 974ms\n",
            "123:\tlearn: 0.2763668\ttotal: 518ms\tremaining: 969ms\n",
            "124:\tlearn: 0.2760361\ttotal: 522ms\tremaining: 965ms\n",
            "125:\tlearn: 0.2756222\ttotal: 526ms\tremaining: 961ms\n",
            "126:\tlearn: 0.2749759\ttotal: 532ms\tremaining: 960ms\n",
            "127:\tlearn: 0.2748102\ttotal: 536ms\tremaining: 956ms\n",
            "128:\tlearn: 0.2747027\ttotal: 541ms\tremaining: 951ms\n",
            "129:\tlearn: 0.2745510\ttotal: 544ms\tremaining: 946ms\n",
            "130:\tlearn: 0.2744042\ttotal: 548ms\tremaining: 942ms\n",
            "131:\tlearn: 0.2742627\ttotal: 553ms\tremaining: 938ms\n",
            "132:\tlearn: 0.2741280\ttotal: 556ms\tremaining: 933ms\n",
            "133:\tlearn: 0.2740617\ttotal: 560ms\tremaining: 929ms\n",
            "134:\tlearn: 0.2738197\ttotal: 565ms\tremaining: 925ms\n",
            "135:\tlearn: 0.2737600\ttotal: 569ms\tremaining: 920ms\n",
            "136:\tlearn: 0.2733390\ttotal: 573ms\tremaining: 916ms\n",
            "137:\tlearn: 0.2732132\ttotal: 577ms\tremaining: 911ms\n",
            "138:\tlearn: 0.2730832\ttotal: 581ms\tremaining: 907ms\n",
            "139:\tlearn: 0.2729317\ttotal: 585ms\tremaining: 902ms\n",
            "140:\tlearn: 0.2728110\ttotal: 589ms\tremaining: 898ms\n",
            "141:\tlearn: 0.2727451\ttotal: 593ms\tremaining: 893ms\n",
            "142:\tlearn: 0.2726216\ttotal: 597ms\tremaining: 889ms\n",
            "143:\tlearn: 0.2724756\ttotal: 601ms\tremaining: 884ms\n",
            "144:\tlearn: 0.2723864\ttotal: 605ms\tremaining: 880ms\n",
            "145:\tlearn: 0.2722401\ttotal: 609ms\tremaining: 876ms\n",
            "146:\tlearn: 0.2722093\ttotal: 613ms\tremaining: 871ms\n",
            "147:\tlearn: 0.2721051\ttotal: 619ms\tremaining: 870ms\n",
            "148:\tlearn: 0.2718786\ttotal: 623ms\tremaining: 866ms\n",
            "149:\tlearn: 0.2714743\ttotal: 628ms\tremaining: 862ms\n",
            "150:\tlearn: 0.2713429\ttotal: 634ms\tremaining: 860ms\n",
            "151:\tlearn: 0.2711602\ttotal: 638ms\tremaining: 856ms\n",
            "152:\tlearn: 0.2710607\ttotal: 642ms\tremaining: 852ms\n",
            "153:\tlearn: 0.2709085\ttotal: 646ms\tremaining: 848ms\n",
            "154:\tlearn: 0.2707681\ttotal: 651ms\tremaining: 844ms\n",
            "155:\tlearn: 0.2706047\ttotal: 655ms\tremaining: 839ms\n",
            "156:\tlearn: 0.2704689\ttotal: 659ms\tremaining: 835ms\n",
            "157:\tlearn: 0.2703968\ttotal: 663ms\tremaining: 831ms\n",
            "158:\tlearn: 0.2703073\ttotal: 667ms\tremaining: 826ms\n",
            "159:\tlearn: 0.2702031\ttotal: 670ms\tremaining: 821ms\n",
            "160:\tlearn: 0.2700801\ttotal: 675ms\tremaining: 817ms\n",
            "161:\tlearn: 0.2699800\ttotal: 679ms\tremaining: 813ms\n",
            "162:\tlearn: 0.2698198\ttotal: 683ms\tremaining: 808ms\n",
            "163:\tlearn: 0.2696755\ttotal: 687ms\tremaining: 804ms\n",
            "164:\tlearn: 0.2694387\ttotal: 691ms\tremaining: 799ms\n",
            "165:\tlearn: 0.2693009\ttotal: 696ms\tremaining: 797ms\n",
            "166:\tlearn: 0.2692538\ttotal: 701ms\tremaining: 793ms\n",
            "167:\tlearn: 0.2691670\ttotal: 705ms\tremaining: 789ms\n",
            "168:\tlearn: 0.2690524\ttotal: 709ms\tremaining: 785ms\n",
            "169:\tlearn: 0.2689426\ttotal: 713ms\tremaining: 781ms\n",
            "170:\tlearn: 0.2688331\ttotal: 718ms\tremaining: 777ms\n",
            "171:\tlearn: 0.2686666\ttotal: 723ms\tremaining: 774ms\n",
            "172:\tlearn: 0.2685650\ttotal: 728ms\tremaining: 770ms\n",
            "173:\tlearn: 0.2684585\ttotal: 734ms\tremaining: 768ms\n",
            "174:\tlearn: 0.2683534\ttotal: 739ms\tremaining: 764ms\n",
            "175:\tlearn: 0.2680360\ttotal: 743ms\tremaining: 760ms\n",
            "176:\tlearn: 0.2679487\ttotal: 747ms\tremaining: 756ms\n",
            "177:\tlearn: 0.2678726\ttotal: 751ms\tremaining: 751ms\n",
            "178:\tlearn: 0.2677495\ttotal: 756ms\tremaining: 747ms\n",
            "179:\tlearn: 0.2676716\ttotal: 759ms\tremaining: 743ms\n",
            "180:\tlearn: 0.2674981\ttotal: 763ms\tremaining: 738ms\n",
            "181:\tlearn: 0.2672626\ttotal: 768ms\tremaining: 734ms\n",
            "182:\tlearn: 0.2671639\ttotal: 771ms\tremaining: 729ms\n",
            "183:\tlearn: 0.2671185\ttotal: 777ms\tremaining: 726ms\n",
            "184:\tlearn: 0.2670174\ttotal: 780ms\tremaining: 721ms\n",
            "185:\tlearn: 0.2665982\ttotal: 784ms\tremaining: 717ms\n",
            "186:\tlearn: 0.2664952\ttotal: 789ms\tremaining: 713ms\n",
            "187:\tlearn: 0.2663916\ttotal: 793ms\tremaining: 708ms\n",
            "188:\tlearn: 0.2663067\ttotal: 797ms\tremaining: 704ms\n",
            "189:\tlearn: 0.2660278\ttotal: 801ms\tremaining: 700ms\n",
            "190:\tlearn: 0.2659371\ttotal: 805ms\tremaining: 695ms\n",
            "191:\tlearn: 0.2658273\ttotal: 809ms\tremaining: 691ms\n",
            "192:\tlearn: 0.2657019\ttotal: 813ms\tremaining: 686ms\n",
            "193:\tlearn: 0.2655721\ttotal: 817ms\tremaining: 682ms\n",
            "194:\tlearn: 0.2654871\ttotal: 821ms\tremaining: 678ms\n",
            "195:\tlearn: 0.2653870\ttotal: 825ms\tremaining: 673ms\n",
            "196:\tlearn: 0.2652982\ttotal: 829ms\tremaining: 669ms\n",
            "197:\tlearn: 0.2651895\ttotal: 833ms\tremaining: 665ms\n",
            "198:\tlearn: 0.2651125\ttotal: 837ms\tremaining: 660ms\n",
            "199:\tlearn: 0.2649912\ttotal: 840ms\tremaining: 656ms\n",
            "200:\tlearn: 0.2648449\ttotal: 844ms\tremaining: 651ms\n",
            "201:\tlearn: 0.2647292\ttotal: 848ms\tremaining: 647ms\n",
            "202:\tlearn: 0.2646095\ttotal: 852ms\tremaining: 642ms\n",
            "203:\tlearn: 0.2644974\ttotal: 856ms\tremaining: 638ms\n",
            "204:\tlearn: 0.2642202\ttotal: 860ms\tremaining: 634ms\n",
            "205:\tlearn: 0.2641420\ttotal: 864ms\tremaining: 629ms\n",
            "206:\tlearn: 0.2638720\ttotal: 868ms\tremaining: 625ms\n",
            "207:\tlearn: 0.2638137\ttotal: 872ms\tremaining: 620ms\n",
            "208:\tlearn: 0.2637310\ttotal: 882ms\tremaining: 620ms\n",
            "209:\tlearn: 0.2636206\ttotal: 895ms\tremaining: 622ms\n",
            "210:\tlearn: 0.2635297\ttotal: 902ms\tremaining: 620ms\n",
            "211:\tlearn: 0.2634408\ttotal: 906ms\tremaining: 616ms\n",
            "212:\tlearn: 0.2633735\ttotal: 910ms\tremaining: 611ms\n",
            "213:\tlearn: 0.2632668\ttotal: 915ms\tremaining: 607ms\n",
            "214:\tlearn: 0.2631934\ttotal: 919ms\tremaining: 602ms\n",
            "215:\tlearn: 0.2630640\ttotal: 923ms\tremaining: 598ms\n",
            "216:\tlearn: 0.2629806\ttotal: 927ms\tremaining: 594ms\n",
            "217:\tlearn: 0.2628989\ttotal: 931ms\tremaining: 589ms\n",
            "218:\tlearn: 0.2628175\ttotal: 937ms\tremaining: 586ms\n",
            "219:\tlearn: 0.2626923\ttotal: 942ms\tremaining: 582ms\n",
            "220:\tlearn: 0.2623424\ttotal: 946ms\tremaining: 578ms\n",
            "221:\tlearn: 0.2623112\ttotal: 950ms\tremaining: 573ms\n",
            "222:\tlearn: 0.2622226\ttotal: 955ms\tremaining: 569ms\n",
            "223:\tlearn: 0.2621406\ttotal: 959ms\tremaining: 565ms\n",
            "224:\tlearn: 0.2620838\ttotal: 962ms\tremaining: 560ms\n",
            "225:\tlearn: 0.2619657\ttotal: 966ms\tremaining: 556ms\n",
            "226:\tlearn: 0.2618968\ttotal: 970ms\tremaining: 551ms\n",
            "227:\tlearn: 0.2618140\ttotal: 975ms\tremaining: 547ms\n",
            "228:\tlearn: 0.2617104\ttotal: 979ms\tremaining: 543ms\n",
            "229:\tlearn: 0.2616663\ttotal: 982ms\tremaining: 538ms\n",
            "230:\tlearn: 0.2616368\ttotal: 986ms\tremaining: 534ms\n",
            "231:\tlearn: 0.2615855\ttotal: 990ms\tremaining: 529ms\n",
            "232:\tlearn: 0.2614888\ttotal: 994ms\tremaining: 525ms\n",
            "233:\tlearn: 0.2613903\ttotal: 998ms\tremaining: 520ms\n",
            "234:\tlearn: 0.2612986\ttotal: 1s\tremaining: 516ms\n",
            "235:\tlearn: 0.2611876\ttotal: 1.01s\tremaining: 512ms\n",
            "236:\tlearn: 0.2611627\ttotal: 1.01s\tremaining: 507ms\n",
            "237:\tlearn: 0.2609661\ttotal: 1.01s\tremaining: 503ms\n",
            "238:\tlearn: 0.2608508\ttotal: 1.02s\tremaining: 499ms\n",
            "239:\tlearn: 0.2607083\ttotal: 1.02s\tremaining: 495ms\n",
            "240:\tlearn: 0.2606542\ttotal: 1.03s\tremaining: 490ms\n",
            "241:\tlearn: 0.2606325\ttotal: 1.03s\tremaining: 486ms\n",
            "242:\tlearn: 0.2605994\ttotal: 1.03s\tremaining: 482ms\n",
            "243:\tlearn: 0.2604608\ttotal: 1.04s\tremaining: 477ms\n",
            "244:\tlearn: 0.2603827\ttotal: 1.04s\tremaining: 473ms\n",
            "245:\tlearn: 0.2602897\ttotal: 1.05s\tremaining: 469ms\n",
            "246:\tlearn: 0.2602288\ttotal: 1.05s\tremaining: 464ms\n",
            "247:\tlearn: 0.2601506\ttotal: 1.06s\tremaining: 460ms\n",
            "248:\tlearn: 0.2600492\ttotal: 1.06s\tremaining: 456ms\n",
            "249:\tlearn: 0.2599617\ttotal: 1.06s\tremaining: 452ms\n",
            "250:\tlearn: 0.2598835\ttotal: 1.07s\tremaining: 447ms\n",
            "251:\tlearn: 0.2598634\ttotal: 1.07s\tremaining: 443ms\n",
            "252:\tlearn: 0.2597727\ttotal: 1.08s\tremaining: 438ms\n",
            "253:\tlearn: 0.2597080\ttotal: 1.08s\tremaining: 435ms\n",
            "254:\tlearn: 0.2596337\ttotal: 1.09s\tremaining: 430ms\n",
            "255:\tlearn: 0.2595466\ttotal: 1.09s\tremaining: 426ms\n",
            "256:\tlearn: 0.2594329\ttotal: 1.09s\tremaining: 422ms\n",
            "257:\tlearn: 0.2593527\ttotal: 1.1s\tremaining: 418ms\n",
            "258:\tlearn: 0.2592517\ttotal: 1.1s\tremaining: 413ms\n",
            "259:\tlearn: 0.2591585\ttotal: 1.11s\tremaining: 409ms\n",
            "260:\tlearn: 0.2589540\ttotal: 1.11s\tremaining: 405ms\n",
            "261:\tlearn: 0.2588667\ttotal: 1.12s\tremaining: 401ms\n",
            "262:\tlearn: 0.2587791\ttotal: 1.12s\tremaining: 397ms\n",
            "263:\tlearn: 0.2586943\ttotal: 1.13s\tremaining: 392ms\n",
            "264:\tlearn: 0.2586395\ttotal: 1.13s\tremaining: 388ms\n",
            "265:\tlearn: 0.2585749\ttotal: 1.14s\tremaining: 385ms\n",
            "266:\tlearn: 0.2585038\ttotal: 1.14s\tremaining: 381ms\n",
            "267:\tlearn: 0.2584274\ttotal: 1.15s\tremaining: 377ms\n",
            "268:\tlearn: 0.2583611\ttotal: 1.15s\tremaining: 372ms\n",
            "269:\tlearn: 0.2583010\ttotal: 1.16s\tremaining: 368ms\n",
            "270:\tlearn: 0.2582773\ttotal: 1.16s\tremaining: 364ms\n",
            "271:\tlearn: 0.2582132\ttotal: 1.16s\tremaining: 360ms\n",
            "272:\tlearn: 0.2581955\ttotal: 1.17s\tremaining: 355ms\n",
            "273:\tlearn: 0.2581270\ttotal: 1.17s\tremaining: 351ms\n",
            "274:\tlearn: 0.2581044\ttotal: 1.18s\tremaining: 347ms\n",
            "275:\tlearn: 0.2580088\ttotal: 1.18s\tremaining: 343ms\n",
            "276:\tlearn: 0.2579464\ttotal: 1.19s\tremaining: 338ms\n",
            "277:\tlearn: 0.2578240\ttotal: 1.19s\tremaining: 334ms\n",
            "278:\tlearn: 0.2577449\ttotal: 1.2s\tremaining: 330ms\n",
            "279:\tlearn: 0.2576424\ttotal: 1.2s\tremaining: 326ms\n",
            "280:\tlearn: 0.2575759\ttotal: 1.2s\tremaining: 321ms\n",
            "281:\tlearn: 0.2574017\ttotal: 1.21s\tremaining: 317ms\n",
            "282:\tlearn: 0.2573314\ttotal: 1.21s\tremaining: 313ms\n",
            "283:\tlearn: 0.2572724\ttotal: 1.22s\tremaining: 309ms\n",
            "284:\tlearn: 0.2571880\ttotal: 1.22s\tremaining: 304ms\n",
            "285:\tlearn: 0.2570950\ttotal: 1.23s\tremaining: 300ms\n",
            "286:\tlearn: 0.2570495\ttotal: 1.23s\tremaining: 296ms\n",
            "287:\tlearn: 0.2569821\ttotal: 1.23s\tremaining: 291ms\n",
            "288:\tlearn: 0.2568854\ttotal: 1.24s\tremaining: 287ms\n",
            "289:\tlearn: 0.2568394\ttotal: 1.24s\tremaining: 283ms\n",
            "290:\tlearn: 0.2567549\ttotal: 1.25s\tremaining: 278ms\n",
            "291:\tlearn: 0.2566619\ttotal: 1.25s\tremaining: 274ms\n",
            "292:\tlearn: 0.2565559\ttotal: 1.25s\tremaining: 270ms\n",
            "293:\tlearn: 0.2564684\ttotal: 1.26s\tremaining: 265ms\n",
            "294:\tlearn: 0.2563785\ttotal: 1.26s\tremaining: 262ms\n",
            "295:\tlearn: 0.2562839\ttotal: 1.27s\tremaining: 257ms\n",
            "296:\tlearn: 0.2559269\ttotal: 1.27s\tremaining: 253ms\n",
            "297:\tlearn: 0.2558804\ttotal: 1.28s\tremaining: 249ms\n",
            "298:\tlearn: 0.2558095\ttotal: 1.28s\tremaining: 244ms\n",
            "299:\tlearn: 0.2557105\ttotal: 1.28s\tremaining: 240ms\n",
            "300:\tlearn: 0.2556134\ttotal: 1.29s\tremaining: 236ms\n",
            "301:\tlearn: 0.2554426\ttotal: 1.29s\tremaining: 231ms\n",
            "302:\tlearn: 0.2553178\ttotal: 1.3s\tremaining: 227ms\n",
            "303:\tlearn: 0.2552421\ttotal: 1.3s\tremaining: 223ms\n",
            "304:\tlearn: 0.2551976\ttotal: 1.3s\tremaining: 218ms\n",
            "305:\tlearn: 0.2551283\ttotal: 1.31s\tremaining: 214ms\n",
            "306:\tlearn: 0.2550289\ttotal: 1.31s\tremaining: 210ms\n",
            "307:\tlearn: 0.2549381\ttotal: 1.32s\tremaining: 205ms\n",
            "308:\tlearn: 0.2548598\ttotal: 1.32s\tremaining: 201ms\n",
            "309:\tlearn: 0.2547845\ttotal: 1.32s\tremaining: 197ms\n",
            "310:\tlearn: 0.2546522\ttotal: 1.33s\tremaining: 193ms\n",
            "311:\tlearn: 0.2545879\ttotal: 1.34s\tremaining: 189ms\n",
            "312:\tlearn: 0.2545008\ttotal: 1.34s\tremaining: 184ms\n",
            "313:\tlearn: 0.2544655\ttotal: 1.34s\tremaining: 180ms\n",
            "314:\tlearn: 0.2544051\ttotal: 1.35s\tremaining: 176ms\n",
            "315:\tlearn: 0.2543517\ttotal: 1.35s\tremaining: 171ms\n",
            "316:\tlearn: 0.2542749\ttotal: 1.36s\tremaining: 167ms\n",
            "317:\tlearn: 0.2541959\ttotal: 1.36s\tremaining: 163ms\n",
            "318:\tlearn: 0.2540935\ttotal: 1.36s\tremaining: 158ms\n",
            "319:\tlearn: 0.2540189\ttotal: 1.37s\tremaining: 154ms\n",
            "320:\tlearn: 0.2539875\ttotal: 1.37s\tremaining: 150ms\n",
            "321:\tlearn: 0.2539096\ttotal: 1.38s\tremaining: 145ms\n",
            "322:\tlearn: 0.2538016\ttotal: 1.38s\tremaining: 141ms\n",
            "323:\tlearn: 0.2537842\ttotal: 1.39s\tremaining: 137ms\n",
            "324:\tlearn: 0.2537393\ttotal: 1.39s\tremaining: 132ms\n",
            "325:\tlearn: 0.2536627\ttotal: 1.39s\tremaining: 128ms\n",
            "326:\tlearn: 0.2535067\ttotal: 1.4s\tremaining: 124ms\n",
            "327:\tlearn: 0.2534483\ttotal: 1.4s\tremaining: 120ms\n",
            "328:\tlearn: 0.2533958\ttotal: 1.4s\tremaining: 115ms\n",
            "329:\tlearn: 0.2533558\ttotal: 1.41s\tremaining: 111ms\n",
            "330:\tlearn: 0.2532862\ttotal: 1.41s\tremaining: 107ms\n",
            "331:\tlearn: 0.2532358\ttotal: 1.42s\tremaining: 102ms\n",
            "332:\tlearn: 0.2531697\ttotal: 1.42s\tremaining: 98.1ms\n",
            "333:\tlearn: 0.2531061\ttotal: 1.43s\tremaining: 93.9ms\n",
            "334:\tlearn: 0.2530583\ttotal: 1.43s\tremaining: 89.6ms\n",
            "335:\tlearn: 0.2529946\ttotal: 1.43s\tremaining: 85.3ms\n",
            "336:\tlearn: 0.2529039\ttotal: 1.44s\tremaining: 81ms\n",
            "337:\tlearn: 0.2528547\ttotal: 1.44s\tremaining: 76.8ms\n",
            "338:\tlearn: 0.2527828\ttotal: 1.45s\tremaining: 72.5ms\n",
            "339:\tlearn: 0.2527283\ttotal: 1.45s\tremaining: 68.2ms\n",
            "340:\tlearn: 0.2526773\ttotal: 1.45s\tremaining: 63.9ms\n",
            "341:\tlearn: 0.2525943\ttotal: 1.46s\tremaining: 59.7ms\n",
            "342:\tlearn: 0.2525125\ttotal: 1.46s\tremaining: 55.5ms\n",
            "343:\tlearn: 0.2524484\ttotal: 1.47s\tremaining: 51.2ms\n",
            "344:\tlearn: 0.2523649\ttotal: 1.47s\tremaining: 46.9ms\n",
            "345:\tlearn: 0.2523066\ttotal: 1.48s\tremaining: 42.7ms\n",
            "346:\tlearn: 0.2522326\ttotal: 1.48s\tremaining: 38.4ms\n",
            "347:\tlearn: 0.2521675\ttotal: 1.49s\tremaining: 34.2ms\n",
            "348:\tlearn: 0.2520902\ttotal: 1.49s\tremaining: 29.9ms\n",
            "349:\tlearn: 0.2520098\ttotal: 1.49s\tremaining: 25.6ms\n",
            "350:\tlearn: 0.2519266\ttotal: 1.5s\tremaining: 21.3ms\n",
            "351:\tlearn: 0.2518460\ttotal: 1.5s\tremaining: 17.1ms\n",
            "352:\tlearn: 0.2517794\ttotal: 1.51s\tremaining: 12.8ms\n",
            "353:\tlearn: 0.2517602\ttotal: 1.51s\tremaining: 8.53ms\n",
            "354:\tlearn: 0.2517135\ttotal: 1.51s\tremaining: 4.26ms\n",
            "355:\tlearn: 0.2516508\ttotal: 1.52s\tremaining: 0us\n",
            "CatBoost (Optuna-tuned) test accuracy: 0.8688\n"
          ]
        }
      ]
    },
    {
      "cell_type": "code",
      "source": [
        "def objective(trial):\n",
        "    param = {\n",
        "        'objective': 'binary',\n",
        "        'metric': 'binary_logloss',\n",
        "        'boosting_type': 'gbdt',\n",
        "        'random_state': 42,\n",
        "        'verbosity': -1,\n",
        "        'n_jobs': -1,\n",
        "        'max_depth': trial.suggest_int('max_depth', 3, 12),\n",
        "        'num_leaves': trial.suggest_int('num_leaves', 20, 150),\n",
        "        'learning_rate': trial.suggest_float('learning_rate', 0.01, 0.04, log=True),\n",
        "        'n_estimators': trial.suggest_int('n_estimators', 100, 500),\n",
        "        'min_child_samples': trial.suggest_int('min_child_samples', 5, 100),\n",
        "        'subsample': trial.suggest_float('subsample', 0.5, 1.0),\n",
        "        'colsample_bytree': trial.suggest_float('colsample_bytree', 0.5, 1.0),\n",
        "        'reg_alpha': trial.suggest_float('reg_alpha', 0.0, 10.0),\n",
        "        'reg_lambda': trial.suggest_float('reg_lambda', 0.0, 10.0),\n",
        "    }\n",
        "\n",
        "    model = LGBMClassifier(**param)\n",
        "    score = cross_val_score(model, X_train_proc, y_train_enc, cv=3, scoring='accuracy').mean()\n",
        "    return score\n",
        "\n",
        "study = optuna.create_study(direction='maximize')\n",
        "study.optimize(objective, n_trials=50)\n",
        "\n",
        "print(\"Best trial params:\", study.best_trial.params)\n",
        "print(\"Best CV accuracy:\", study.best_trial.value)\n",
        "\n",
        "best_lgbm = LGBMClassifier(**study.best_trial.params)\n",
        "best_lgbm.fit(X_train_proc, y_train_enc)\n",
        "test_score = best_lgbm.score(X_test_proc, y_test_enc)\n",
        "print(f\"LightGBM (Optuna-tuned) test accuracy: {test_score:.4f}\")\n",
        "\n",
        "results[\"LightGBM (Optuna)\"] = test_score"
      ],
      "metadata": {
        "colab": {
          "base_uri": "https://localhost:8080/"
        },
        "collapsed": true,
        "id": "sE6LqI26MfW4",
        "outputId": "7678f8f7-d8ac-4aac-f741-efc3936739fa"
      },
      "execution_count": null,
      "outputs": [
        {
          "output_type": "stream",
          "name": "stderr",
          "text": [
            "[I 2025-06-01 21:05:55,741] A new study created in memory with name: no-name-bdfb541e-6f20-4bbd-9868-547eb3109f1e\n",
            "[I 2025-06-01 21:05:56,956] Trial 0 finished with value: 0.8620477652387528 and parameters: {'max_depth': 6, 'num_leaves': 87, 'learning_rate': 0.02076642837785721, 'n_estimators': 169, 'min_child_samples': 28, 'subsample': 0.8613281371078998, 'colsample_bytree': 0.8374002695208245, 'reg_alpha': 5.532682261860434, 'reg_lambda': 7.822716853692434}. Best is trial 0 with value: 0.8620477652387528.\n",
            "[I 2025-06-01 21:06:00,340] Trial 1 finished with value: 0.8691514475189348 and parameters: {'max_depth': 10, 'num_leaves': 71, 'learning_rate': 0.015135706538246734, 'n_estimators': 406, 'min_child_samples': 66, 'subsample': 0.697447563707448, 'colsample_bytree': 0.8640508987559843, 'reg_alpha': 2.660000947949798, 'reg_lambda': 4.236876017944847}. Best is trial 1 with value: 0.8691514475189348.\n",
            "[I 2025-06-01 21:06:06,510] Trial 2 finished with value: 0.8670028324344673 and parameters: {'max_depth': 7, 'num_leaves': 41, 'learning_rate': 0.010750914301984799, 'n_estimators': 487, 'min_child_samples': 63, 'subsample': 0.6317580027185815, 'colsample_bytree': 0.7198463255905418, 'reg_alpha': 2.5197847495829273, 'reg_lambda': 3.642354479737009}. Best is trial 1 with value: 0.8691514475189348.\n",
            "[I 2025-06-01 21:06:07,656] Trial 3 finished with value: 0.8665642936457113 and parameters: {'max_depth': 4, 'num_leaves': 71, 'learning_rate': 0.033635198104312265, 'n_estimators': 354, 'min_child_samples': 38, 'subsample': 0.6228139270957269, 'colsample_bytree': 0.6899112097189168, 'reg_alpha': 9.64863156689992, 'reg_lambda': 5.235248846936665}. Best is trial 1 with value: 0.8691514475189348.\n",
            "[I 2025-06-01 21:06:08,437] Trial 4 finished with value: 0.8545055614760022 and parameters: {'max_depth': 3, 'num_leaves': 38, 'learning_rate': 0.01573854180618873, 'n_estimators': 274, 'min_child_samples': 33, 'subsample': 0.7505631398549475, 'colsample_bytree': 0.8789332068985747, 'reg_alpha': 5.700377351470203, 'reg_lambda': 8.026775580269748}. Best is trial 1 with value: 0.8691514475189348.\n",
            "[I 2025-06-01 21:06:09,438] Trial 5 finished with value: 0.8687129664174703 and parameters: {'max_depth': 8, 'num_leaves': 42, 'learning_rate': 0.03295585704579509, 'n_estimators': 195, 'min_child_samples': 46, 'subsample': 0.6722384985040327, 'colsample_bytree': 0.698420206109994, 'reg_alpha': 4.383444989384394, 'reg_lambda': 3.7682981735221843}. Best is trial 1 with value: 0.8691514475189348.\n",
            "[I 2025-06-01 21:06:11,994] Trial 6 finished with value: 0.8686252932720938 and parameters: {'max_depth': 7, 'num_leaves': 38, 'learning_rate': 0.028107087796647508, 'n_estimators': 355, 'min_child_samples': 56, 'subsample': 0.5949694526453301, 'colsample_bytree': 0.9596128558604204, 'reg_alpha': 4.863520219446725, 'reg_lambda': 9.327668832049197}. Best is trial 1 with value: 0.8691514475189348.\n",
            "[I 2025-06-01 21:06:12,577] Trial 7 finished with value: 0.8492874171568673 and parameters: {'max_depth': 3, 'num_leaves': 141, 'learning_rate': 0.010309821625499238, 'n_estimators': 187, 'min_child_samples': 64, 'subsample': 0.6316800159767777, 'colsample_bytree': 0.9488200019239799, 'reg_alpha': 6.86451547882919, 'reg_lambda': 4.173173138539763}. Best is trial 1 with value: 0.8691514475189348.\n",
            "[I 2025-06-01 21:06:13,461] Trial 8 finished with value: 0.8549002579233408 and parameters: {'max_depth': 4, 'num_leaves': 26, 'learning_rate': 0.012091326648619295, 'n_estimators': 268, 'min_child_samples': 57, 'subsample': 0.6448865910365127, 'colsample_bytree': 0.8692674706722578, 'reg_alpha': 7.634617040290593, 'reg_lambda': 3.0825371424020256}. Best is trial 1 with value: 0.8691514475189348.\n",
            "[I 2025-06-01 21:06:14,745] Trial 9 finished with value: 0.8630124640430786 and parameters: {'max_depth': 8, 'num_leaves': 146, 'learning_rate': 0.01164955470059367, 'n_estimators': 261, 'min_child_samples': 77, 'subsample': 0.8983938288938402, 'colsample_bytree': 0.839170801074091, 'reg_alpha': 6.501342943036907, 'reg_lambda': 5.501160129446855}. Best is trial 1 with value: 0.8691514475189348.\n",
            "[I 2025-06-01 21:06:18,141] Trial 10 finished with value: 0.8698092614707976 and parameters: {'max_depth': 12, 'num_leaves': 103, 'learning_rate': 0.018203283428208282, 'n_estimators': 496, 'min_child_samples': 100, 'subsample': 0.5120835595396052, 'colsample_bytree': 0.547335870473955, 'reg_alpha': 0.3287870055012583, 'reg_lambda': 0.3100873011395908}. Best is trial 10 with value: 0.8698092614707976.\n",
            "[I 2025-06-01 21:06:21,717] Trial 11 finished with value: 0.8692830091555616 and parameters: {'max_depth': 12, 'num_leaves': 104, 'learning_rate': 0.016851558214514, 'n_estimators': 488, 'min_child_samples': 100, 'subsample': 0.5229256631425578, 'colsample_bytree': 0.5200142866130915, 'reg_alpha': 0.030578930582876362, 'reg_lambda': 0.2776489628706682}. Best is trial 10 with value: 0.8698092614707976.\n",
            "[I 2025-06-01 21:06:26,101] Trial 12 finished with value: 0.8697653845170056 and parameters: {'max_depth': 12, 'num_leaves': 114, 'learning_rate': 0.019735520821659476, 'n_estimators': 492, 'min_child_samples': 100, 'subsample': 0.5111438219512004, 'colsample_bytree': 0.525720399227683, 'reg_alpha': 0.49602428722415154, 'reg_lambda': 0.04424529955573098}. Best is trial 10 with value: 0.8698092614707976.\n",
            "[I 2025-06-01 21:06:29,747] Trial 13 finished with value: 0.8697654248981096 and parameters: {'max_depth': 11, 'num_leaves': 111, 'learning_rate': 0.022123231161757014, 'n_estimators': 431, 'min_child_samples': 8, 'subsample': 0.5034433342618899, 'colsample_bytree': 0.5275079189017204, 'reg_alpha': 1.0704756657581496, 'reg_lambda': 0.01621995148519973}. Best is trial 10 with value: 0.8698092614707976.\n",
            "[I 2025-06-01 21:06:32,944] Trial 14 finished with value: 0.8710370835483771 and parameters: {'max_depth': 10, 'num_leaves': 114, 'learning_rate': 0.024967437948833562, 'n_estimators': 423, 'min_child_samples': 6, 'subsample': 0.9727139367537663, 'colsample_bytree': 0.6219457022302263, 'reg_alpha': 1.7745828437787576, 'reg_lambda': 1.8223817240334073}. Best is trial 14 with value: 0.8710370835483771.\n",
            "[I 2025-06-01 21:06:36,913] Trial 15 finished with value: 0.8709493469469803 and parameters: {'max_depth': 10, 'num_leaves': 129, 'learning_rate': 0.025340260485320322, 'n_estimators': 416, 'min_child_samples': 14, 'subsample': 0.9908539622373587, 'colsample_bytree': 0.6131312829992677, 'reg_alpha': 2.054925813659456, 'reg_lambda': 1.7236502724045524}. Best is trial 14 with value: 0.8710370835483771.\n",
            "[I 2025-06-01 21:06:39,926] Trial 16 finished with value: 0.8702915906824087 and parameters: {'max_depth': 10, 'num_leaves': 128, 'learning_rate': 0.02548289802934621, 'n_estimators': 418, 'min_child_samples': 11, 'subsample': 0.992143035818673, 'colsample_bytree': 0.6274428242960096, 'reg_alpha': 2.857896989119234, 'reg_lambda': 1.946298318130794}. Best is trial 14 with value: 0.8710370835483771.\n",
            "[I 2025-06-01 21:06:42,159] Trial 17 finished with value: 0.8704232042375977 and parameters: {'max_depth': 9, 'num_leaves': 130, 'learning_rate': 0.02671295402208144, 'n_estimators': 346, 'min_child_samples': 20, 'subsample': 0.9803340763010145, 'colsample_bytree': 0.6144891127590804, 'reg_alpha': 1.85078435467714, 'reg_lambda': 1.786454222305376}. Best is trial 14 with value: 0.8710370835483771.\n",
            "[I 2025-06-01 21:06:45,801] Trial 18 finished with value: 0.8690638089859332 and parameters: {'max_depth': 10, 'num_leaves': 88, 'learning_rate': 0.03993916840577971, 'n_estimators': 392, 'min_child_samples': 20, 'subsample': 0.9089201472797175, 'colsample_bytree': 0.6155916592100219, 'reg_alpha': 3.653916529181322, 'reg_lambda': 1.7579162968541255}. Best is trial 14 with value: 0.8710370835483771.\n",
            "[I 2025-06-01 21:06:46,615] Trial 19 finished with value: 0.865292646532902 and parameters: {'max_depth': 9, 'num_leaves': 125, 'learning_rate': 0.023584279566148086, 'n_estimators': 100, 'min_child_samples': 6, 'subsample': 0.8055188711369125, 'colsample_bytree': 0.7516482758008995, 'reg_alpha': 1.6306099439591617, 'reg_lambda': 2.5626575103024525}. Best is trial 14 with value: 0.8710370835483771.\n",
            "[I 2025-06-01 21:06:49,346] Trial 20 finished with value: 0.8699407884950497 and parameters: {'max_depth': 9, 'num_leaves': 148, 'learning_rate': 0.02994510895731716, 'n_estimators': 441, 'min_child_samples': 20, 'subsample': 0.9417356876330668, 'colsample_bytree': 0.5844195903431918, 'reg_alpha': 3.550074853958505, 'reg_lambda': 1.2959117032772327}. Best is trial 14 with value: 0.8710370835483771.\n",
            "[I 2025-06-01 21:06:51,550] Trial 21 finished with value: 0.8714318030706322 and parameters: {'max_depth': 9, 'num_leaves': 131, 'learning_rate': 0.026001219532295946, 'n_estimators': 340, 'min_child_samples': 19, 'subsample': 0.9922238813266987, 'colsample_bytree': 0.6409939155734243, 'reg_alpha': 1.8890249490075894, 'reg_lambda': 1.320683483444843}. Best is trial 21 with value: 0.8714318030706322.\n",
            "[I 2025-06-01 21:06:54,158] Trial 22 finished with value: 0.8712125279075251 and parameters: {'max_depth': 11, 'num_leaves': 135, 'learning_rate': 0.024022094368684486, 'n_estimators': 323, 'min_child_samples': 15, 'subsample': 0.9441917552538536, 'colsample_bytree': 0.6610162161439556, 'reg_alpha': 1.5053571264242893, 'reg_lambda': 1.070822535722792}. Best is trial 21 with value: 0.8714318030706322.\n",
            "[I 2025-06-01 21:06:57,444] Trial 23 finished with value: 0.8705985620658087 and parameters: {'max_depth': 11, 'num_leaves': 120, 'learning_rate': 0.030077560899406986, 'n_estimators': 320, 'min_child_samples': 26, 'subsample': 0.8334160833424653, 'colsample_bytree': 0.666378851503134, 'reg_alpha': 3.629581711447278, 'reg_lambda': 1.2170227723258493}. Best is trial 21 with value: 0.8714318030706322.\n",
            "[I 2025-06-01 21:06:59,646] Trial 24 finished with value: 0.8710809201210653 and parameters: {'max_depth': 11, 'num_leaves': 136, 'learning_rate': 0.023433824473404728, 'n_estimators': 310, 'min_child_samples': 41, 'subsample': 0.939296194412506, 'colsample_bytree': 0.745031781517014, 'reg_alpha': 1.1349871289312103, 'reg_lambda': 2.628222015669168}. Best is trial 21 with value: 0.8714318030706322.\n",
            "[I 2025-06-01 21:07:01,844] Trial 25 finished with value: 0.8709055103742921 and parameters: {'max_depth': 11, 'num_leaves': 139, 'learning_rate': 0.022129589833164657, 'n_estimators': 305, 'min_child_samples': 44, 'subsample': 0.9301500116926972, 'colsample_bytree': 0.771158672634523, 'reg_alpha': 0.6399912004328911, 'reg_lambda': 2.8336050801262562}. Best is trial 21 with value: 0.8714318030706322.\n",
            "[I 2025-06-01 21:07:03,581] Trial 26 finished with value: 0.8663889012051257 and parameters: {'max_depth': 11, 'num_leaves': 135, 'learning_rate': 0.013744620473263865, 'n_estimators': 232, 'min_child_samples': 32, 'subsample': 0.872881354581391, 'colsample_bytree': 0.7840150605267844, 'reg_alpha': 1.1911621125731662, 'reg_lambda': 6.231916218481586}. Best is trial 21 with value: 0.8714318030706322.\n",
            "[I 2025-06-01 21:07:05,657] Trial 27 finished with value: 0.8702477483409914 and parameters: {'max_depth': 9, 'num_leaves': 150, 'learning_rate': 0.01918820713644145, 'n_estimators': 324, 'min_child_samples': 40, 'subsample': 0.7853650189794004, 'colsample_bytree': 0.6636861693248717, 'reg_alpha': 1.1151536292593418, 'reg_lambda': 0.7054145348912253}. Best is trial 21 with value: 0.8714318030706322.\n",
            "[I 2025-06-01 21:07:08,373] Trial 28 finished with value: 0.8714755704185708 and parameters: {'max_depth': 6, 'num_leaves': 97, 'learning_rate': 0.03582870340064889, 'n_estimators': 367, 'min_child_samples': 16, 'subsample': 0.9406473741919024, 'colsample_bytree': 0.8002805242391742, 'reg_alpha': 3.056645515663123, 'reg_lambda': 2.675131013511281}. Best is trial 28 with value: 0.8714755704185708.\n",
            "[I 2025-06-01 21:07:09,855] Trial 29 finished with value: 0.8712123779205676 and parameters: {'max_depth': 5, 'num_leaves': 90, 'learning_rate': 0.03764246491593047, 'n_estimators': 376, 'min_child_samples': 27, 'subsample': 0.868968772170582, 'colsample_bytree': 0.8025600005846075, 'reg_alpha': 3.1911120241816233, 'reg_lambda': 0.9759910688049968}. Best is trial 28 with value: 0.8714755704185708.\n",
            "[I 2025-06-01 21:07:10,957] Trial 30 finished with value: 0.8682745199283805 and parameters: {'max_depth': 6, 'num_leaves': 97, 'learning_rate': 0.0350427654196407, 'n_estimators': 236, 'min_child_samples': 19, 'subsample': 0.8290503138469352, 'colsample_bytree': 0.9193728231558556, 'reg_alpha': 4.133709076318782, 'reg_lambda': 7.131137059282466}. Best is trial 28 with value: 0.8714755704185708.\n",
            "[I 2025-06-01 21:07:12,455] Trial 31 finished with value: 0.8706862928984763 and parameters: {'max_depth': 5, 'num_leaves': 74, 'learning_rate': 0.03847600790573018, 'n_estimators': 378, 'min_child_samples': 27, 'subsample': 0.8767071801533787, 'colsample_bytree': 0.8090135604536898, 'reg_alpha': 2.973195166768999, 'reg_lambda': 1.0608789678494015}. Best is trial 28 with value: 0.8714755704185708.\n",
            "[I 2025-06-01 21:07:14,159] Trial 32 finished with value: 0.8716509801653439 and parameters: {'max_depth': 6, 'num_leaves': 87, 'learning_rate': 0.03614048883115736, 'n_estimators': 366, 'min_child_samples': 15, 'subsample': 0.957072977097706, 'colsample_bytree': 0.8172572843032946, 'reg_alpha': 2.4171004221508112, 'reg_lambda': 2.3356152326601}. Best is trial 32 with value: 0.8716509801653439.\n",
            "[I 2025-06-01 21:07:15,751] Trial 33 finished with value: 0.8712563240991095 and parameters: {'max_depth': 6, 'num_leaves': 61, 'learning_rate': 0.030630243960818745, 'n_estimators': 344, 'min_child_samples': 14, 'subsample': 0.9504577239622605, 'colsample_bytree': 0.7295675605897802, 'reg_alpha': 2.304781203065846, 'reg_lambda': 2.364090512770282}. Best is trial 32 with value: 0.8716509801653439.\n",
            "[I 2025-06-01 21:07:17,310] Trial 34 finished with value: 0.8714755531123833 and parameters: {'max_depth': 6, 'num_leaves': 61, 'learning_rate': 0.030923652882821107, 'n_estimators': 348, 'min_child_samples': 14, 'subsample': 0.955888435475508, 'colsample_bytree': 0.7264841153858317, 'reg_alpha': 2.367423247713918, 'reg_lambda': 3.715634848737727}. Best is trial 32 with value: 0.8716509801653439.\n",
            "[I 2025-06-01 21:07:20,763] Trial 35 finished with value: 0.8713878915044653 and parameters: {'max_depth': 7, 'num_leaves': 61, 'learning_rate': 0.03514260585074144, 'n_estimators': 463, 'min_child_samples': 24, 'subsample': 0.9221195375604454, 'colsample_bytree': 0.8325674312513058, 'reg_alpha': 2.4808299930534705, 'reg_lambda': 3.4470112621247617}. Best is trial 32 with value: 0.8716509801653439.\n",
            "[I 2025-06-01 21:07:22,190] Trial 36 finished with value: 0.8688445626664718 and parameters: {'max_depth': 5, 'num_leaves': 76, 'learning_rate': 0.032194219164831575, 'n_estimators': 373, 'min_child_samples': 34, 'subsample': 0.9673627474580145, 'colsample_bytree': 0.708525416848268, 'reg_alpha': 4.5840877531602615, 'reg_lambda': 4.867658835405567}. Best is trial 32 with value: 0.8716509801653439.\n",
            "[I 2025-06-01 21:07:23,377] Trial 37 finished with value: 0.8648980481539588 and parameters: {'max_depth': 6, 'num_leaves': 62, 'learning_rate': 0.028032496577322638, 'n_estimators': 286, 'min_child_samples': 82, 'subsample': 0.7168831231422245, 'colsample_bytree': 0.7658767167909948, 'reg_alpha': 9.815312307845545, 'reg_lambda': 4.755182810579113}. Best is trial 32 with value: 0.8716509801653439.\n",
            "[I 2025-06-01 21:07:25,462] Trial 38 finished with value: 0.8700284731778843 and parameters: {'max_depth': 7, 'num_leaves': 50, 'learning_rate': 0.03486282932848289, 'n_estimators': 395, 'min_child_samples': 11, 'subsample': 0.8897323154206785, 'colsample_bytree': 0.8924561493837283, 'reg_alpha': 5.512477826590882, 'reg_lambda': 3.906493399364294}. Best is trial 32 with value: 0.8716509801653439.\n",
            "[I 2025-06-01 21:07:26,996] Trial 39 finished with value: 0.8681867775582545 and parameters: {'max_depth': 4, 'num_leaves': 82, 'learning_rate': 0.0368989207879469, 'n_estimators': 456, 'min_child_samples': 32, 'subsample': 0.9643254865880514, 'colsample_bytree': 0.8295666043897969, 'reg_alpha': 8.871297416858564, 'reg_lambda': 3.239723920594239}. Best is trial 32 with value: 0.8716509801653439.\n",
            "[I 2025-06-01 21:07:28,925] Trial 40 finished with value: 0.8710370662421897 and parameters: {'max_depth': 8, 'num_leaves': 96, 'learning_rate': 0.031845425243020684, 'n_estimators': 358, 'min_child_samples': 49, 'subsample': 0.9990485510661394, 'colsample_bytree': 0.6794232811821543, 'reg_alpha': 4.157932061582911, 'reg_lambda': 4.620284690450029}. Best is trial 32 with value: 0.8716509801653439.\n",
            "[I 2025-06-01 21:07:32,219] Trial 41 finished with value: 0.8714756050309456 and parameters: {'max_depth': 7, 'num_leaves': 62, 'learning_rate': 0.03438936993461361, 'n_estimators': 459, 'min_child_samples': 23, 'subsample': 0.9167765611776736, 'colsample_bytree': 0.8243016635806555, 'reg_alpha': 2.4457531632276446, 'reg_lambda': 3.4662256241735596}. Best is trial 32 with value: 0.8716509801653439.\n",
            "[I 2025-06-01 21:07:33,794] Trial 42 finished with value: 0.8711685874977126 and parameters: {'max_depth': 6, 'num_leaves': 51, 'learning_rate': 0.028390874970029796, 'n_estimators': 337, 'min_child_samples': 17, 'subsample': 0.9050416224134201, 'colsample_bytree': 0.8656620086843786, 'reg_alpha': 2.4911234796927095, 'reg_lambda': 4.285127940559917}. Best is trial 32 with value: 0.8716509801653439.\n",
            "[I 2025-06-01 21:07:35,266] Trial 43 finished with value: 0.8708178372289157 and parameters: {'max_depth': 7, 'num_leaves': 68, 'learning_rate': 0.033458990594666685, 'n_estimators': 288, 'min_child_samples': 24, 'subsample': 0.9168039056261621, 'colsample_bytree': 0.7912281567955743, 'reg_alpha': 3.348840688061766, 'reg_lambda': 3.501471495932206}. Best is trial 32 with value: 0.8716509801653439.\n",
            "[I 2025-06-01 21:07:37,684] Trial 44 finished with value: 0.8690638435983079 and parameters: {'max_depth': 8, 'num_leaves': 82, 'learning_rate': 0.03738787098262722, 'n_estimators': 365, 'min_child_samples': 9, 'subsample': 0.8411389457194128, 'colsample_bytree': 0.8985764985345095, 'reg_alpha': 2.734781015212618, 'reg_lambda': 2.2490504041233343}. Best is trial 32 with value: 0.8716509801653439.\n",
            "[I 2025-06-01 21:07:39,269] Trial 45 finished with value: 0.8680114312675018 and parameters: {'max_depth': 5, 'num_leaves': 52, 'learning_rate': 0.028788456921528514, 'n_estimators': 399, 'min_child_samples': 34, 'subsample': 0.9533355622121851, 'colsample_bytree': 0.8468129284557139, 'reg_alpha': 5.364209280119152, 'reg_lambda': 5.3801379114883785}. Best is trial 32 with value: 0.8716509801653439.\n",
            "[I 2025-06-01 21:07:42,252] Trial 46 finished with value: 0.8723086960488117 and parameters: {'max_depth': 6, 'num_leaves': 20, 'learning_rate': 0.03214566689683165, 'n_estimators': 470, 'min_child_samples': 5, 'subsample': 0.8506336536396039, 'colsample_bytree': 0.989816083092693, 'reg_alpha': 2.1402332177851786, 'reg_lambda': 3.0301461286134366}. Best is trial 46 with value: 0.8723086960488117.\n",
            "[I 2025-06-01 21:07:44,461] Trial 47 finished with value: 0.8703355022485756 and parameters: {'max_depth': 6, 'num_leaves': 28, 'learning_rate': 0.03588158648818015, 'n_estimators': 473, 'min_child_samples': 12, 'subsample': 0.7628136841271892, 'colsample_bytree': 0.9863601936333787, 'reg_alpha': 3.907570970007944, 'reg_lambda': 2.9652722600488213}. Best is trial 46 with value: 0.8723086960488117.\n",
            "[I 2025-06-01 21:07:45,943] Trial 48 finished with value: 0.8679236369788136 and parameters: {'max_depth': 4, 'num_leaves': 33, 'learning_rate': 0.032709050197705196, 'n_estimators': 434, 'min_child_samples': 5, 'subsample': 0.8507807745266784, 'colsample_bytree': 0.921632851893055, 'reg_alpha': 2.2017964964990133, 'reg_lambda': 9.900724902439332}. Best is trial 46 with value: 0.8723086960488117.\n",
            "[I 2025-06-01 21:07:48,119] Trial 49 finished with value: 0.8702039290744906 and parameters: {'max_depth': 7, 'num_leaves': 104, 'learning_rate': 0.03891772761854402, 'n_estimators': 442, 'min_child_samples': 75, 'subsample': 0.8007153671682006, 'colsample_bytree': 0.9860368734246735, 'reg_alpha': 3.12906976084426, 'reg_lambda': 3.8191733169198243}. Best is trial 46 with value: 0.8723086960488117.\n"
          ]
        },
        {
          "output_type": "stream",
          "name": "stdout",
          "text": [
            "Best trial params: {'max_depth': 6, 'num_leaves': 20, 'learning_rate': 0.03214566689683165, 'n_estimators': 470, 'min_child_samples': 5, 'subsample': 0.8506336536396039, 'colsample_bytree': 0.989816083092693, 'reg_alpha': 2.1402332177851786, 'reg_lambda': 3.0301461286134366}\n",
            "Best CV accuracy: 0.8723086960488117\n",
            "LightGBM (Optuna-tuned) test accuracy: 0.8729\n"
          ]
        }
      ]
    },
    {
      "cell_type": "code",
      "source": [
        "for model_name, accuracy in sorted(results.items(), key=lambda x: x[1], reverse=True):\n",
        "    print(f\"{model_name}: {accuracy:.4f}\")"
      ],
      "metadata": {
        "colab": {
          "base_uri": "https://localhost:8080/"
        },
        "id": "WlQgAFb5NO7B",
        "outputId": "96f43dd8-d0b2-4fe0-d40f-5313ab74ebf9"
      },
      "execution_count": null,
      "outputs": [
        {
          "output_type": "stream",
          "name": "stdout",
          "text": [
            "LightGBM (Optuna): 0.8729\n",
            "LightGBM: 0.8725\n",
            "CatBoost: 0.8712\n",
            "Stacking Classifier: 0.8712\n",
            "Voting Classifier: 0.8700\n",
            "CatBoost (Optuna): 0.8688\n",
            "XGBoost: 0.8684\n",
            "Gradient Boosting: 0.8628\n",
            "Random Forest: 0.8508\n",
            "SVM (RBF kernel): 0.8420\n",
            "K-Nearest Neighbors: 0.8297\n",
            "MLP: 0.8225\n",
            "Decision Tree: 0.8131\n",
            "Logistic Regression: 0.8018\n",
            "Dummy Classifier: 0.7593\n",
            "Naive Bayes: 0.6344\n"
          ]
        }
      ]
    },
    {
      "cell_type": "markdown",
      "source": [
        "###Кросс-валидация"
      ],
      "metadata": {
        "id": "o7x6Px66VVf1"
      }
    },
    {
      "cell_type": "code",
      "source": [
        "from sklearn.model_selection import StratifiedKFold, cross_val_score\n",
        "\n",
        "def cross_validate_models(models_dict, X, y, cv=5, scoring='accuracy'):\n",
        "    skf = StratifiedKFold(n_splits=cv, shuffle=True, random_state=42)\n",
        "    results_cv = {}\n",
        "\n",
        "    if hasattr(X, \"toarray\"):\n",
        "        X = X.toarray()\n",
        "\n",
        "    for name, model in models_dict.items():\n",
        "        scores = cross_val_score(model, X, y, cv=skf, scoring=scoring, n_jobs=-1)\n",
        "        results_cv[name] = scores\n",
        "        print(f\"{name} CV {scoring}: {scores.mean():.4f} ± {scores.std():.4f}\")\n",
        "    return results_cv\n",
        "\n",
        "# Использование:\n",
        "models_cv = {\n",
        "    \"LightGBM (Optuna)\": best_lgbm,\n",
        "    \"LightGBM\": LGBMClassifier(random_state=42),\n",
        "    \"CatBoost\": CatBoostClassifier(verbose=0, random_state=42),\n",
        "    \"Stacking Classifier\": stacking_clf,\n",
        "    \"Voting Classifier\": voting_clf\n",
        "    }\n",
        "\n",
        "cv_results = cross_validate_models(models_cv, X_train_proc, y_train_enc, cv=5, scoring='accuracy')"
      ],
      "metadata": {
        "colab": {
          "base_uri": "https://localhost:8080/"
        },
        "id": "-uqkwCgxVaVv",
        "outputId": "857aadcf-d416-4113-c81c-b1102adb08e2"
      },
      "execution_count": null,
      "outputs": [
        {
          "output_type": "stream",
          "name": "stdout",
          "text": [
            "LightGBM (Optuna) CV accuracy: 0.8727 ± 0.0054\n",
            "LightGBM CV accuracy: 0.8738 ± 0.0041\n",
            "CatBoost CV accuracy: 0.8725 ± 0.0058\n",
            "Stacking Classifier CV accuracy: 0.8721 ± 0.0053\n",
            "Voting Classifier CV accuracy: 0.8739 ± 0.0051\n"
          ]
        }
      ]
    },
    {
      "cell_type": "markdown",
      "source": [
        "####Кривые обучения"
      ],
      "metadata": {
        "id": "rn1JwZeIX4j3"
      }
    },
    {
      "cell_type": "code",
      "source": [
        "%matplotlib inline"
      ],
      "metadata": {
        "id": "9klPuVYMYMFq"
      },
      "execution_count": null,
      "outputs": []
    },
    {
      "cell_type": "code",
      "source": [
        "from sklearn.model_selection import learning_curve\n",
        "\n",
        "\n",
        "def plot_learning_curves(models_dict, X, y):\n",
        "    models = {k: v for k, v in models_dict.items() if k != \"Stacking Classifier\"}\n",
        "    plt.figure(figsize=(18, 12))\n",
        "\n",
        "    for i, (name, model) in enumerate(models.items(), 1):\n",
        "        print(f\"Plotting learning curve for: {name}\")\n",
        "        plt.subplot(2, 3, i)\n",
        "        train_sizes, train_scores, val_scores = learning_curve(\n",
        "            model, X, y,\n",
        "            cv=3,\n",
        "            train_sizes=np.linspace(0.1, 1.0, 5),\n",
        "            scoring='accuracy',\n",
        "            n_jobs=-1,\n",
        "            shuffle=True,\n",
        "            random_state=42\n",
        "        )\n",
        "        train_scores_mean = np.mean(train_scores, axis=1)\n",
        "        val_scores_mean = np.mean(val_scores, axis=1)\n",
        "\n",
        "        plt.plot(train_sizes, train_scores_mean, label=\"Train\", marker='o')\n",
        "        plt.plot(train_sizes, val_scores_mean, label=\"Validation\", marker='s')\n",
        "        plt.title(name)\n",
        "        plt.xlabel(\"Training Set Size\")\n",
        "        plt.ylabel(\"Accuracy\")\n",
        "        plt.grid(True)\n",
        "        plt.legend()\n",
        "        plt.tight_layout()\n",
        "        plt.show()\n",
        "\n",
        "\n",
        "plot_learning_curves(models_cv, X_train_proc, y_train_enc)"
      ],
      "metadata": {
        "colab": {
          "base_uri": "https://localhost:8080/",
          "height": 1000
        },
        "id": "usuMQeB2X8zn",
        "outputId": "713b3df0-d856-4b43-dcd8-730869def6bf"
      },
      "execution_count": null,
      "outputs": [
        {
          "output_type": "stream",
          "name": "stdout",
          "text": [
            "Plotting learning curve for: LightGBM (Optuna)\n"
          ]
        },
        {
          "output_type": "display_data",
          "data": {
            "text/plain": [
              "<Figure size 1800x1200 with 1 Axes>"
            ],
            "image/png": "[encoded data removed]"
          },
          "metadata": {}
        },
        {
          "output_type": "stream",
          "name": "stdout",
          "text": [
            "Plotting learning curve for: LightGBM\n"
          ]
        },
        {
          "output_type": "display_data",
          "data": {
            "text/plain": [
              "<Figure size 640x480 with 1 Axes>"
            ],
            "image/png": "[encoded data removed]"
          },
          "metadata": {}
        },
        {
          "output_type": "stream",
          "name": "stdout",
          "text": [
            "Plotting learning curve for: CatBoost\n"
          ]
        },
        {
          "output_type": "display_data",
          "data": {
            "text/plain": [
              "<Figure size 640x480 with 1 Axes>"
            ],
            "image/png": "[encoded data removed]"
          },
          "metadata": {}
        },
        {
          "output_type": "stream",
          "name": "stdout",
          "text": [
            "Plotting learning curve for: Voting Classifier\n"
          ]
        },
        {
          "output_type": "display_data",
          "data": {
            "text/plain": [
              "<Figure size 640x480 with 1 Axes>"
            ],
            "image/png": "[encoded data removed]"
          },
          "metadata": {}
        }
      ]
    },
    {
      "cell_type": "markdown",
      "source": [
        "####Метрики"
      ],
      "metadata": {
        "id": "Kqnq7xRpb8iJ"
      }
    },
    {
      "cell_type": "code",
      "source": [
        "from sklearn.metrics import accuracy_score, precision_score, recall_score, f1_score, roc_auc_score, log_loss, confusion_matrix\n",
        "\n",
        "\n",
        "def print_metrics_and_confusion_matrix(models_dict, X, y_true):\n",
        "    for name, model in models_dict.items():\n",
        "        # предсказания и вероятности\n",
        "        y_pred = model.predict(X)\n",
        "        y_proba = model.predict_proba(X)[:, 1] if hasattr(model, \"predict_proba\") else None\n",
        "\n",
        "        # метрики\n",
        "        accuracy = accuracy_score(y_true, y_pred)\n",
        "        precision = precision_score(y_true, y_pred)\n",
        "        recall = recall_score(y_true, y_pred)\n",
        "        f1 = f1_score(y_true, y_pred)\n",
        "        roc_auc = roc_auc_score(y_true, y_proba) if y_proba is not None else None\n",
        "        logloss = log_loss(y_true, y_proba) if y_proba is not None else None\n",
        "\n",
        "        print(f\"--- {name} ---\")\n",
        "        print(f\"Accuracy:  {accuracy:.4f}\")\n",
        "        print(f\"Precision: {precision:.4f}\")\n",
        "        print(f\"Recall:    {recall:.4f}\")\n",
        "        print(f\"F1-score:  {f1:.4f}\")\n",
        "        if roc_auc is not None:\n",
        "            print(f\"ROC AUC:   {roc_auc:.4f}\")\n",
        "        if logloss is not None:\n",
        "            print(f\"Log Loss:  {logloss:.4f}\")\n",
        "\n",
        "        # матрица ошибок\n",
        "        cm = confusion_matrix(y_true, y_pred)\n",
        "        plt.figure(figsize=(4, 3))\n",
        "        sns.heatmap(cm, annot=True, fmt='d', cmap='Blues', cbar=False)\n",
        "        plt.title(f'Confusion Matrix: {name}')\n",
        "        plt.xlabel('Predicted')\n",
        "        plt.ylabel('Actual')\n",
        "        plt.show()\n",
        "\n",
        "print_metrics_and_confusion_matrix(models_cv, X_test_proc, y_test_enc)"
      ],
      "metadata": {
        "colab": {
          "base_uri": "https://localhost:8080/",
          "height": 1000
        },
        "id": "3FCVwGHNb95-",
        "outputId": "552e01c0-5230-4f3e-b70b-6a745909d1af"
      },
      "execution_count": null,
      "outputs": [
        {
          "output_type": "stream",
          "name": "stdout",
          "text": [
            "--- LightGBM (Optuna) ---\n",
            "Accuracy:  0.8729\n",
            "Precision: 0.7840\n",
            "Recall:    0.6514\n",
            "F1-score:  0.7116\n",
            "ROC AUC:   0.9234\n",
            "Log Loss:  0.2868\n"
          ]
        },
        {
          "output_type": "display_data",
          "data": {
            "text/plain": [
              "<Figure size 400x300 with 1 Axes>"
            ],
            "image/png": "[encoded data removed]"
          },
          "metadata": {}
        },
        {
          "output_type": "stream",
          "name": "stdout",
          "text": [
            "--- LightGBM ---\n",
            "Accuracy:  0.8725\n",
            "Precision: 0.7824\n",
            "Recall:    0.6514\n",
            "F1-score:  0.7109\n",
            "ROC AUC:   0.9234\n",
            "Log Loss:  0.2869\n"
          ]
        },
        {
          "output_type": "display_data",
          "data": {
            "text/plain": [
              "<Figure size 400x300 with 1 Axes>"
            ],
            "image/png": "[encoded data removed]"
          },
          "metadata": {}
        },
        {
          "output_type": "stream",
          "name": "stdout",
          "text": [
            "--- CatBoost ---\n",
            "Accuracy:  0.8712\n",
            "Precision: 0.7777\n",
            "Recall:    0.6514\n",
            "F1-score:  0.7089\n",
            "ROC AUC:   0.9232\n",
            "Log Loss:  0.2873\n"
          ]
        },
        {
          "output_type": "display_data",
          "data": {
            "text/plain": [
              "<Figure size 400x300 with 1 Axes>"
            ],
            "image/png": "[encoded data removed]"
          },
          "metadata": {}
        },
        {
          "output_type": "stream",
          "name": "stdout",
          "text": [
            "--- Stacking Classifier ---\n",
            "Accuracy:  0.8712\n",
            "Precision: 0.7749\n",
            "Recall:    0.6556\n",
            "F1-score:  0.7103\n",
            "ROC AUC:   0.9214\n",
            "Log Loss:  0.2931\n"
          ]
        },
        {
          "output_type": "display_data",
          "data": {
            "text/plain": [
              "<Figure size 400x300 with 1 Axes>"
            ],
            "image/png": "[encoded data removed]"
          },
          "metadata": {}
        },
        {
          "output_type": "stream",
          "name": "stdout",
          "text": [
            "--- Voting Classifier ---\n",
            "Accuracy:  0.8700\n",
            "Precision: 0.7780\n",
            "Recall:    0.6437\n",
            "F1-score:  0.7045\n",
            "ROC AUC:   0.9231\n",
            "Log Loss:  0.2869\n"
          ]
        },
        {
          "output_type": "display_data",
          "data": {
            "text/plain": [
              "<Figure size 400x300 with 1 Axes>"
            ],
            "image/png": "[encoded data removed]"
          },
          "metadata": {}
        }
      ]
    },
    {
      "cell_type": "markdown",
      "source": [
        "##Сохранение лучшей модели"
      ],
      "metadata": {
        "id": "nF2yzFt6dpbe"
      }
    },
    {
      "cell_type": "markdown",
      "source": [
        "####Обучение финальной модели на лучших параметрах"
      ],
      "metadata": {
        "id": "Wqf_DcH7duE2"
      }
    },
    {
      "cell_type": "code",
      "source": [
        "best_lgbm = LGBMClassifier(**study.best_trial.params)\n",
        "best_lgbm.fit(X_train_proc, y_train_enc)"
      ],
      "metadata": {
        "colab": {
          "base_uri": "https://localhost:8080/",
          "height": 150
        },
        "id": "uZXQHy1HdsSn",
        "outputId": "20bc3bc5-36d0-40d3-9b5b-df136ad335db"
      },
      "execution_count": null,
      "outputs": [
        {
          "output_type": "execute_result",
          "data": {
            "text/plain": [
              "LGBMClassifier(colsample_bytree=0.989816083092693,\n",
              "               learning_rate=0.03214566689683165, max_depth=6,\n",
              "               min_child_samples=5, n_estimators=470, num_leaves=20,\n",
              "               reg_alpha=2.1402332177851786, reg_lambda=3.0301461286134366,\n",
              "               subsample=0.8506336536396039)"
            ],
            "text/html": [
              "<style>#sk-container-id-2 {\n",
              "  /* Definition of color scheme common for light and dark mode */\n",
              "  --sklearn-color-text: #000;\n",
              "  --sklearn-color-text-muted: #666;\n",
              "  --sklearn-color-line: gray;\n",
              "  /* Definition of color scheme for unfitted estimators */\n",
              "  --sklearn-color-unfitted-level-0: #fff5e6;\n",
              "  --sklearn-color-unfitted-level-1: #f6e4d2;\n",
              "  --sklearn-color-unfitted-level-2: #ffe0b3;\n",
              "  --sklearn-color-unfitted-level-3: chocolate;\n",
              "  /* Definition of color scheme for fitted estimators */\n",
              "  --sklearn-color-fitted-level-0: #f0f8ff;\n",
              "  --sklearn-color-fitted-level-1: #d4ebff;\n",
              "  --sklearn-color-fitted-level-2: #b3dbfd;\n",
              "  --sklearn-color-fitted-level-3: cornflowerblue;\n",
              "\n",
              "  /* Specific color for light theme */\n",
              "  --sklearn-color-text-on-default-background: var(--sg-text-color, var(--theme-code-foreground, var(--jp-content-font-color1, black)));\n",
              "  --sklearn-color-background: var(--sg-background-color, var(--theme-background, var(--jp-layout-color0, white)));\n",
              "  --sklearn-color-border-box: var(--sg-text-color, var(--theme-code-foreground, var(--jp-content-font-color1, black)));\n",
              "  --sklearn-color-icon: #696969;\n",
              "\n",
              "  @media (prefers-color-scheme: dark) {\n",
              "    /* Redefinition of color scheme for dark theme */\n",
              "    --sklearn-color-text-on-default-background: var(--sg-text-color, var(--theme-code-foreground, var(--jp-content-font-color1, white)));\n",
              "    --sklearn-color-background: var(--sg-background-color, var(--theme-background, var(--jp-layout-color0, #111)));\n",
              "    --sklearn-color-border-box: var(--sg-text-color, var(--theme-code-foreground, var(--jp-content-font-color1, white)));\n",
              "    --sklearn-color-icon: #878787;\n",
              "  }\n",
              "}\n",
              "\n",
              "#sk-container-id-2 {\n",
              "  color: var(--sklearn-color-text);\n",
              "}\n",
              "\n",
              "#sk-container-id-2 pre {\n",
              "  padding: 0;\n",
              "}\n",
              "\n",
              "#sk-container-id-2 input.sk-hidden--visually {\n",
              "  border: 0;\n",
              "  clip: rect(1px 1px 1px 1px);\n",
              "  clip: rect(1px, 1px, 1px, 1px);\n",
              "  height: 1px;\n",
              "  margin: -1px;\n",
              "  overflow: hidden;\n",
              "  padding: 0;\n",
              "  position: absolute;\n",
              "  width: 1px;\n",
              "}\n",
              "\n",
              "#sk-container-id-2 div.sk-dashed-wrapped {\n",
              "  border: 1px dashed var(--sklearn-color-line);\n",
              "  margin: 0 0.4em 0.5em 0.4em;\n",
              "  box-sizing: border-box;\n",
              "  padding-bottom: 0.4em;\n",
              "  background-color: var(--sklearn-color-background);\n",
              "}\n",
              "\n",
              "#sk-container-id-2 div.sk-container {\n",
              "  /* jupyter's `normalize.less` sets `[hidden] { display: none; }`\n",
              "     but bootstrap.min.css set `[hidden] { display: none !important; }`\n",
              "     so we also need the `!important` here to be able to override the\n",
              "     default hidden behavior on the sphinx rendered scikit-learn.org.\n",
              "     See: https://github.com/scikit-learn/scikit-learn/issues/21755 */\n",
              "  display: inline-block !important;\n",
              "  position: relative;\n",
              "}\n",
              "\n",
              "#sk-container-id-2 div.sk-text-repr-fallback {\n",
              "  display: none;\n",
              "}\n",
              "\n",
              "div.sk-parallel-item,\n",
              "div.sk-serial,\n",
              "div.sk-item {\n",
              "  /* draw centered vertical line to link estimators */\n",
              "  background-image: linear-gradient(var(--sklearn-color-text-on-default-background), var(--sklearn-color-text-on-default-background));\n",
              "  background-size: 2px 100%;\n",
              "  background-repeat: no-repeat;\n",
              "  background-position: center center;\n",
              "}\n",
              "\n",
              "/* Parallel-specific style estimator block */\n",
              "\n",
              "#sk-container-id-2 div.sk-parallel-item::after {\n",
              "  content: \"\";\n",
              "  width: 100%;\n",
              "  border-bottom: 2px solid var(--sklearn-color-text-on-default-background);\n",
              "  flex-grow: 1;\n",
              "}\n",
              "\n",
              "#sk-container-id-2 div.sk-parallel {\n",
              "  display: flex;\n",
              "  align-items: stretch;\n",
              "  justify-content: center;\n",
              "  background-color: var(--sklearn-color-background);\n",
              "  position: relative;\n",
              "}\n",
              "\n",
              "#sk-container-id-2 div.sk-parallel-item {\n",
              "  display: flex;\n",
              "  flex-direction: column;\n",
              "}\n",
              "\n",
              "#sk-container-id-2 div.sk-parallel-item:first-child::after {\n",
              "  align-self: flex-end;\n",
              "  width: 50%;\n",
              "}\n",
              "\n",
              "#sk-container-id-2 div.sk-parallel-item:last-child::after {\n",
              "  align-self: flex-start;\n",
              "  width: 50%;\n",
              "}\n",
              "\n",
              "#sk-container-id-2 div.sk-parallel-item:only-child::after {\n",
              "  width: 0;\n",
              "}\n",
              "\n",
              "/* Serial-specific style estimator block */\n",
              "\n",
              "#sk-container-id-2 div.sk-serial {\n",
              "  display: flex;\n",
              "  flex-direction: column;\n",
              "  align-items: center;\n",
              "  background-color: var(--sklearn-color-background);\n",
              "  padding-right: 1em;\n",
              "  padding-left: 1em;\n",
              "}\n",
              "\n",
              "\n",
              "/* Toggleable style: style used for estimator/Pipeline/ColumnTransformer box that is\n",
              "clickable and can be expanded/collapsed.\n",
              "- Pipeline and ColumnTransformer use this feature and define the default style\n",
              "- Estimators will overwrite some part of the style using the `sk-estimator` class\n",
              "*/\n",
              "\n",
              "/* Pipeline and ColumnTransformer style (default) */\n",
              "\n",
              "#sk-container-id-2 div.sk-toggleable {\n",
              "  /* Default theme specific background. It is overwritten whether we have a\n",
              "  specific estimator or a Pipeline/ColumnTransformer */\n",
              "  background-color: var(--sklearn-color-background);\n",
              "}\n",
              "\n",
              "/* Toggleable label */\n",
              "#sk-container-id-2 label.sk-toggleable__label {\n",
              "  cursor: pointer;\n",
              "  display: flex;\n",
              "  width: 100%;\n",
              "  margin-bottom: 0;\n",
              "  padding: 0.5em;\n",
              "  box-sizing: border-box;\n",
              "  text-align: center;\n",
              "  align-items: start;\n",
              "  justify-content: space-between;\n",
              "  gap: 0.5em;\n",
              "}\n",
              "\n",
              "#sk-container-id-2 label.sk-toggleable__label .caption {\n",
              "  font-size: 0.6rem;\n",
              "  font-weight: lighter;\n",
              "  color: var(--sklearn-color-text-muted);\n",
              "}\n",
              "\n",
              "#sk-container-id-2 label.sk-toggleable__label-arrow:before {\n",
              "  /* Arrow on the left of the label */\n",
              "  content: \"▸\";\n",
              "  float: left;\n",
              "  margin-right: 0.25em;\n",
              "  color: var(--sklearn-color-icon);\n",
              "}\n",
              "\n",
              "#sk-container-id-2 label.sk-toggleable__label-arrow:hover:before {\n",
              "  color: var(--sklearn-color-text);\n",
              "}\n",
              "\n",
              "/* Toggleable content - dropdown */\n",
              "\n",
              "#sk-container-id-2 div.sk-toggleable__content {\n",
              "  max-height: 0;\n",
              "  max-width: 0;\n",
              "  overflow: hidden;\n",
              "  text-align: left;\n",
              "  /* unfitted */\n",
              "  background-color: var(--sklearn-color-unfitted-level-0);\n",
              "}\n",
              "\n",
              "#sk-container-id-2 div.sk-toggleable__content.fitted {\n",
              "  /* fitted */\n",
              "  background-color: var(--sklearn-color-fitted-level-0);\n",
              "}\n",
              "\n",
              "#sk-container-id-2 div.sk-toggleable__content pre {\n",
              "  margin: 0.2em;\n",
              "  border-radius: 0.25em;\n",
              "  color: var(--sklearn-color-text);\n",
              "  /* unfitted */\n",
              "  background-color: var(--sklearn-color-unfitted-level-0);\n",
              "}\n",
              "\n",
              "#sk-container-id-2 div.sk-toggleable__content.fitted pre {\n",
              "  /* unfitted */\n",
              "  background-color: var(--sklearn-color-fitted-level-0);\n",
              "}\n",
              "\n",
              "#sk-container-id-2 input.sk-toggleable__control:checked~div.sk-toggleable__content {\n",
              "  /* Expand drop-down */\n",
              "  max-height: 200px;\n",
              "  max-width: 100%;\n",
              "  overflow: auto;\n",
              "}\n",
              "\n",
              "#sk-container-id-2 input.sk-toggleable__control:checked~label.sk-toggleable__label-arrow:before {\n",
              "  content: \"▾\";\n",
              "}\n",
              "\n",
              "/* Pipeline/ColumnTransformer-specific style */\n",
              "\n",
              "#sk-container-id-2 div.sk-label input.sk-toggleable__control:checked~label.sk-toggleable__label {\n",
              "  color: var(--sklearn-color-text);\n",
              "  background-color: var(--sklearn-color-unfitted-level-2);\n",
              "}\n",
              "\n",
              "#sk-container-id-2 div.sk-label.fitted input.sk-toggleable__control:checked~label.sk-toggleable__label {\n",
              "  background-color: var(--sklearn-color-fitted-level-2);\n",
              "}\n",
              "\n",
              "/* Estimator-specific style */\n",
              "\n",
              "/* Colorize estimator box */\n",
              "#sk-container-id-2 div.sk-estimator input.sk-toggleable__control:checked~label.sk-toggleable__label {\n",
              "  /* unfitted */\n",
              "  background-color: var(--sklearn-color-unfitted-level-2);\n",
              "}\n",
              "\n",
              "#sk-container-id-2 div.sk-estimator.fitted input.sk-toggleable__control:checked~label.sk-toggleable__label {\n",
              "  /* fitted */\n",
              "  background-color: var(--sklearn-color-fitted-level-2);\n",
              "}\n",
              "\n",
              "#sk-container-id-2 div.sk-label label.sk-toggleable__label,\n",
              "#sk-container-id-2 div.sk-label label {\n",
              "  /* The background is the default theme color */\n",
              "  color: var(--sklearn-color-text-on-default-background);\n",
              "}\n",
              "\n",
              "/* On hover, darken the color of the background */\n",
              "#sk-container-id-2 div.sk-label:hover label.sk-toggleable__label {\n",
              "  color: var(--sklearn-color-text);\n",
              "  background-color: var(--sklearn-color-unfitted-level-2);\n",
              "}\n",
              "\n",
              "/* Label box, darken color on hover, fitted */\n",
              "#sk-container-id-2 div.sk-label.fitted:hover label.sk-toggleable__label.fitted {\n",
              "  color: var(--sklearn-color-text);\n",
              "  background-color: var(--sklearn-color-fitted-level-2);\n",
              "}\n",
              "\n",
              "/* Estimator label */\n",
              "\n",
              "#sk-container-id-2 div.sk-label label {\n",
              "  font-family: monospace;\n",
              "  font-weight: bold;\n",
              "  display: inline-block;\n",
              "  line-height: 1.2em;\n",
              "}\n",
              "\n",
              "#sk-container-id-2 div.sk-label-container {\n",
              "  text-align: center;\n",
              "}\n",
              "\n",
              "/* Estimator-specific */\n",
              "#sk-container-id-2 div.sk-estimator {\n",
              "  font-family: monospace;\n",
              "  border: 1px dotted var(--sklearn-color-border-box);\n",
              "  border-radius: 0.25em;\n",
              "  box-sizing: border-box;\n",
              "  margin-bottom: 0.5em;\n",
              "  /* unfitted */\n",
              "  background-color: var(--sklearn-color-unfitted-level-0);\n",
              "}\n",
              "\n",
              "#sk-container-id-2 div.sk-estimator.fitted {\n",
              "  /* fitted */\n",
              "  background-color: var(--sklearn-color-fitted-level-0);\n",
              "}\n",
              "\n",
              "/* on hover */\n",
              "#sk-container-id-2 div.sk-estimator:hover {\n",
              "  /* unfitted */\n",
              "  background-color: var(--sklearn-color-unfitted-level-2);\n",
              "}\n",
              "\n",
              "#sk-container-id-2 div.sk-estimator.fitted:hover {\n",
              "  /* fitted */\n",
              "  background-color: var(--sklearn-color-fitted-level-2);\n",
              "}\n",
              "\n",
              "/* Specification for estimator info (e.g. \"i\" and \"?\") */\n",
              "\n",
              "/* Common style for \"i\" and \"?\" */\n",
              "\n",
              ".sk-estimator-doc-link,\n",
              "a:link.sk-estimator-doc-link,\n",
              "a:visited.sk-estimator-doc-link {\n",
              "  float: right;\n",
              "  font-size: smaller;\n",
              "  line-height: 1em;\n",
              "  font-family: monospace;\n",
              "  background-color: var(--sklearn-color-background);\n",
              "  border-radius: 1em;\n",
              "  height: 1em;\n",
              "  width: 1em;\n",
              "  text-decoration: none !important;\n",
              "  margin-left: 0.5em;\n",
              "  text-align: center;\n",
              "  /* unfitted */\n",
              "  border: var(--sklearn-color-unfitted-level-1) 1pt solid;\n",
              "  color: var(--sklearn-color-unfitted-level-1);\n",
              "}\n",
              "\n",
              ".sk-estimator-doc-link.fitted,\n",
              "a:link.sk-estimator-doc-link.fitted,\n",
              "a:visited.sk-estimator-doc-link.fitted {\n",
              "  /* fitted */\n",
              "  border: var(--sklearn-color-fitted-level-1) 1pt solid;\n",
              "  color: var(--sklearn-color-fitted-level-1);\n",
              "}\n",
              "\n",
              "/* On hover */\n",
              "div.sk-estimator:hover .sk-estimator-doc-link:hover,\n",
              ".sk-estimator-doc-link:hover,\n",
              "div.sk-label-container:hover .sk-estimator-doc-link:hover,\n",
              ".sk-estimator-doc-link:hover {\n",
              "  /* unfitted */\n",
              "  background-color: var(--sklearn-color-unfitted-level-3);\n",
              "  color: var(--sklearn-color-background);\n",
              "  text-decoration: none;\n",
              "}\n",
              "\n",
              "div.sk-estimator.fitted:hover .sk-estimator-doc-link.fitted:hover,\n",
              ".sk-estimator-doc-link.fitted:hover,\n",
              "div.sk-label-container:hover .sk-estimator-doc-link.fitted:hover,\n",
              ".sk-estimator-doc-link.fitted:hover {\n",
              "  /* fitted */\n",
              "  background-color: var(--sklearn-color-fitted-level-3);\n",
              "  color: var(--sklearn-color-background);\n",
              "  text-decoration: none;\n",
              "}\n",
              "\n",
              "/* Span, style for the box shown on hovering the info icon */\n",
              ".sk-estimator-doc-link span {\n",
              "  display: none;\n",
              "  z-index: 9999;\n",
              "  position: relative;\n",
              "  font-weight: normal;\n",
              "  right: .2ex;\n",
              "  padding: .5ex;\n",
              "  margin: .5ex;\n",
              "  width: min-content;\n",
              "  min-width: 20ex;\n",
              "  max-width: 50ex;\n",
              "  color: var(--sklearn-color-text);\n",
              "  box-shadow: 2pt 2pt 4pt #999;\n",
              "  /* unfitted */\n",
              "  background: var(--sklearn-color-unfitted-level-0);\n",
              "  border: .5pt solid var(--sklearn-color-unfitted-level-3);\n",
              "}\n",
              "\n",
              ".sk-estimator-doc-link.fitted span {\n",
              "  /* fitted */\n",
              "  background: var(--sklearn-color-fitted-level-0);\n",
              "  border: var(--sklearn-color-fitted-level-3);\n",
              "}\n",
              "\n",
              ".sk-estimator-doc-link:hover span {\n",
              "  display: block;\n",
              "}\n",
              "\n",
              "/* \"?\"-specific style due to the `<a>` HTML tag */\n",
              "\n",
              "#sk-container-id-2 a.estimator_doc_link {\n",
              "  float: right;\n",
              "  font-size: 1rem;\n",
              "  line-height: 1em;\n",
              "  font-family: monospace;\n",
              "  background-color: var(--sklearn-color-background);\n",
              "  border-radius: 1rem;\n",
              "  height: 1rem;\n",
              "  width: 1rem;\n",
              "  text-decoration: none;\n",
              "  /* unfitted */\n",
              "  color: var(--sklearn-color-unfitted-level-1);\n",
              "  border: var(--sklearn-color-unfitted-level-1) 1pt solid;\n",
              "}\n",
              "\n",
              "#sk-container-id-2 a.estimator_doc_link.fitted {\n",
              "  /* fitted */\n",
              "  border: var(--sklearn-color-fitted-level-1) 1pt solid;\n",
              "  color: var(--sklearn-color-fitted-level-1);\n",
              "}\n",
              "\n",
              "/* On hover */\n",
              "#sk-container-id-2 a.estimator_doc_link:hover {\n",
              "  /* unfitted */\n",
              "  background-color: var(--sklearn-color-unfitted-level-3);\n",
              "  color: var(--sklearn-color-background);\n",
              "  text-decoration: none;\n",
              "}\n",
              "\n",
              "#sk-container-id-2 a.estimator_doc_link.fitted:hover {\n",
              "  /* fitted */\n",
              "  background-color: var(--sklearn-color-fitted-level-3);\n",
              "}\n",
              "</style><div id=\"sk-container-id-2\" class=\"sk-top-container\"><div class=\"sk-text-repr-fallback\"><pre>LGBMClassifier(colsample_bytree=0.989816083092693,\n",
              "               learning_rate=0.03214566689683165, max_depth=6,\n",
              "               min_child_samples=5, n_estimators=470, num_leaves=20,\n",
              "               reg_alpha=2.1402332177851786, reg_lambda=3.0301461286134366,\n",
              "               subsample=0.8506336536396039)</pre><b>In a Jupyter environment, please rerun this cell to show the HTML representation or trust the notebook. <br />On GitHub, the HTML representation is unable to render, please try loading this page with nbviewer.org.</b></div><div class=\"sk-container\" hidden><div class=\"sk-item\"><div class=\"sk-estimator fitted sk-toggleable\"><input class=\"sk-toggleable__control sk-hidden--visually\" id=\"sk-estimator-id-11\" type=\"checkbox\" checked><label for=\"sk-estimator-id-11\" class=\"sk-toggleable__label fitted sk-toggleable__label-arrow\"><div><div>LGBMClassifier</div></div><div><span class=\"sk-estimator-doc-link fitted\">i<span>Fitted</span></span></div></label><div class=\"sk-toggleable__content fitted\"><pre>LGBMClassifier(colsample_bytree=0.989816083092693,\n",
              "               learning_rate=0.03214566689683165, max_depth=6,\n",
              "               min_child_samples=5, n_estimators=470, num_leaves=20,\n",
              "               reg_alpha=2.1402332177851786, reg_lambda=3.0301461286134366,\n",
              "               subsample=0.8506336536396039)</pre></div> </div></div></div></div>"
            ]
          },
          "metadata": {},
          "execution_count": 88
        }
      ]
    },
    {
      "cell_type": "markdown",
      "source": [
        "####Сохранение"
      ],
      "metadata": {
        "id": "7vPIj8iQdwoV"
      }
    },
    {
      "cell_type": "code",
      "source": [
        "import joblib\n",
        "\n",
        "joblib.dump(best_lgbm, 'lightgbm_optuna_model.pkl')\n",
        "joblib.dump(preprocessor, 'preprocessor.pkl')\n",
        "joblib.dump(label_encoder, 'label_encoder.pkl')"
      ],
      "metadata": {
        "colab": {
          "base_uri": "https://localhost:8080/"
        },
        "id": "Szk5Z2Pod0K7",
        "outputId": "f425b84c-d1a4-495e-b576-d184ffb7d50f"
      },
      "execution_count": null,
      "outputs": [
        {
          "output_type": "execute_result",
          "data": {
            "text/plain": [
              "['lightgbm_optuna_model.pkl']"
            ]
          },
          "metadata": {},
          "execution_count": 89
        }
      ]
    },
    {
      "cell_type": "code",
      "source": [
        "pip freeze > requirements.txt"
      ],
      "metadata": {
        "id": "YmAROkH9Ax3X"
      },
      "execution_count": null,
      "outputs": []
    },
    {
      "cell_type": "code",
      "source": [
        "import joblib"
      ],
      "metadata": {
        "id": "VF0uwvRWBG-G"
      },
      "execution_count": null,
      "outputs": []
    }
  ]
}